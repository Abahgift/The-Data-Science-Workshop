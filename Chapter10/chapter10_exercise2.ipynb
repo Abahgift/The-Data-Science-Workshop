{
  "nbformat": 4,
  "nbformat_minor": 0,
  "metadata": {
    "colab": {
      "name": "chapter10-exercise2.ipynb",
      "provenance": [],
      "collapsed_sections": []
    },
    "kernelspec": {
      "name": "python3",
      "display_name": "Python 3"
    }
  },
  "cells": [
    {
      "cell_type": "markdown",
      "metadata": {
        "id": "_1cdDR1mNAqH",
        "colab_type": "text"
      },
      "source": [
        "#Exercise 2: Visualise Ames housing dataset with Altair\n",
        "In this exercise, we will learn how to get a better understanding of a dataset and the relationship between variables using data visualisation techniques.\n",
        "The dataset used for this exercise is the Ames Housing dataset compiled by Dean De Cock: http://www.amstat.org/publications/jse/v19n3/decock.pdf"
      ]
    },
    {
      "cell_type": "markdown",
      "metadata": {
        "id": "BEd8KR6LNXZK",
        "colab_type": "text"
      },
      "source": [
        "1. Open on a new Colab notebook and import the pandas and altair packages"
      ]
    },
    {
      "cell_type": "code",
      "metadata": {
        "id": "lPeZ4zc4NZ3G",
        "colab_type": "code",
        "colab": {}
      },
      "source": [
        "import pandas as pd\n",
        "import altair as alt"
      ],
      "execution_count": 0,
      "outputs": []
    },
    {
      "cell_type": "markdown",
      "metadata": {
        "id": "TXNAgCdSNfVg",
        "colab_type": "text"
      },
      "source": [
        "2. Assign the link to the AMES dataset to a variable called 'file_url':"
      ]
    },
    {
      "cell_type": "code",
      "metadata": {
        "id": "aPjMg_BfNjk7",
        "colab_type": "code",
        "colab": {}
      },
      "source": [
        "file_url = 'https://raw.githubusercontent.com/TrainingByPackt/The-Data-Science-Workshop/master/Chapter10/dataset/ames_iowa_housing.csv'"
      ],
      "execution_count": 0,
      "outputs": []
    },
    {
      "cell_type": "markdown",
      "metadata": {
        "id": "EkVvV_DTOmiZ",
        "colab_type": "text"
      },
      "source": [
        "3. Using the read_csv method from the package pandas, load the dataset into a new variable called 'df':"
      ]
    },
    {
      "cell_type": "code",
      "metadata": {
        "id": "6ynf1L9mOm0p",
        "colab_type": "code",
        "colab": {}
      },
      "source": [
        "df = pd.read_csv(file_url)"
      ],
      "execution_count": 0,
      "outputs": []
    },
    {
      "cell_type": "markdown",
      "metadata": {
        "id": "sKo-dn-0O-KZ",
        "colab_type": "text"
      },
      "source": [
        "4. Plot the histogram for the variable 'SalePrice' using the mark_bar() and encode() methods from altair package. Use the alt.X and alt.Bin API to specify the number of bin step: 50000:"
      ]
    },
    {
      "cell_type": "code",
      "metadata": {
        "id": "HBrQ-CWkPEjz",
        "colab_type": "code",
        "outputId": "089ac33a-56c2-4ca0-c305-132a863ef441",
        "colab": {
          "base_uri": "https://localhost:8080/",
          "height": 368
        }
      },
      "source": [
        "alt.Chart(df).mark_bar().encode(\n",
        "    alt.X(\"SalePrice:Q\", bin=alt.Bin(step=50000)), \n",
        "    y='count()'\n",
        ")"
      ],
      "execution_count": 0,
      "outputs": []
    },
    {
      "cell_type": "markdown",
      "metadata": {
        "id": "2d9Z18IEAUXq",
        "colab_type": "text"
      },
      "source": [
        "This chart shows us most of the properties have a sale price centered around 100k - 150k. There are also few outliers with high sale price over 500k. "
      ]
    },
    {
      "cell_type": "markdown",
      "metadata": {
        "id": "KSVXd4prPR9V",
        "colab_type": "text"
      },
      "source": [
        "5. Now let's plot the histogram for 'LotArea' but this time with a bin step size of 10000:"
      ]
    },
    {
      "cell_type": "code",
      "metadata": {
        "id": "_TPQ-tfOPWo4",
        "colab_type": "code",
        "outputId": "8e40b8be-b3e3-4e1b-dba9-46bfe2ec23f2",
        "colab": {
          "base_uri": "https://localhost:8080/",
          "height": 368
        }
      },
      "source": [
        "alt.Chart(df).mark_bar().encode(\n",
        "    alt.X(\"LotArea:Q\", bin=alt.Bin(step=10000)), \n",
        "    y='count()'\n",
        ")"
      ],
      "execution_count": 0,
      "outputs": []
    },
    {
      "cell_type": "markdown",
      "metadata": {
        "id": "vf62JNFxBIu-",
        "colab_type": "text"
      },
      "source": [
        "'LotArea' has a totally different distribution compared to 'SalePrice'. Most of the observations are between 0 and 20,000. The rest of the observations represents a small proportion of the dataset. We can also notice some extreme outliers over 150,000."
      ]
    },
    {
      "cell_type": "markdown",
      "metadata": {
        "id": "yZc_Tk9aou__",
        "colab_type": "text"
      },
      "source": [
        "6. Plot a scatter plot with 'LotArea' as the x-axis and 'SalePrice' as y-axis to understand the interactions between these 2 variables:"
      ]
    },
    {
      "cell_type": "code",
      "metadata": {
        "id": "kwNy-WmyooY4",
        "colab_type": "code",
        "outputId": "48e7316c-7b80-4f20-ded2-b3f78962299e",
        "colab": {
          "base_uri": "https://localhost:8080/",
          "height": 368
        }
      },
      "source": [
        "alt.Chart(df).mark_circle().encode(\n",
        "    x='LotArea:Q',\n",
        "    y='SalePrice:Q'\n",
        ")"
      ],
      "execution_count": 0,
      "outputs": []
    },
    {
      "cell_type": "markdown",
      "metadata": {
        "id": "yJtdyJtaqn_f",
        "colab_type": "text"
      },
      "source": [
        "There is clearly a correlation between the size of the property and the sale price. If we look only at the properties with LotArea under 50,000, we can see a linear relationship: if we draw a straight line from coordinates (0,0) to (20000,800000), we can say that the SalePrice increases by 40,000 for each additional increase of 1,000 for LotArea. The formula of this straight line (or regression line) will be: SalePrice = 40000 * LotArea / 1000. We can also see that for some properties although their size is quite high, their price didn't follow this pattern. For instance, the property with size 160,000 has been sold for less than 300,000."
      ]
    },
    {
      "cell_type": "markdown",
      "metadata": {
        "id": "5Y5Hgh6CPW03",
        "colab_type": "text"
      },
      "source": [
        "7. Now let's plot the histogram for 'OverallQual' but this time with the default bin step size (bin=True):"
      ]
    },
    {
      "cell_type": "code",
      "metadata": {
        "id": "iRPDz3e0PW9w",
        "colab_type": "code",
        "outputId": "acc2539b-0ce5-4836-e22b-dda08ed2d72d",
        "colab": {
          "base_uri": "https://localhost:8080/",
          "height": 368
        }
      },
      "source": [
        "alt.Chart(df).mark_bar().encode(\n",
        "    alt.X(\"OverallQual\", bin=True), \n",
        "    y='count()'\n",
        ")"
      ],
      "execution_count": 0,
      "outputs": []
    },
    {
      "cell_type": "markdown",
      "metadata": {
        "id": "C6CrKQS9B8Kq",
        "colab_type": "text"
      },
      "source": [
        "We can see the values contained in this column are discrete: they can only take a finite number of values (any integer between 1 and 10). This variable is not numerical but ordinal: the order matters but you can't perform some mathematical operations on it such as adding value 2 to value 8. This column is an arbitrary mapping to assess the overall quality of the property. We will see in the next chapter how to change the type of such column."
      ]
    },
    {
      "cell_type": "markdown",
      "metadata": {
        "id": "qUJkBB6NtSNS",
        "colab_type": "text"
      },
      "source": [
        "8. Build a boxplot with 'OverallQual:O' (':O' is for specifying this column is ordinal)on the x-axis and 'SalePrice' on the y-axis using the mark_boxplot() method:"
      ]
    },
    {
      "cell_type": "code",
      "metadata": {
        "id": "akIGJh94tSWh",
        "colab_type": "code",
        "outputId": "3bf6a306-081b-4c0f-96ef-84f568ea21d4",
        "colab": {
          "base_uri": "https://localhost:8080/",
          "height": 370
        }
      },
      "source": [
        "alt.Chart(df).mark_boxplot().encode(\n",
        "    x='OverallQual:O',\n",
        "    y='SalePrice:Q'\n",
        ")"
      ],
      "execution_count": 0,
      "outputs": []
    },
    {
      "cell_type": "markdown",
      "metadata": {
        "id": "LO6gCfJvuHWR",
        "colab_type": "text"
      },
      "source": [
        "We can see that SalePrice is higher for higher 'OverallQual' values. So we can confirm this variable is ordered by ascending value and the highest means better overall quality for the property. We can also notice the price range is bigger for properties with the highest overall quality value (10). It ranges from 100,000 to 600,000 while properties with medium quality (5) ranges from 90,000 to 200,000. This means there are other factors impacting the sale price."
      ]
    },
    {
      "cell_type": "markdown",
      "metadata": {
        "id": "zw2OfvvXC2rd",
        "colab_type": "text"
      },
      "source": [
        "9. Now let's plot a bar chart for 'YearBuilt' as its x-axis and 'count()' as its y-axis'. Don't forget to specify that 'YearBuilt' is an ordinal variable and not numerical using ':O':"
      ]
    },
    {
      "cell_type": "code",
      "metadata": {
        "id": "Yt8fjkjiP4oO",
        "colab_type": "code",
        "outputId": "902f1e02-9e6f-41e0-fa84-a0a25055e4d5",
        "colab": {
          "base_uri": "https://localhost:8080/",
          "height": 401
        }
      },
      "source": [
        "alt.Chart(df).mark_bar().encode(\n",
        "    alt.X('YearBuilt:O'),\n",
        "    y='count()'\n",
        ")"
      ],
      "execution_count": 0,
      "outputs": []
    },
    {
      "cell_type": "markdown",
      "metadata": {
        "id": "qKmmgGKtDlk1",
        "colab_type": "text"
      },
      "source": [
        "We can see there are less sold properties that have been built before 1920 and more are sold for recently built properties (after 2000)."
      ]
    },
    {
      "cell_type": "markdown",
      "metadata": {
        "id": "aXdh6KP9DPsk",
        "colab_type": "text"
      },
      "source": [
        "10. Plot a boxplot similar to the step 8 but for 'YearBuilt' as its x-axis:"
      ]
    },
    {
      "cell_type": "code",
      "metadata": {
        "id": "eiBCcsMaO-R9",
        "colab_type": "code",
        "outputId": "365ac7d4-74f5-4274-a995-f4742b837fb2",
        "colab": {
          "base_uri": "https://localhost:8080/",
          "height": 401
        }
      },
      "source": [
        "alt.Chart(df).mark_boxplot().encode(\n",
        "    x='YearBuilt:O',\n",
        "    y='SalePrice:Q'\n",
        ")"
      ],
      "execution_count": 0,
      "outputs": []
    },
    {
      "cell_type": "markdown",
      "metadata": {
        "id": "iS5RAa1jvH1b",
        "colab_type": "text"
      },
      "source": [
        "Overall, the sale price is higher for more recently built properties except for very old properties (before 1935)."
      ]
    },
    {
      "cell_type": "markdown",
      "metadata": {
        "id": "HIEoslfkFDZj",
        "colab_type": "text"
      },
      "source": [
        "11.  Let's analyse the relationship between 'SalePrice' and 'Neighborhood' by plotting a bar chart similar to step 9:"
      ]
    },
    {
      "cell_type": "code",
      "metadata": {
        "id": "bUUtvOSEOf0q",
        "colab_type": "code",
        "outputId": "f7bb2533-a910-4799-e1d9-7840f2a1348c",
        "colab": {
          "base_uri": "https://localhost:8080/",
          "height": 403
        }
      },
      "source": [
        "alt.Chart(df).mark_bar().encode(\n",
        "    x='Neighborhood',\n",
        "    y='count()'\n",
        ")"
      ],
      "execution_count": 0,
      "outputs": []
    },
    {
      "cell_type": "markdown",
      "metadata": {
        "id": "LjrkaRfSwSkZ",
        "colab_type": "text"
      },
      "source": [
        "The number of sold properties differs depending on their location. The neighborhood 'NAmes' have the higher number of properties sold: over 220. On the other hand, neighborhoods such as 'Blueste' or 'NPkVill' have just a few properties sold."
      ]
    },
    {
      "cell_type": "markdown",
      "metadata": {
        "id": "63n-NPbeFHqv",
        "colab_type": "text"
      },
      "source": [
        "12. Let's analyse the relationship between 'SalePrice' and 'Neighborhood' by plotting a box plot chart similar to step 10:"
      ]
    },
    {
      "cell_type": "code",
      "metadata": {
        "id": "VP1dedrbKJ3Z",
        "colab_type": "code",
        "outputId": "3a79714b-49d5-486e-946d-fa14e3a66a20",
        "colab": {
          "base_uri": "https://localhost:8080/",
          "height": 403
        }
      },
      "source": [
        "alt.Chart(df).mark_boxplot().encode(\n",
        "    x='Neighborhood:O',\n",
        "    y='SalePrice:Q'\n",
        ")"
      ],
      "execution_count": 0,
      "outputs": []
    },
    {
      "cell_type": "markdown",
      "metadata": {
        "id": "Q-22Y--DyO_J",
        "colab_type": "text"
      },
      "source": [
        "The location of the property sold has a significant impact on the sale price. Neighborhoods 'noRidge', 'NridgHt' and 'StoneBr' have higher price overall. It is also worth noticing that there are some extreme outliers for 'NoRidge' where some properties have been sold with price much higher than other properties in this neighborhood."
      ]
    },
    {
      "cell_type": "markdown",
      "metadata": {
        "id": "tlIh1QoSzIs7",
        "colab_type": "text"
      },
      "source": [
        "Congratulations in completing this exercise. We saw that using data visualisation we can get some valuable insights about the dataset. For instance, using a scatter plot, we identified a linear relationship between 'SalePrice' and 'LotArea' where the price tends to increase as the size of the property gets bigger. Histograms helped us to understand the distribution of the numerical variables and bar charts gave us a similar view for categorical variables. For example we saw there are more sold properties in some neighborhoods compared to others. Finally we were able to analyse and compare the impact of different values of a variable on 'SalePrice' through the use of boxplot. We saw that the better condition of property is, the higher the sale price will be. Data visualization is a very important tool for data scientists to explore and analyse datasets."
      ]
    }
  ]
}