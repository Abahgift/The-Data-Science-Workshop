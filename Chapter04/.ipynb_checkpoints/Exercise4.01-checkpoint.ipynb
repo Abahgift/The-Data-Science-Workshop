{
 "cells": [
  {
   "cell_type": "code",
   "execution_count": 2,
   "metadata": {},
   "outputs": [],
   "source": [
    "import pandas as pd"
   ]
  },
  {
   "cell_type": "code",
   "execution_count": 3,
   "metadata": {},
   "outputs": [
    {
     "name": "stderr",
     "output_type": "stream",
     "text": [
      "/anaconda3/envs/DS_env/lib/python3.7/site-packages/IPython/core/interactiveshell.py:2785: DtypeWarning: Columns (4) have mixed types. Specify dtype option on import or set low_memory=False.\n",
      "  interactivity=interactivity, compiler=compiler, result=result)\n"
     ]
    }
   ],
   "source": [
    "df = pd.read_csv('Consumer_Complaints.csv')"
   ]
  },
  {
   "cell_type": "code",
   "execution_count": 4,
   "metadata": {},
   "outputs": [
    {
     "data": {
      "text/html": [
       "<div>\n",
       "<style scoped>\n",
       "    .dataframe tbody tr th:only-of-type {\n",
       "        vertical-align: middle;\n",
       "    }\n",
       "\n",
       "    .dataframe tbody tr th {\n",
       "        vertical-align: top;\n",
       "    }\n",
       "\n",
       "    .dataframe thead th {\n",
       "        text-align: right;\n",
       "    }\n",
       "</style>\n",
       "<table border=\"1\" class=\"dataframe\">\n",
       "  <thead>\n",
       "    <tr style=\"text-align: right;\">\n",
       "      <th></th>\n",
       "      <th>Complaint ID</th>\n",
       "      <th>Product</th>\n",
       "      <th>Sub-product</th>\n",
       "      <th>Issue</th>\n",
       "      <th>Sub-issue</th>\n",
       "      <th>State</th>\n",
       "      <th>ZIP code</th>\n",
       "      <th>Submitted via</th>\n",
       "      <th>Date received</th>\n",
       "      <th>Date sent to company</th>\n",
       "      <th>Company</th>\n",
       "      <th>Company response</th>\n",
       "      <th>Timely response?</th>\n",
       "      <th>Consumer disputed?</th>\n",
       "    </tr>\n",
       "  </thead>\n",
       "  <tbody>\n",
       "    <tr>\n",
       "      <th>69670</th>\n",
       "      <td>855806</td>\n",
       "      <td>Bank account or service</td>\n",
       "      <td>Checking account</td>\n",
       "      <td>Deposits and withdrawals</td>\n",
       "      <td>NaN</td>\n",
       "      <td>CA</td>\n",
       "      <td>91001.0</td>\n",
       "      <td>Referral</td>\n",
       "      <td>05/16/2014</td>\n",
       "      <td>05/20/2014</td>\n",
       "      <td>JPMorgan Chase</td>\n",
       "      <td>Closed with explanation</td>\n",
       "      <td>Yes</td>\n",
       "      <td>Yes</td>\n",
       "    </tr>\n",
       "    <tr>\n",
       "      <th>42744</th>\n",
       "      <td>945367</td>\n",
       "      <td>Bank account or service</td>\n",
       "      <td>(CD) Certificate of deposit</td>\n",
       "      <td>Deposits and withdrawals</td>\n",
       "      <td>NaN</td>\n",
       "      <td>CA</td>\n",
       "      <td>94549.0</td>\n",
       "      <td>Web</td>\n",
       "      <td>07/21/2014</td>\n",
       "      <td>07/21/2014</td>\n",
       "      <td>CIT Bank</td>\n",
       "      <td>Closed</td>\n",
       "      <td>Yes</td>\n",
       "      <td>Yes</td>\n",
       "    </tr>\n",
       "    <tr>\n",
       "      <th>9047</th>\n",
       "      <td>1066501</td>\n",
       "      <td>Credit card</td>\n",
       "      <td>NaN</td>\n",
       "      <td>Other</td>\n",
       "      <td>NaN</td>\n",
       "      <td>IL</td>\n",
       "      <td>60014.0</td>\n",
       "      <td>Web</td>\n",
       "      <td>10/09/2014</td>\n",
       "      <td>10/10/2014</td>\n",
       "      <td>Fifth Third Bank</td>\n",
       "      <td>Closed with explanation</td>\n",
       "      <td>Yes</td>\n",
       "      <td>NaN</td>\n",
       "    </tr>\n",
       "    <tr>\n",
       "      <th>231720</th>\n",
       "      <td>249197</td>\n",
       "      <td>Consumer loan</td>\n",
       "      <td>Vehicle loan</td>\n",
       "      <td>Taking out the loan or lease</td>\n",
       "      <td>NaN</td>\n",
       "      <td>PA</td>\n",
       "      <td>19020.0</td>\n",
       "      <td>Postal mail</td>\n",
       "      <td>01/19/2013</td>\n",
       "      <td>01/22/2013</td>\n",
       "      <td>JPMorgan Chase</td>\n",
       "      <td>Closed with explanation</td>\n",
       "      <td>Yes</td>\n",
       "      <td>No</td>\n",
       "    </tr>\n",
       "    <tr>\n",
       "      <th>142673</th>\n",
       "      <td>601918</td>\n",
       "      <td>Credit card</td>\n",
       "      <td>NaN</td>\n",
       "      <td>Billing disputes</td>\n",
       "      <td>NaN</td>\n",
       "      <td>CO</td>\n",
       "      <td>80206.0</td>\n",
       "      <td>Web</td>\n",
       "      <td>11/18/2013</td>\n",
       "      <td>11/26/2013</td>\n",
       "      <td>Citibank</td>\n",
       "      <td>Closed with explanation</td>\n",
       "      <td>Yes</td>\n",
       "      <td>No</td>\n",
       "    </tr>\n",
       "  </tbody>\n",
       "</table>\n",
       "</div>"
      ],
      "text/plain": [
       "        Complaint ID                  Product                  Sub-product  \\\n",
       "69670         855806  Bank account or service             Checking account   \n",
       "42744         945367  Bank account or service  (CD) Certificate of deposit   \n",
       "9047         1066501              Credit card                          NaN   \n",
       "231720        249197            Consumer loan                 Vehicle loan   \n",
       "142673        601918              Credit card                          NaN   \n",
       "\n",
       "                               Issue Sub-issue State  ZIP code Submitted via  \\\n",
       "69670       Deposits and withdrawals       NaN    CA   91001.0      Referral   \n",
       "42744       Deposits and withdrawals       NaN    CA   94549.0           Web   \n",
       "9047                           Other       NaN    IL   60014.0           Web   \n",
       "231720  Taking out the loan or lease       NaN    PA   19020.0   Postal mail   \n",
       "142673              Billing disputes       NaN    CO   80206.0           Web   \n",
       "\n",
       "       Date received Date sent to company           Company  \\\n",
       "69670     05/16/2014           05/20/2014    JPMorgan Chase   \n",
       "42744     07/21/2014           07/21/2014          CIT Bank   \n",
       "9047      10/09/2014           10/10/2014  Fifth Third Bank   \n",
       "231720    01/19/2013           01/22/2013    JPMorgan Chase   \n",
       "142673    11/18/2013           11/26/2013          Citibank   \n",
       "\n",
       "               Company response Timely response? Consumer disputed?  \n",
       "69670   Closed with explanation              Yes                Yes  \n",
       "42744                    Closed              Yes                Yes  \n",
       "9047    Closed with explanation              Yes                NaN  \n",
       "231720  Closed with explanation              Yes                 No  \n",
       "142673  Closed with explanation              Yes                 No  "
      ]
     },
     "execution_count": 4,
     "metadata": {},
     "output_type": "execute_result"
    }
   ],
   "source": [
    "df.sample(5)"
   ]
  },
  {
   "cell_type": "code",
   "execution_count": 5,
   "metadata": {},
   "outputs": [
    {
     "data": {
      "text/plain": [
       "['Debt collection',\n",
       " 'Bank account or service',\n",
       " 'Credit reporting',\n",
       " 'Consumer loan',\n",
       " 'Mortgage',\n",
       " 'Credit card',\n",
       " 'Student loan',\n",
       " 'Payday loan',\n",
       " 'Money transfers']"
      ]
     },
     "execution_count": 5,
     "metadata": {},
     "output_type": "execute_result"
    }
   ],
   "source": [
    "df['Product'].unique().tolist()"
   ]
  },
  {
   "cell_type": "code",
   "execution_count": null,
   "metadata": {},
   "outputs": [],
   "source": []
  }
 ],
 "metadata": {
  "kernelspec": {
   "display_name": "Python 3",
   "language": "python",
   "name": "python3"
  },
  "language_info": {
   "codemirror_mode": {
    "name": "ipython",
    "version": 3
   },
   "file_extension": ".py",
   "mimetype": "text/x-python",
   "name": "python",
   "nbconvert_exporter": "python",
   "pygments_lexer": "ipython3",
   "version": "3.7.1"
  }
 },
 "nbformat": 4,
 "nbformat_minor": 4
}
