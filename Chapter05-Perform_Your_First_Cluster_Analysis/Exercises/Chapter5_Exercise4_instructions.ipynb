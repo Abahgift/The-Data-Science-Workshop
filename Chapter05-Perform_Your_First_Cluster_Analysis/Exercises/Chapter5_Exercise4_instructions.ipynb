{
  "nbformat": 4,
  "nbformat_minor": 0,
  "metadata": {
    "colab": {
      "name": "Chapter5_Exercise4_instructions.ipynb",
      "version": "0.3.2",
      "provenance": [],
      "collapsed_sections": []
    },
    "kernelspec": {
      "name": "python3",
      "display_name": "Python 3"
    }
  },
  "cells": [
    {
      "cell_type": "markdown",
      "metadata": {
        "id": "QnPNcRbuhfa2",
        "colab_type": "text"
      },
      "source": [
        "# Chapter 5 - Perform Your First Cluster Analysis\n",
        "\n",
        "Build your first unsupervised models with the most popular clustering algorithms"
      ]
    },
    {
      "cell_type": "markdown",
      "metadata": {
        "id": "ZgQuA2Tc0goz",
        "colab_type": "text"
      },
      "source": [
        "## Exercise 4: Find the closest centroids\n",
        "\n",
        "In this exercise, we will code from scratch the first iteration of k-mean in order to assign a data point to its closest cluster."
      ]
    },
    {
      "cell_type": "markdown",
      "metadata": {
        "id": "aAH1QhvI01WH",
        "colab_type": "text"
      },
      "source": [
        "\n",
        "\n",
        "---\n",
        "\n",
        "1. Open on a new Colab notebook. Import the required packages (**pandas**, **sklearn**, **altair**)\n",
        "\n",
        "\n",
        "\n",
        "---\n",
        "\n",
        "\n"
      ]
    },
    {
      "cell_type": "code",
      "metadata": {
        "id": "-9Gk1rIO01w_",
        "colab_type": "code",
        "colab": {}
      },
      "source": [
        "# Put your code here #"
      ],
      "execution_count": 0,
      "outputs": []
    },
    {
      "cell_type": "markdown",
      "metadata": {
        "id": "a1t1ZOP901lY",
        "colab_type": "text"
      },
      "source": [
        "\n",
        "\n",
        "---\n",
        "\n",
        "2. Load the dataset and select the same columns as in exercise 1.\n",
        "\n",
        "\n",
        "\n",
        "---\n",
        "\n",
        "\n",
        "Hints:\n",
        "* Use **read_csv** method from the package **pandas**\n",
        "* Provide the list of the 3 variables name to the parameter **usecols**\n"
      ]
    },
    {
      "cell_type": "code",
      "metadata": {
        "id": "bjqxlXrf1CMG",
        "colab_type": "code",
        "colab": {}
      },
      "source": [
        "# Put your code here #"
      ],
      "execution_count": 0,
      "outputs": []
    },
    {
      "cell_type": "markdown",
      "metadata": {
        "id": "-OJBB9oj1Bxr",
        "colab_type": "text"
      },
      "source": [
        "\n",
        "\n",
        "---\n",
        "\n",
        "3. Calculate the minimum and maximum values of the variables 'Average total business income' and 'Average total business income' and print their values.\n",
        "\n",
        "\n",
        "\n",
        "---\n",
        "\n",
        "\n",
        "Hints:\n",
        "* Use **min()** and **max()** from the package **pandas** as the limit range\n"
      ]
    },
    {
      "cell_type": "markdown",
      "metadata": {
        "id": "TOjrPNoP1ZPo",
        "colab_type": "text"
      },
      "source": [
        "Expected output:\n",
        "\n",
        "![Figure 39 - Minimum and maximum values of the 2 variables](https://docs.google.com/uc?export=download&id=1ztKDJqqbp7m_pcKWXXfroTngQqN_n3Cq)\n"
      ]
    },
    {
      "cell_type": "code",
      "metadata": {
        "id": "qGEdu6D31ZdG",
        "colab_type": "code",
        "colab": {}
      },
      "source": [
        "# Put your code here #"
      ],
      "execution_count": 0,
      "outputs": []
    },
    {
      "cell_type": "markdown",
      "metadata": {
        "id": "0QHlBPXq2AMf",
        "colab_type": "text"
      },
      "source": [
        "\n",
        "\n",
        "---\n",
        "\n",
        "\n",
        "4. Generate random coordinates for the 4 centroids with possible values between the minimum and maximum of the 2 variables and store them into a dataframe. Print the dataframe.\n",
        "\n",
        "---\n",
        "\n",
        "\n",
        "Hints:\n",
        "* Look at the **sample()** method from the package **random**\n",
        "* Use the function **range** to define the limits\n",
        "* Add the dataframe index into a column called '*cluster*' (this will be used for displaying the cluster number in the scatter plot tooltip)\n",
        "* Set the **seed** from the package **random** to 42 so that you get the same results if you ran the code again"
      ]
    },
    {
      "cell_type": "markdown",
      "metadata": {
        "id": "18Fthjai2AS8",
        "colab_type": "text"
      },
      "source": [
        "Expected output:\n",
        "\n",
        "![Figure 40 - Coordinates of the 4 random centroids](https://docs.google.com/uc?export=download&id=1TXQuyizVTrcB4XCo6PUPJJiMbi97Lz3o)\n"
      ]
    },
    {
      "cell_type": "code",
      "metadata": {
        "id": "vhnYMv302Anm",
        "colab_type": "code",
        "colab": {}
      },
      "source": [
        "# Put your code here #"
      ],
      "execution_count": 0,
      "outputs": []
    },
    {
      "cell_type": "markdown",
      "metadata": {
        "id": "jg-awAN92yKW",
        "colab_type": "text"
      },
      "source": [
        "\n",
        "\n",
        "---\n",
        "\n",
        "5. Plot the centroids and the first 5 rows of the dataset.\n",
        "\n",
        "\n",
        "\n",
        "---\n",
        "\n",
        "\n",
        "Hints:\n",
        "* Create 2 different scatter plots with **altair** and combine them\n"
      ]
    },
    {
      "cell_type": "markdown",
      "metadata": {
        "id": "Z__nKcxB2ySS",
        "colab_type": "text"
      },
      "source": [
        "Expected output:\n",
        "\n",
        "![Figure 41 - Scatter plot of the random centroids and the first 5 observations](https://docs.google.com/uc?export=download&id=1WqaoIn5IOhFhCFMDqc7QTnfcQA0vpLcp)\n"
      ]
    },
    {
      "cell_type": "code",
      "metadata": {
        "id": "wubXKgoc2yos",
        "colab_type": "code",
        "colab": {}
      },
      "source": [
        "# Put your code here #"
      ],
      "execution_count": 0,
      "outputs": []
    },
    {
      "cell_type": "markdown",
      "metadata": {
        "id": "KL23EY1M3aQi",
        "colab_type": "text"
      },
      "source": [
        "\n",
        "\n",
        "---\n",
        "\n",
        "6. For the first row calculate its squared Euclidean distance against each of the 4 centroids\n",
        "\n",
        "\n",
        "\n",
        "---\n",
        "\n",
        "\n",
        "Hints:\n",
        "* Look at the method **at** from the package **pandas** to extract value from a given row\n",
        "* Define a function that will calculate the squared Euclidean distance using a list comprehension (or a for loop) to iterate through each centroid\n"
      ]
    },
    {
      "cell_type": "markdown",
      "metadata": {
        "id": "lPzlqaq43aMF",
        "colab_type": "text"
      },
      "source": [
        "Expected output:\n",
        "\n",
        "![Figure 42 - Squared Euclidean distances from the random centroids for the first observation](https://docs.google.com/uc?export=download&id=1CLQR4pNQe6vV6KeFZHGuGeeRkS6QPeQR)\n"
      ]
    },
    {
      "cell_type": "code",
      "metadata": {
        "id": "ao6TPyBU3aeX",
        "colab_type": "code",
        "colab": {}
      },
      "source": [
        "# Put your code here #"
      ],
      "execution_count": 0,
      "outputs": []
    },
    {
      "cell_type": "markdown",
      "metadata": {
        "id": "kwfLfWMs4FHg",
        "colab_type": "text"
      },
      "source": [
        "\n",
        "\n",
        "---\n",
        "\n",
        "7. Let's find the index of the smallest element in the distances list and saved it into the dataframe in a new column called 'cluster'\n",
        "\n",
        "\n",
        "\n",
        "---\n",
        "\n",
        "\n",
        "Hints:\n",
        "* Use the **index** method from the list containing the squared Euclidean distance\n"
      ]
    },
    {
      "cell_type": "markdown",
      "metadata": {
        "id": "dEFnad_A4FTI",
        "colab_type": "text"
      },
      "source": [
        "Expected output:\n",
        "\n",
        "![Figure 43 - First 5 rows of the ATO dataframe with the assigned cluster number for the first row](https://docs.google.com/uc?export=download&id=1K-Nr9XZJsj4YoR_2zTLWWiV3X8_CkU05)\n"
      ]
    },
    {
      "cell_type": "code",
      "metadata": {
        "id": "rfwdmM9S4Fgz",
        "colab_type": "code",
        "colab": {}
      },
      "source": [
        "# Put your code here #"
      ],
      "execution_count": 0,
      "outputs": []
    },
    {
      "cell_type": "markdown",
      "metadata": {
        "id": "RYJ-Vsf04uMM",
        "colab_type": "text"
      },
      "source": [
        "\n",
        "\n",
        "---\n",
        "\n",
        "8. Repeat steps 5 and 6 for the next 4 rows.\n",
        "\n",
        "\n",
        "---\n",
        "\n"
      ]
    },
    {
      "cell_type": "markdown",
      "metadata": {
        "id": "4fjf894u4uXQ",
        "colab_type": "text"
      },
      "source": [
        "Expected output:\n",
        "\n",
        "![Figure 44 - First 5 rows of the ATO dataframe and their assigned cluster](https://docs.google.com/uc?export=download&id=1bv-Ezo7MsljNqAcA7SYuBak2lF_RBSaf)\n",
        "\n"
      ]
    },
    {
      "cell_type": "code",
      "metadata": {
        "id": "0tP2jojW4uh6",
        "colab_type": "code",
        "colab": {}
      },
      "source": [
        "# Put your code here #"
      ],
      "execution_count": 0,
      "outputs": []
    },
    {
      "cell_type": "markdown",
      "metadata": {
        "id": "R7NzPpn65Ikc",
        "colab_type": "text"
      },
      "source": [
        "\n",
        "\n",
        "---\n",
        "\n",
        "9. Plot the centroids and the first 5 rows of the dataset.\n",
        "\n",
        "\n",
        "---\n",
        "\n"
      ]
    },
    {
      "cell_type": "markdown",
      "metadata": {
        "id": "jCrh7J2m5IvW",
        "colab_type": "text"
      },
      "source": [
        "Expected output:\n",
        "\n",
        "![Figure 45 - Scatter plot of the random centroids and the first 5 observations](https://docs.google.com/uc?export=download&id=1tv13Nr_osgkr_VlvAe6MR975ivgv7MkV)\n"
      ]
    },
    {
      "cell_type": "code",
      "metadata": {
        "id": "ArH7PL9x5I8z",
        "colab_type": "code",
        "colab": {}
      },
      "source": [
        "# Put your code here #"
      ],
      "execution_count": 0,
      "outputs": []
    },
    {
      "cell_type": "markdown",
      "metadata": {
        "id": "clRa5QxZ5fP-",
        "colab_type": "text"
      },
      "source": [
        "Awesome!  You just re-implemented a big part of the k-means algorithm from scratch. You went through how to randomly initialise the centroids (cluster center), calculate the squared Euclidean distance for some data points, find their closest centroid and assign them to the corresponding cluster. This wasn't easy but you made it."
      ]
    }
  ]
}