{
  "nbformat": 4,
  "nbformat_minor": 0,
  "metadata": {
    "colab": {
      "name": "Chapter5_Exercise5_instructions.ipynb",
      "version": "0.3.2",
      "provenance": [],
      "collapsed_sections": []
    },
    "kernelspec": {
      "name": "python3",
      "display_name": "Python 3"
    }
  },
  "cells": [
    {
      "cell_type": "markdown",
      "metadata": {
        "id": "QnPNcRbuhfa2",
        "colab_type": "text"
      },
      "source": [
        "# Chapter 5 - Perform Your First Cluster Analysis\n",
        "\n",
        "Build your first unsupervised models with the most popular clustering algorithms"
      ]
    },
    {
      "cell_type": "markdown",
      "metadata": {
        "id": "D-Pm2q0UbX4S",
        "colab_type": "text"
      },
      "source": [
        "## Exercise 5: Standardise the data"
      ]
    },
    {
      "cell_type": "markdown",
      "metadata": {
        "id": "M5vyp6hgej-0",
        "colab_type": "text"
      },
      "source": [
        "In this final exercise, we will standardise the data using min-max scaler and z-score and fit a k-means for each method."
      ]
    },
    {
      "cell_type": "markdown",
      "metadata": {
        "id": "QjHEVBVTekQa",
        "colab_type": "text"
      },
      "source": [
        "\n",
        "---\n",
        "\n",
        "1. Open on a new Colab notebook. Import the required packages (**pandas**, **sklearn**, **altair**)\n",
        "\n",
        "\n",
        "\n",
        "---\n"
      ]
    },
    {
      "cell_type": "code",
      "metadata": {
        "id": "3kHGquqfereS",
        "colab_type": "code",
        "colab": {}
      },
      "source": [
        "# Put your code here #"
      ],
      "execution_count": 0,
      "outputs": []
    },
    {
      "cell_type": "markdown",
      "metadata": {
        "id": "bUmq-5MOe1Dk",
        "colab_type": "text"
      },
      "source": [
        "---\n",
        "\n",
        "2. Load the dataset and select the same columns as in exercise 1.\n",
        "\n",
        "\n",
        "\n",
        "---\n",
        "\n",
        "\n",
        "Hints:\n",
        "* Use **read_csv** method from the package **pandas**\n",
        "* Provide the list of the 3 variables name to the parameter **usecols**"
      ]
    },
    {
      "cell_type": "code",
      "metadata": {
        "id": "N00Y4M3ie9vg",
        "colab_type": "code",
        "colab": {}
      },
      "source": [
        "# Put your code here #"
      ],
      "execution_count": 0,
      "outputs": []
    },
    {
      "cell_type": "markdown",
      "metadata": {
        "id": "f1R5RlgVe_p7",
        "colab_type": "text"
      },
      "source": [
        "\n",
        "\n",
        "---\n",
        "\n",
        "\n",
        "3. Import the classes **MinMaxScaler** and **StandardScaler** from **sklearn**\n",
        "\n",
        "\n",
        "\n",
        "---\n",
        "\n",
        "\n"
      ]
    },
    {
      "cell_type": "code",
      "metadata": {
        "id": "YgyDJquzlTw3",
        "colab_type": "code",
        "colab": {}
      },
      "source": [
        "# Put your code here #"
      ],
      "execution_count": 0,
      "outputs": []
    },
    {
      "cell_type": "markdown",
      "metadata": {
        "id": "E3eN120IfyDi",
        "colab_type": "text"
      },
      "source": [
        "\n",
        "\n",
        "---\n",
        "\n",
        "\n",
        "\n",
        "4. Instantiate and fit the **MinMaxScaler** with the data\n",
        "\n",
        "\n",
        "\n",
        "---\n",
        "\n",
        "\n",
        "\n"
      ]
    },
    {
      "cell_type": "code",
      "metadata": {
        "id": "sPQ7Gy6olVJ8",
        "colab_type": "code",
        "colab": {}
      },
      "source": [
        "# Put your code here #"
      ],
      "execution_count": 0,
      "outputs": []
    },
    {
      "cell_type": "markdown",
      "metadata": {
        "id": "UO8EP4h1hQmR",
        "colab_type": "text"
      },
      "source": [
        "\n",
        "\n",
        "---\n",
        "\n",
        "\n",
        "5. Perform the min-max scaling transformation and save the data into a new variable called ‘*X_min_max*’.\n",
        "\n",
        "---\n",
        "\n"
      ]
    },
    {
      "cell_type": "markdown",
      "metadata": {
        "id": "9MBD2jeglXSN",
        "colab_type": "text"
      },
      "source": [
        "Expected output:\n",
        "\n",
        "![Figure 55 - Min-max scaled data](https://docs.google.com/uc?export=download&id=1aUfWF1XUEMCLvroJmk5RLnpTS4C-y8ge)\n"
      ]
    },
    {
      "cell_type": "code",
      "metadata": {
        "id": "qudxmDsUlXef",
        "colab_type": "code",
        "colab": {}
      },
      "source": [
        "# Put your code here #"
      ],
      "execution_count": 0,
      "outputs": []
    },
    {
      "cell_type": "markdown",
      "metadata": {
        "id": "3JDV9Nw_iiMZ",
        "colab_type": "text"
      },
      "source": [
        "\n",
        "\n",
        "---\n",
        "\n",
        "6. Fit a k-means on the scaled data and plot the results into a scatter plot. Use **random_state=1, n_clusters=4, init='k-means++' and n_init=5**\n",
        "\n",
        "\n",
        "---\n",
        "\n"
      ]
    },
    {
      "cell_type": "markdown",
      "metadata": {
        "id": "mEou3lnRlzLt",
        "colab_type": "text"
      },
      "source": [
        "Expected output:\n",
        "\n",
        "![Figure 56 - Scatter plot of k-means results using the min-max scaled data](https://docs.google.com/uc?export=download&id=1abRlubA7LpC2WY8s7pTNell2tAmFOsY0)\n"
      ]
    },
    {
      "cell_type": "code",
      "metadata": {
        "id": "NfX631O-lzZk",
        "colab_type": "code",
        "colab": {}
      },
      "source": [
        "# Put your code here #"
      ],
      "execution_count": 0,
      "outputs": []
    },
    {
      "cell_type": "markdown",
      "metadata": {
        "id": "zWAbl9J0kGMD",
        "colab_type": "text"
      },
      "source": [
        "\n",
        "\n",
        "---\n",
        "\n",
        "\n",
        "7. Re-train a k-means but on the z-score standardised data with the same hyperparameters values **random_state=42**, **n_clusters=4**, **init='k-means++' **and **n_init=5**\n",
        "\n",
        "\n",
        "---\n",
        "\n"
      ]
    },
    {
      "cell_type": "markdown",
      "metadata": {
        "id": "2FXVnGTnl2vt",
        "colab_type": "text"
      },
      "source": [
        "Expected output:\n",
        "\n",
        "![Figure 57 - Scatter plot of k-means results using the z-score standardised data](https://docs.google.com/uc?export=download&id=1cV6Kx6G9cOrMhqEmm1sZ6rtS9bRU6F7q)\n"
      ]
    },
    {
      "cell_type": "code",
      "metadata": {
        "id": "0eFX6nofl3GO",
        "colab_type": "code",
        "colab": {}
      },
      "source": [
        "# Put your code here #"
      ],
      "execution_count": 0,
      "outputs": []
    },
    {
      "cell_type": "markdown",
      "metadata": {
        "id": "bbFG9inZlPEE",
        "colab_type": "text"
      },
      "source": [
        "Well done! You completed the final exercise of this chapter. You have learned how to pre-process the data before fitting the k-means with 2 very popular method: min-max scaling and z-score."
      ]
    }
  ]
}