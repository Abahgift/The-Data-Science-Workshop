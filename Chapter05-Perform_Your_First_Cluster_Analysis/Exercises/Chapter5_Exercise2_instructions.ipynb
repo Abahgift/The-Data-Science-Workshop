{
  "nbformat": 4,
  "nbformat_minor": 0,
  "metadata": {
    "colab": {
      "name": "Chapter5_Content_instructions.ipynb",
      "version": "0.3.2",
      "provenance": [],
      "collapsed_sections": []
    },
    "kernelspec": {
      "name": "python3",
      "display_name": "Python 3"
    }
  },
  "cells": [
    {
      "cell_type": "markdown",
      "metadata": {
        "id": "QnPNcRbuhfa2",
        "colab_type": "text"
      },
      "source": [
        "# Chapter 5 - Perform Your First Cluster Analysis\n",
        "\n",
        "Build your first unsupervised models with the most popular clustering algorithms"
      ]
    },
    {
      "cell_type": "markdown",
      "metadata": {
        "id": "NjLTFIUyK-VH",
        "colab_type": "text"
      },
      "source": [
        "## Exercise 2: Find the optimal number of clusters\n",
        "\n",
        "In this exercise, we will apply the Elbow method on the same data as for Exercise 1 and found the optimal number of clusters.\n"
      ]
    },
    {
      "cell_type": "markdown",
      "metadata": {
        "id": "Wd5YGcgXLFJw",
        "colab_type": "text"
      },
      "source": [
        "\n",
        "\n",
        "---\n",
        "\n",
        "\n",
        "1. Open on a new Colab notebook. Import the required packages (pandas, sklearn, altair)\n",
        "\n",
        "\n",
        "---\n",
        "\n"
      ]
    },
    {
      "cell_type": "code",
      "metadata": {
        "id": "lasj15vKLQ_2",
        "colab_type": "code",
        "colab": {}
      },
      "source": [
        "# Put your code here #"
      ],
      "execution_count": 0,
      "outputs": []
    },
    {
      "cell_type": "markdown",
      "metadata": {
        "id": "7CRMfZLeLTtB",
        "colab_type": "text"
      },
      "source": [
        "\n",
        "\n",
        "---\n",
        "\n",
        "\n",
        "2. Load the dataset and select the same columns as for exercise 1. Print the first 5 rows.\n",
        "\n",
        "\n",
        "---\n",
        "\n",
        "\n",
        "\n",
        "Hints:\n",
        "* Use read_csv method from the package pandas\n",
        "* Provide the list of the 3 variables name to the parameter usecols\n",
        "* Use the method head() from the package pandas\n"
      ]
    },
    {
      "cell_type": "markdown",
      "metadata": {
        "id": "6ov3xQugL2Wh",
        "colab_type": "text"
      },
      "source": [
        "Expected output:\n",
        "![Figure 18 - First five rows of ATO dataframe](https://docs.google.com/uc?export=download&id=1UdpKp42fUN9lzuxbyhDGwT5vXsD4QfaM)\n"
      ]
    },
    {
      "cell_type": "code",
      "metadata": {
        "id": "TZmPjT5iL1O3",
        "colab_type": "code",
        "colab": {}
      },
      "source": [
        "# Put your code here #"
      ],
      "execution_count": 0,
      "outputs": []
    },
    {
      "cell_type": "markdown",
      "metadata": {
        "id": "T6vmI5FLM9F_",
        "colab_type": "text"
      },
      "source": [
        "\n",
        "\n",
        "---\n",
        "\n",
        "\n",
        "3. Calculate the inertia for the following range of clusters: 1 to 15. Save the information into a dataframe with 2 columns called cluster_range and inertia.\n",
        "\n",
        "\n",
        "\n",
        "---\n",
        "\n",
        "\n",
        "Hints:\n",
        "* Use the function **range** to define the range of clusters \n",
        "* Create a for loop to go through each cluster number and fit a k-means\n"
      ]
    },
    {
      "cell_type": "markdown",
      "metadata": {
        "id": "zMj0e9IdNFQM",
        "colab_type": "text"
      },
      "source": [
        "Expected output:\n",
        "\n",
        "![Figure 19 - Plotting the Elbow method](https://docs.google.com/uc?export=download&id=158GiXQyp5bbTt4TFK6S2aVoNRa-9voZv)\n"
      ]
    },
    {
      "cell_type": "code",
      "metadata": {
        "id": "JwWqpF3DNEvo",
        "colab_type": "code",
        "colab": {}
      },
      "source": [
        "# Put your code here #"
      ],
      "execution_count": 0,
      "outputs": []
    },
    {
      "cell_type": "markdown",
      "metadata": {
        "id": "_Gct5AsQNLUp",
        "colab_type": "text"
      },
      "source": [
        "\n",
        "\n",
        "---\n",
        "\n",
        "\n",
        "4. Plot the Elbow graph using altair.\n",
        "\n",
        "\n",
        "---\n",
        "\n",
        "\n",
        "Hints:\n",
        "* Use mark_line from altair \n"
      ]
    },
    {
      "cell_type": "markdown",
      "metadata": {
        "id": "VfvUr2O2NLRM",
        "colab_type": "text"
      },
      "source": [
        "Expected output:\n",
        "\n",
        "\n",
        "![Figure 20 - Plotting the Elbow method](https://docs.google.com/uc?export=download&id=1g098k6TIfG6ckE95ilUwUcPZNqMMueBp)\n"
      ]
    },
    {
      "cell_type": "code",
      "metadata": {
        "id": "RuPhiIztNzLp",
        "colab_type": "code",
        "colab": {}
      },
      "source": [
        "# Put your code here #"
      ],
      "execution_count": 0,
      "outputs": []
    },
    {
      "cell_type": "markdown",
      "metadata": {
        "id": "VRizHsXfNhd-",
        "colab_type": "text"
      },
      "source": [
        "\n",
        "\n",
        "---\n",
        "\n",
        "\n",
        "5. Install the ‘kneed’ package\n",
        "\n",
        "---\n",
        "\n",
        "\n",
        "Hints: \n",
        "* Use the ! notation to run shell commands from your notebook like !ls \n",
        "* Use pip to install the required package\n"
      ]
    },
    {
      "cell_type": "markdown",
      "metadata": {
        "id": "fQX90OzvNhnL",
        "colab_type": "text"
      },
      "source": [
        "Expected output:\n",
        "\n",
        "![Figure 21 - Installation logs for the package kneed](https://docs.google.com/uc?export=download&id=1b-D3k9yg_TVK4EX1YiovW3OUtQeL4A_B)\n"
      ]
    },
    {
      "cell_type": "code",
      "metadata": {
        "id": "oZ1f_z03NdpH",
        "colab_type": "code",
        "colab": {}
      },
      "source": [
        "# Put your code here #"
      ],
      "execution_count": 0,
      "outputs": []
    },
    {
      "cell_type": "markdown",
      "metadata": {
        "id": "8k74vFHaNs8Z",
        "colab_type": "text"
      },
      "source": [
        "\n",
        "\n",
        "---\n",
        "\n",
        "\n",
        "6. Import KneeLocator from kneed\n",
        "\n",
        "---\n",
        "\n"
      ]
    },
    {
      "cell_type": "code",
      "metadata": {
        "id": "70e1op-zM8eT",
        "colab_type": "code",
        "colab": {}
      },
      "source": [
        "# Put your code here #"
      ],
      "execution_count": 0,
      "outputs": []
    },
    {
      "cell_type": "markdown",
      "metadata": {
        "id": "BnDFdrkqOBn6",
        "colab_type": "text"
      },
      "source": [
        "\n",
        "\n",
        "---\n",
        "\n",
        "\n",
        "7. Find the optimal cluster number with KneeLocator by providing cluster_range and sse as input parameters and following ones: curve=’convex’, direction=’decreasing’. Store the result in a variable called kn and print its knee method.\n",
        "\n",
        "\n",
        "---\n",
        "\n"
      ]
    },
    {
      "cell_type": "markdown",
      "metadata": {
        "id": "M69MWfZ1OBj7",
        "colab_type": "text"
      },
      "source": [
        "Expected output:\n",
        "\n",
        "\n",
        "![Figure 22 - Optimal number of clusters defined by KneeLocator](https://docs.google.com/uc?export=download&id=1Wvwg6qod19aB2H10ZGR2rnfTsaRaHHE8)\n"
      ]
    },
    {
      "cell_type": "code",
      "metadata": {
        "id": "4mdvm9QjM8Y3",
        "colab_type": "code",
        "colab": {}
      },
      "source": [
        "# Put your code here #"
      ],
      "execution_count": 0,
      "outputs": []
    },
    {
      "cell_type": "markdown",
      "metadata": {
        "id": "5M7cJK1gOQ_X",
        "colab_type": "text"
      },
      "source": [
        "\n",
        "\n",
        "---\n",
        "\n",
        "\n",
        "8. Plot the graph using plot_knee() method from your ‘kn’ variable \n",
        "\n",
        "\n",
        "---\n",
        "\n"
      ]
    },
    {
      "cell_type": "markdown",
      "metadata": {
        "id": "xB2qsUV2OQ7z",
        "colab_type": "text"
      },
      "source": [
        "Expected output:\n",
        "\n",
        "\n",
        "![Figure 23 - Elbow graph with the optimal number of clusters defined by KneeLocator](https://docs.google.com/uc?export=download&id=1PFw6gLOS01vvBrqBueLi6V6kSpnuLJ_s)\n"
      ]
    },
    {
      "cell_type": "code",
      "metadata": {
        "id": "uxoXEa2vODD6",
        "colab_type": "code",
        "colab": {}
      },
      "source": [
        "# Put your code here #"
      ],
      "execution_count": 0,
      "outputs": []
    },
    {
      "cell_type": "markdown",
      "metadata": {
        "id": "oZ2QgMZ8ObUX",
        "colab_type": "text"
      },
      "source": [
        "\n",
        "\n",
        "---\n",
        "\n",
        "\n",
        "9. Train k-means with this hyperparameter. Print the first 5 rows.\n",
        "\n",
        "\n",
        "---\n",
        "\n"
      ]
    },
    {
      "cell_type": "markdown",
      "metadata": {
        "id": "dU-bTK8ZObZ4",
        "colab_type": "text"
      },
      "source": [
        "Expected output:\n",
        "\n",
        "\n",
        "![Figure 24 - First five rows with the cluster predictions](https://docs.google.com/uc?export=download&id=1XKzgKmxxJCc_2JU12uIwBJXd1ldt-0Bg)\n"
      ]
    },
    {
      "cell_type": "code",
      "metadata": {
        "id": "IRZ--2gqOnDi",
        "colab_type": "code",
        "colab": {}
      },
      "source": [
        "# Put your code here #"
      ],
      "execution_count": 0,
      "outputs": []
    },
    {
      "cell_type": "markdown",
      "metadata": {
        "id": "jjWRMd2LOsvX",
        "colab_type": "text"
      },
      "source": [
        "\n",
        "\n",
        "---\n",
        "\n",
        "10. Plot the scatter plot using altair.\n",
        "\n",
        "\n",
        "---\n",
        "\n",
        "\n",
        "Hints:\n",
        "* Use mark_circle from altair \n",
        "* Look at the tooltip parameter and interactive method from altair to add interactiveness \n"
      ]
    },
    {
      "cell_type": "markdown",
      "metadata": {
        "id": "zBXfLG6AOs1k",
        "colab_type": "text"
      },
      "source": [
        "Expected output:\n",
        "\n",
        "![Figure 25 - Scatter plot of the 4 clusters](https://docs.google.com/uc?export=download&id=14088xtSsJUE5-y5z4tFgo5iAyFOKhw0j)"
      ]
    },
    {
      "cell_type": "code",
      "metadata": {
        "id": "7SiFy-h3OYqW",
        "colab_type": "code",
        "colab": {}
      },
      "source": [
        "# Put your code here #"
      ],
      "execution_count": 0,
      "outputs": []
    }
  ]
}