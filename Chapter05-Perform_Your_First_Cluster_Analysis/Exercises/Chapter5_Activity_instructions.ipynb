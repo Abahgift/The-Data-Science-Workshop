{
  "nbformat": 4,
  "nbformat_minor": 0,
  "metadata": {
    "colab": {
      "name": "Chapter5_Activity_instructions.ipynb",
      "version": "0.3.2",
      "provenance": [],
      "collapsed_sections": []
    },
    "kernelspec": {
      "name": "python3",
      "display_name": "Python 3"
    }
  },
  "cells": [
    {
      "cell_type": "markdown",
      "metadata": {
        "id": "QnPNcRbuhfa2",
        "colab_type": "text"
      },
      "source": [
        "# Chapter 5 - Perform Your First Cluster Analysis\n",
        "\n",
        "Build your first unsupervised models with the most popular clustering algorithms"
      ]
    },
    {
      "cell_type": "markdown",
      "metadata": {
        "id": "UlOglL99SghD",
        "colab_type": "text"
      },
      "source": [
        "## Activity: Anomaly detection with k-means"
      ]
    },
    {
      "cell_type": "markdown",
      "metadata": {
        "id": "MthRH6mfSjV6",
        "colab_type": "text"
      },
      "source": [
        "You are working for a big international bank. The Credit department is reviewing their offerings and wants to get a better understanding of their current customers. You have been tasked to perform a customer segmentation analysis. You will perform a cluster analysis with k-means to identify groups of similar customers.\n",
        "\n",
        "Students are expected to:\n",
        "* Download and load the dataset into Python\n",
        "* Perform data standardisation if required\n",
        "* Analyse and define the optimal number of clusters\n",
        "* Fit k-means with default hyperparameters\n",
        "* Plot the clusters and their centroids\n",
        "* Tune hyperparameters and re-train k-means\n",
        "* Analyse and interpret clusters found\n",
        "\n",
        "The dataset used has been shared by Dheeru Dua and Casey Graff from the University of California.\n",
        "\n",
        "It is available here: [https://archive.ics.uci.edu/ml/machine-learning-databases/statlog/german/german.data-numeric](https://archive.ics.uci.edu/ml/machine-learning-databases/statlog/german/german.data-numeric)\n",
        "\n",
        "\n",
        "Dua, D. and Graff, C. (2019). UCI Machine Learning Repository [http://archive.ics.uci.edu/ml]. Irvine, CA: University of California, School of Information and Computer Science.\n",
        "\n",
        "Notes:\n",
        "* This dataset is a .dat file format. You can still load the file using **read_csv()** but you will need the specify the right separator characters with the parameter **sep**.\n",
        "* Even though all the columns in this dataset are integers, most of them are actually categorical variables. The data in these columns are not continuous. Only 2 variables are really numeric. Find and use them for your clustering.\n"
      ]
    },
    {
      "cell_type": "code",
      "metadata": {
        "id": "F4NxMT_wsCxf",
        "colab_type": "code",
        "colab": {}
      },
      "source": [
        "# Put your code here #"
      ],
      "execution_count": 0,
      "outputs": []
    }
  ]
}