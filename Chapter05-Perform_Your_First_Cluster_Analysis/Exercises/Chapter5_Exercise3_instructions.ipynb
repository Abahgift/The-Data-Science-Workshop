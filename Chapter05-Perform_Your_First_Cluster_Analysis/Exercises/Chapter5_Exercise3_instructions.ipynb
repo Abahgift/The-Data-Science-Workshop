{
  "nbformat": 4,
  "nbformat_minor": 0,
  "metadata": {
    "colab": {
      "name": "Chapter5_Exercise3_instructions.ipynb",
      "version": "0.3.2",
      "provenance": [],
      "collapsed_sections": []
    },
    "kernelspec": {
      "name": "python3",
      "display_name": "Python 3"
    }
  },
  "cells": [
    {
      "cell_type": "markdown",
      "metadata": {
        "id": "QnPNcRbuhfa2",
        "colab_type": "text"
      },
      "source": [
        "# Chapter 5 - Perform Your First Cluster Analysis\n",
        "\n",
        "Build your first unsupervised models with the most popular clustering algorithms"
      ]
    },
    {
      "cell_type": "markdown",
      "metadata": {
        "id": "FlMCgpkwiTfj",
        "colab_type": "text"
      },
      "source": [
        "## Exercise 3: Different initialisation parameters\n",
        "\n",
        "In this exercise, we will the same data as for Exercise 1 and try different values for the hyperparameters init and n_init."
      ]
    },
    {
      "cell_type": "markdown",
      "metadata": {
        "id": "G85dXBhyicNt",
        "colab_type": "text"
      },
      "source": [
        "\n",
        "\n",
        "---\n",
        "\n",
        "1. Open on a new Colab notebook. Import the required packages (pandas, sklearn, altair)\n",
        "import pandas as pd\n",
        "\n",
        "\n",
        "\n",
        "---\n",
        "\n"
      ]
    },
    {
      "cell_type": "code",
      "metadata": {
        "id": "Q2G8RMoqjlRo",
        "colab_type": "code",
        "colab": {}
      },
      "source": [
        "# Put your code here #"
      ],
      "execution_count": 0,
      "outputs": []
    },
    {
      "cell_type": "markdown",
      "metadata": {
        "id": "RVZsa1cgilbR",
        "colab_type": "text"
      },
      "source": [
        "\n",
        "\n",
        "---\n",
        "\n",
        "2. Load the dataset and select the same columns as in exercise 1.\n",
        "\n",
        "\n",
        "\n",
        "---\n",
        "\n",
        "\n",
        "Hints:\n",
        "* Use read_csv method from the package pandas\n",
        "* Provide the list of the 3 variables name to the parameter usecols\n"
      ]
    },
    {
      "cell_type": "code",
      "metadata": {
        "id": "q9ENk-BCjox2",
        "colab_type": "code",
        "colab": {}
      },
      "source": [
        "# Put your code here #"
      ],
      "execution_count": 0,
      "outputs": []
    },
    {
      "cell_type": "markdown",
      "metadata": {
        "id": "FQNH-C29iuub",
        "colab_type": "text"
      },
      "source": [
        "\n",
        "\n",
        "---\n",
        "\n",
        "3. Fit a k-means with n_init 1 and random init. Plot the scatter plot.\n",
        "\n",
        "\n",
        "\n",
        "---\n",
        "\n"
      ]
    },
    {
      "cell_type": "markdown",
      "metadata": {
        "id": "GgV9rX54jdOy",
        "colab_type": "text"
      },
      "source": [
        "Expected output:\n",
        "\n",
        "![Figure 29 - Clustering results with n_init of 1 and init as random](https://docs.google.com/uc?export=download&id=1hxvZbhx7cyo7CeDqzVAFViAxkyIWxoBY)\n"
      ]
    },
    {
      "cell_type": "code",
      "metadata": {
        "id": "kgeN0EORjdVT",
        "colab_type": "code",
        "colab": {}
      },
      "source": [
        "# Put your code here #"
      ],
      "execution_count": 0,
      "outputs": []
    },
    {
      "cell_type": "markdown",
      "metadata": {
        "id": "SUlmGCsKi2AP",
        "colab_type": "text"
      },
      "source": [
        "\n",
        "\n",
        "---\n",
        "\n",
        "4. Fit a k-means with n_init 10 and random init. Plot the scatter plot.\n",
        "\n",
        "\n",
        "\n",
        "---\n",
        "\n"
      ]
    },
    {
      "cell_type": "markdown",
      "metadata": {
        "id": "2I4-Mdm1jccK",
        "colab_type": "text"
      },
      "source": [
        "Expected output:\n",
        "\n",
        "![Figure 30 - Clustering results with n_init of 10 and init as random](https://docs.google.com/uc?export=download&id=134FWYZVzhRg3SLsDKgZpDj_3QrKnZXTa)\n"
      ]
    },
    {
      "cell_type": "code",
      "metadata": {
        "id": "jr3rkEoWjci9",
        "colab_type": "code",
        "colab": {}
      },
      "source": [
        "# Put your code here #"
      ],
      "execution_count": 0,
      "outputs": []
    },
    {
      "cell_type": "markdown",
      "metadata": {
        "id": "SUcLMKrhi-SN",
        "colab_type": "text"
      },
      "source": [
        "\n",
        "\n",
        "---\n",
        "\n",
        "5. Fit a k-means with n_init 100 and random init. Plot the scatter plot.\n",
        "\n",
        "\n",
        "---\n",
        "\n"
      ]
    },
    {
      "cell_type": "markdown",
      "metadata": {
        "id": "LJQzRO44jb6h",
        "colab_type": "text"
      },
      "source": [
        "Expected output:\n",
        "\n",
        "![Figure 31 - Clustering results with n_init of 10 and init as random](https://docs.google.com/uc?export=download&id=1NCdtCIQ8O-5DEjb-DA2Dq9ohlurbCXgM)"
      ]
    },
    {
      "cell_type": "code",
      "metadata": {
        "id": "-v3G6C0FjcDR",
        "colab_type": "code",
        "colab": {}
      },
      "source": [
        "# Put your code here #"
      ],
      "execution_count": 0,
      "outputs": []
    },
    {
      "cell_type": "markdown",
      "metadata": {
        "id": "y0PKFbHyjHjA",
        "colab_type": "text"
      },
      "source": [
        "Great job! You just learned how to tune the 2 main hyperparameters responsible for initialising the k-means clusters. "
      ]
    }
  ]
}