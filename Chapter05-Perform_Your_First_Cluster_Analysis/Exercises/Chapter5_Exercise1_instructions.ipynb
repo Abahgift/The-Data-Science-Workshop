{
  "nbformat": 4,
  "nbformat_minor": 0,
  "metadata": {
    "colab": {
      "name": "Chapter5_Exercise1_instructions.ipynb",
      "version": "0.3.2",
      "provenance": [],
      "collapsed_sections": []
    },
    "kernelspec": {
      "name": "python3",
      "display_name": "Python 3"
    }
  },
  "cells": [
    {
      "cell_type": "markdown",
      "metadata": {
        "id": "QnPNcRbuhfa2",
        "colab_type": "text"
      },
      "source": [
        "# Chapter 5 - Perform Your First Cluster Analysis\n",
        "\n",
        "Build your first unsupervised models with the most popular clustering algorithms"
      ]
    },
    {
      "cell_type": "markdown",
      "metadata": {
        "id": "f844xZi24DnG",
        "colab_type": "text"
      },
      "source": [
        "## Exercise 1: Cluster Australian postcodes by businesses income and expenses\n",
        "\n",
        "In this exercise, we will learn how to perform a clustering analysis with k-means and visualise its results on a graph.\n"
      ]
    },
    {
      "cell_type": "markdown",
      "metadata": {
        "id": "RRt8oM9HEgcA",
        "colab_type": "text"
      },
      "source": [
        "---\n",
        "\n",
        "1. Open on a new Colab notebook. Import the required packages (**pandas**, **sklearn**, **altair**, **numpy**)\n",
        "\n",
        "\n",
        "\n",
        "---"
      ]
    },
    {
      "cell_type": "code",
      "metadata": {
        "id": "lH6PcZ_JMU6L",
        "colab_type": "code",
        "colab": {}
      },
      "source": [
        "# Put your code here #"
      ],
      "execution_count": 0,
      "outputs": []
    },
    {
      "cell_type": "markdown",
      "metadata": {
        "id": "KDXpYzPC4Q1b",
        "colab_type": "text"
      },
      "source": [
        "\n",
        "\n",
        "---\n",
        "\n",
        "\n",
        "2. Load the ATO dataset with the following columns only: '*Postcode*', '*Average total business income*' and '*Average total business expenses*'. Display the last 10 rows of the dataframe.\n",
        "\n",
        "\n",
        "\n",
        "---\n",
        "\n",
        "Hints:\n",
        "* Use **read_csv()** method from the package **pandas**\n",
        "* Provide the list of the 3 variables name to the parameter **usecols**\n",
        "* Look at the **tail()** method from the package **pandas**\n"
      ]
    },
    {
      "cell_type": "markdown",
      "metadata": {
        "id": "g3Z68ZuGMSyC",
        "colab_type": "text"
      },
      "source": [
        "Expected Output:\n",
        "![Figure 9 - Last 10 rows of the ATO dataset](https://docs.google.com/uc?export=download&id=1OfjvvwZRz0wTJGL4T0lrizURu5-J05oD)\n"
      ]
    },
    {
      "cell_type": "code",
      "metadata": {
        "id": "PntIJSPyMS3k",
        "colab_type": "code",
        "colab": {}
      },
      "source": [
        "# Put your code here #"
      ],
      "execution_count": 0,
      "outputs": []
    },
    {
      "cell_type": "markdown",
      "metadata": {
        "id": "6oYcamai4RNV",
        "colab_type": "text"
      },
      "source": [
        "\n",
        "\n",
        "---\n",
        "\n",
        "\n",
        "3. Extract the columns '*Average total business income*' and '*Average total business expenses*' and save it into a variable called '*X*'. Fit k-means with this new variable using 8 as the value for the hyperparameter **random_state**.\n",
        "\n",
        "\n",
        "---\n",
        "\n",
        "\n",
        "\n",
        "Hints:\n",
        "* In the package **pandas**, you can filter the columns using the following syntax: dataframe_name[list_of_columns]\n",
        "* Use the **fit()** method from the package **sklearn**\n",
        "\n"
      ]
    },
    {
      "cell_type": "markdown",
      "metadata": {
        "id": "pEfZxR6wMdSR",
        "colab_type": "text"
      },
      "source": [
        "Expected Output:\n",
        "![Figure 10 - Summary of the fitted k-means and its hyperparameters](https://docs.google.com/uc?export=download&id=1WFvByNdoVOugaN9wynGCsiUR1WmTCdCl)\n"
      ]
    },
    {
      "cell_type": "code",
      "metadata": {
        "id": "XdMbcsuoMRUo",
        "colab_type": "code",
        "colab": {}
      },
      "source": [
        "# Put your code here #"
      ],
      "execution_count": 0,
      "outputs": []
    },
    {
      "cell_type": "markdown",
      "metadata": {
        "id": "aXOAHBtr4Rbo",
        "colab_type": "text"
      },
      "source": [
        "\n",
        "\n",
        "---\n",
        "\n",
        "\n",
        "4. Predict the clustering assignment from the same input variable '*X*' and save them into a new variable called '*y_preds*'. Print the results for the last 10 rows.\n",
        "\n",
        "\n",
        "---\n",
        "\n",
        "\n",
        "\n",
        "Hints:\n",
        "* Use the **predict()** method from **sklearn**\n",
        "* In **pandas** you can subset the rows of a dataframe using the following syntax: dataframe_name[list_of_rows]\n",
        "* Look at the special character \"**:**\" in **pandas** in order to get the list of rows needed\n"
      ]
    },
    {
      "cell_type": "markdown",
      "metadata": {
        "id": "v2sB7SQLMQJv",
        "colab_type": "text"
      },
      "source": [
        "Expected Output:\n",
        "![Figure 11  - Summary of the fitted k-means and its hyperparameters](https://docs.google.com/uc?export=download&id=1LFDUCp2udydm4MJt11oUgQ3iRQPFNs0H)\n"
      ]
    },
    {
      "cell_type": "code",
      "metadata": {
        "id": "bxd1ah1kMQnS",
        "colab_type": "code",
        "colab": {}
      },
      "source": [
        "# Put your code here #"
      ],
      "execution_count": 0,
      "outputs": []
    },
    {
      "cell_type": "markdown",
      "metadata": {
        "id": "FAQBZ4L14RpT",
        "colab_type": "text"
      },
      "source": [
        "\n",
        "\n",
        "---\n",
        "\n",
        "\n",
        "5. Save the predicted clusters back to the dataframe by creating a new column called '*cluster*'. Print the last 10 rows of the dataframe.\n",
        "\n",
        "\n",
        "\n",
        "---\n",
        "\n",
        "\n",
        "Hints:\n",
        "* Look at the **tail()** method from the package **pandas**\n"
      ]
    },
    {
      "cell_type": "markdown",
      "metadata": {
        "id": "VB3_AyFsMMM8",
        "colab_type": "text"
      },
      "source": [
        "Expected Output:\n",
        "![Figure 12 - Last 10 rows of the ATO dataset with the added cluster column](https://docs.google.com/uc?export=download&id=1aJUyXuyEf11rOCaUIvANFTjoniImYv4G)"
      ]
    },
    {
      "cell_type": "code",
      "metadata": {
        "id": "0DsZRGq_MMWN",
        "colab_type": "code",
        "colab": {}
      },
      "source": [
        "# Put your code here #"
      ],
      "execution_count": 0,
      "outputs": []
    },
    {
      "cell_type": "markdown",
      "metadata": {
        "id": "aI3U1YPi4R2v",
        "colab_type": "text"
      },
      "source": [
        "\n",
        "\n",
        "---\n",
        "\n",
        "\n",
        "6. Generate the pivot table with the average of the 2 columns for each cluster value.\n",
        "\n",
        "\n",
        "\n",
        "---\n",
        "\n",
        "\n",
        "Hints:\n",
        "* Look at the **pivot_table()** method from the package **pandas**\n",
        "* Use the **mean()** method from **numpy** for the aggregation function\n"
      ]
    },
    {
      "cell_type": "markdown",
      "metadata": {
        "id": "dyqQhMMqMFRf",
        "colab_type": "text"
      },
      "source": [
        "Expected Output:\n",
        "![Figure 13 - Output of the pivot_table function](https://docs.google.com/uc?export=download&id=183dlNf-23B11rNyj-jUqb_wyWfdCtm58)\n"
      ]
    },
    {
      "cell_type": "code",
      "metadata": {
        "id": "NJq89OE3MEy2",
        "colab_type": "code",
        "colab": {}
      },
      "source": [
        "# Put your code here #"
      ],
      "execution_count": 0,
      "outputs": []
    },
    {
      "cell_type": "markdown",
      "metadata": {
        "id": "56ZUXGxo4SD8",
        "colab_type": "text"
      },
      "source": [
        "\n",
        "\n",
        "---\n",
        "\n",
        "\n",
        "7. Plot the clusters using an interactive scatter plot.\n",
        "\n",
        "\n",
        "---\n",
        "\n",
        "\n",
        "\n",
        "Hints:\n",
        "* Use **Chart()** from the package **altair** to instantiate a graph\n",
        "* Use the method **mark_circle()** and **encode()** from the package **altair** to define the scatter plot\n",
        "* Use the **color** parameters and **tooltip** to customise the scatter plot display"
      ]
    },
    {
      "cell_type": "markdown",
      "metadata": {
        "id": "ujtrYiMnL-91",
        "colab_type": "text"
      },
      "source": [
        "\n",
        "Expected Output:\n",
        "![Figure 14 - Interactive scatter plot of the clusters](https://docs.google.com/uc?export=download&id=1ATZM5wPH4TJAb9nZjgQpzCBdolXbKbm8)\n"
      ]
    },
    {
      "cell_type": "code",
      "metadata": {
        "id": "mgmV0CcYMBHI",
        "colab_type": "code",
        "colab": {}
      },
      "source": [
        "# Put your code here #"
      ],
      "execution_count": 0,
      "outputs": []
    },
    {
      "cell_type": "markdown",
      "metadata": {
        "id": "rc6byXsI4SRI",
        "colab_type": "text"
      },
      "source": [
        "Well done! You just performed your first cluster analysis and visualise its results. You learned how to load a real world dataset, fit k-means and plot a scatter plot. This is a great start and we will be delving into more details on how to improve the performance of your model."
      ]
    }
  ]
}