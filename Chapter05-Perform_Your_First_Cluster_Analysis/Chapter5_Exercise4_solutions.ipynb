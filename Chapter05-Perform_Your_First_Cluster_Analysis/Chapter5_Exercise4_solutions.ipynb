{
  "nbformat": 4,
  "nbformat_minor": 0,
  "metadata": {
    "colab": {
      "name": "Chapter5_Exercise4.ipynb",
      "version": "0.3.2",
      "provenance": [],
      "collapsed_sections": []
    },
    "kernelspec": {
      "name": "python3",
      "display_name": "Python 3"
    }
  },
  "cells": [
    {
      "cell_type": "markdown",
      "metadata": {
        "id": "pej4Q1BoPSy3",
        "colab_type": "text"
      },
      "source": [
        "# Exercise 4: Find the closest centroids\n",
        "\n",
        "In this exercise, we will code from scratch the first k-mean iteration to assign a data point to its closest cluster."
      ]
    },
    {
      "cell_type": "markdown",
      "metadata": {
        "id": "G5iMQ9BsPNM9",
        "colab_type": "text"
      },
      "source": [
        "1. Open on a new Colab notebook. Import the required packages (pandas, sklearn, altair)"
      ]
    },
    {
      "cell_type": "code",
      "metadata": {
        "id": "SccuCN2rRT73",
        "colab_type": "code",
        "colab": {}
      },
      "source": [
        "import pandas as pd\n",
        "from sklearn.cluster import KMeans\n",
        "import altair as alt "
      ],
      "execution_count": 0,
      "outputs": []
    },
    {
      "cell_type": "markdown",
      "metadata": {
        "id": "N8ymv5shPdPk",
        "colab_type": "text"
      },
      "source": [
        "2. Load the dataset and select the same columns as in exercise 1.\n",
        "\n",
        "Hints: \n",
        "- Use **read_csv** method from the package **pandas**\n",
        "- Provide the list of the 3 variables name to the parameter **usecols**"
      ]
    },
    {
      "cell_type": "code",
      "metadata": {
        "id": "klqmOLzcRcaC",
        "colab_type": "code",
        "colab": {}
      },
      "source": [
        "file_url = 'https://data.gov.au/data/dataset/5c99cfed-254d-40a6-af1c-47412b7de6fe/resource/4e21e064-9ff9-4033-a79a-37681f9e54b1/download/taxstats2015individual28countaveragemedianbypostcode.csv'\n",
        "df = pd.read_csv(file_url, usecols=['Postcode', 'Average total business income', 'Average total business expenses'])"
      ],
      "execution_count": 0,
      "outputs": []
    },
    {
      "cell_type": "markdown",
      "metadata": {
        "id": "PjUKMFqCPhqz",
        "colab_type": "text"
      },
      "source": [
        "3. Calculate the minimum and maximum values of the variables '*Average total business income*' and '*Average total business income'* and print their values.\n",
        "\n",
        "Hints: \n",
        "- Use **min()** and **max()** from the package **pandas** as the limit range\n",
        "\n",
        "\n",
        "\n"
      ]
    },
    {
      "cell_type": "code",
      "metadata": {
        "id": "3HxjSA2_LabL",
        "colab_type": "code",
        "outputId": "6a5e6c16-d1d3-45f6-945c-4375f7c26b0c",
        "colab": {
          "base_uri": "https://localhost:8080/",
          "height": 85
        }
      },
      "source": [
        "business_income_min = df['Average total business income'].min()\n",
        "business_income_max = df['Average total business income'].max()\n",
        "\n",
        "business_expenses_min = df['Average total business expenses'].min()\n",
        "business_expenses_max = df['Average total business expenses'].max()\n",
        "\n",
        "print(business_income_min)\n",
        "print(business_income_max)\n",
        "print(business_expenses_min)\n",
        "print(business_expenses_max)"
      ],
      "execution_count": 0,
      "outputs": [
        {
          "output_type": "stream",
          "text": [
            "0\n",
            "876324\n",
            "0\n",
            "884659\n"
          ],
          "name": "stdout"
        }
      ]
    },
    {
      "cell_type": "markdown",
      "metadata": {
        "id": "7LLBQ6XcOqy0",
        "colab_type": "text"
      },
      "source": [
        "4. Generate random coordinates for the 4 centroids with possible values between the minimum and maximum of the 2 variables and store them into a dataframe. Print the dataframe\n",
        "\n",
        "Hints: \n",
        "- Look at the **sample** method from the package **random**\n",
        "- Use the function **range** to define the limits\n",
        "- Add the dataframe index into a column called '*cluster*' (this will be used for displaying the cluster number in the scatter plot tooltip)\n",
        "- Set the seed to 42 so that you get the same results\n"
      ]
    },
    {
      "cell_type": "code",
      "metadata": {
        "id": "sQfjlCdAOq9t",
        "colab_type": "code",
        "outputId": "8f4206b7-e1d5-42c5-c94b-79ff6e4ad78a",
        "colab": {
          "base_uri": "https://localhost:8080/",
          "height": 173
        }
      },
      "source": [
        "import random\n",
        "random.seed(42)\n",
        "\n",
        "centroids = pd.DataFrame()\n",
        "\n",
        "centroids['Average total business income'] = random.sample(range(business_income_min, business_income_max), 4)\n",
        "centroids['Average total business expenses'] = random.sample(range(business_expenses_min, business_expenses_max), 4)\n",
        "centroids['cluster'] = centroids.index\n",
        "centroids"
      ],
      "execution_count": 0,
      "outputs": [
        {
          "output_type": "execute_result",
          "data": {
            "text/html": [
              "<div>\n",
              "<style scoped>\n",
              "    .dataframe tbody tr th:only-of-type {\n",
              "        vertical-align: middle;\n",
              "    }\n",
              "\n",
              "    .dataframe tbody tr th {\n",
              "        vertical-align: top;\n",
              "    }\n",
              "\n",
              "    .dataframe thead th {\n",
              "        text-align: right;\n",
              "    }\n",
              "</style>\n",
              "<table border=\"1\" class=\"dataframe\">\n",
              "  <thead>\n",
              "    <tr style=\"text-align: right;\">\n",
              "      <th></th>\n",
              "      <th>Average total business income</th>\n",
              "      <th>Average total business expenses</th>\n",
              "      <th>cluster</th>\n",
              "    </tr>\n",
              "  </thead>\n",
              "  <tbody>\n",
              "    <tr>\n",
              "      <th>0</th>\n",
              "      <td>670487</td>\n",
              "      <td>288389</td>\n",
              "      <td>0</td>\n",
              "    </tr>\n",
              "    <tr>\n",
              "      <th>1</th>\n",
              "      <td>116739</td>\n",
              "      <td>256787</td>\n",
              "      <td>1</td>\n",
              "    </tr>\n",
              "    <tr>\n",
              "      <th>2</th>\n",
              "      <td>26225</td>\n",
              "      <td>234053</td>\n",
              "      <td>2</td>\n",
              "    </tr>\n",
              "    <tr>\n",
              "      <th>3</th>\n",
              "      <td>777572</td>\n",
              "      <td>146316</td>\n",
              "      <td>3</td>\n",
              "    </tr>\n",
              "  </tbody>\n",
              "</table>\n",
              "</div>"
            ],
            "text/plain": [
              "   Average total business income  Average total business expenses  cluster\n",
              "0                         670487                           288389        0\n",
              "1                         116739                           256787        1\n",
              "2                          26225                           234053        2\n",
              "3                         777572                           146316        3"
            ]
          },
          "metadata": {
            "tags": []
          },
          "execution_count": 4
        }
      ]
    },
    {
      "cell_type": "markdown",
      "metadata": {
        "id": "H4DsWZhVVkZa",
        "colab_type": "text"
      },
      "source": [
        "5. Plot the centroids and the first 5 rows of the dataset.\n",
        "\n",
        "Hints:\n",
        "- Create 2 different scatter plots on **altair** and combine them"
      ]
    },
    {
      "cell_type": "code",
      "metadata": {
        "id": "cOU7S4d2VkpK",
        "colab_type": "code",
        "outputId": "1dc050b0-2482-4fe1-e979-e32e98ae6d62",
        "colab": {
          "base_uri": "https://localhost:8080/",
          "height": 363
        }
      },
      "source": [
        "chart1 = alt.Chart(df.head()).mark_circle().encode(x='Average total business income', y='Average total business expenses', \n",
        "    color=alt.value('orange'),\n",
        "    tooltip=['Postcode', 'Average total business income', 'Average total business expenses']\n",
        ").interactive()\n",
        "\n",
        "chart2 = alt.Chart(centroids).mark_circle(size=100).encode(x='Average total business income', y='Average total business expenses', \n",
        "    color=alt.value('black'),\n",
        "    tooltip=['cluster', 'Average total business income', 'Average total business expenses']\n",
        ").interactive()\n",
        "\n",
        "chart1 + chart2"
      ],
      "execution_count": 0,
      "outputs": [
        {
          "output_type": "execute_result",
          "data": {
            "text/plain": [
              "LayerChart({\n",
              "  layer: [Chart({\n",
              "    data:    Postcode  Average total business income  Average total business expenses\n",
              "    0      2000                         210901                           222191\n",
              "    1      2006                          69983                            48971\n",
              "    2      2007                         575099                           639499\n",
              "    3      2008                          53329                            32173\n",
              "    4      2009                         237539                           222993,\n",
              "    encoding: FacetedEncoding({\n",
              "      color: ValueDefWithOptionalConditionMarkPropFieldDefstringnull({\n",
              "        value: 'orange'\n",
              "      }),\n",
              "      tooltip: [Tooltip({\n",
              "        field: 'Postcode',\n",
              "        type: 'quantitative'\n",
              "      }), Tooltip({\n",
              "        field: 'Average total business income',\n",
              "        type: 'quantitative'\n",
              "      }), Tooltip({\n",
              "        field: 'Average total business expenses',\n",
              "        type: 'quantitative'\n",
              "      })],\n",
              "      x: X({\n",
              "        field: 'Average total business income',\n",
              "        type: 'quantitative'\n",
              "      }),\n",
              "      y: Y({\n",
              "        field: 'Average total business expenses',\n",
              "        type: 'quantitative'\n",
              "      })\n",
              "    }),\n",
              "    mark: 'circle',\n",
              "    selection: {'selector001': SelectionDef({\n",
              "      bind: 'scales',\n",
              "      encodings: ['x', 'y'],\n",
              "      type: 'interval'\n",
              "    })}\n",
              "  }), Chart({\n",
              "    data:    Average total business income  Average total business expenses  cluster\n",
              "    0                         670487                           288389        0\n",
              "    1                         116739                           256787        1\n",
              "    2                          26225                           234053        2\n",
              "    3                         777572                           146316        3,\n",
              "    encoding: FacetedEncoding({\n",
              "      color: ValueDefWithOptionalConditionMarkPropFieldDefstringnull({\n",
              "        value: 'black'\n",
              "      }),\n",
              "      tooltip: [Tooltip({\n",
              "        field: 'cluster',\n",
              "        type: 'quantitative'\n",
              "      }), Tooltip({\n",
              "        field: 'Average total business income',\n",
              "        type: 'quantitative'\n",
              "      }), Tooltip({\n",
              "        field: 'Average total business expenses',\n",
              "        type: 'quantitative'\n",
              "      })],\n",
              "      x: X({\n",
              "        field: 'Average total business income',\n",
              "        type: 'quantitative'\n",
              "      }),\n",
              "      y: Y({\n",
              "        field: 'Average total business expenses',\n",
              "        type: 'quantitative'\n",
              "      })\n",
              "    }),\n",
              "    mark: MarkDef({\n",
              "      size: 100,\n",
              "      type: 'circle'\n",
              "    }),\n",
              "    selection: {'selector002': SelectionDef({\n",
              "      bind: 'scales',\n",
              "      encodings: ['x', 'y'],\n",
              "      type: 'interval'\n",
              "    })}\n",
              "  })]\n",
              "})"
            ],
            "text/html": [
              "<!DOCTYPE html>\n",
              "<html>\n",
              "<head>\n",
              "  <style>\n",
              "    .vega-actions a {\n",
              "        margin-right: 12px;\n",
              "        color: #757575;\n",
              "        font-weight: normal;\n",
              "        font-size: 13px;\n",
              "    }\n",
              "    .error {\n",
              "        color: red;\n",
              "    }\n",
              "  </style>\n",
              "  <script type=\"text/javascript\" src=\"https://cdn.jsdelivr.net/npm//vega@5\"></script>\n",
              "  <script type=\"text/javascript\" src=\"https://cdn.jsdelivr.net/npm//vega-lite@3.3.0\"></script>\n",
              "  <script type=\"text/javascript\" src=\"https://cdn.jsdelivr.net/npm//vega-embed@4\"></script>\n",
              "</head>\n",
              "<body>\n",
              "  <div id=\"altair-viz\"></div>\n",
              "  <script>\n",
              "      var spec = {\"config\": {\"view\": {\"width\": 400, \"height\": 300}, \"mark\": {\"tooltip\": null}}, \"layer\": [{\"data\": {\"name\": \"data-ee08fe22868040b6b3d88b7a2d94fff4\"}, \"mark\": \"circle\", \"encoding\": {\"color\": {\"value\": \"orange\"}, \"tooltip\": [{\"type\": \"quantitative\", \"field\": \"Postcode\"}, {\"type\": \"quantitative\", \"field\": \"Average total business income\"}, {\"type\": \"quantitative\", \"field\": \"Average total business expenses\"}], \"x\": {\"type\": \"quantitative\", \"field\": \"Average total business income\"}, \"y\": {\"type\": \"quantitative\", \"field\": \"Average total business expenses\"}}, \"selection\": {\"selector001\": {\"type\": \"interval\", \"bind\": \"scales\", \"encodings\": [\"x\", \"y\"]}}}, {\"data\": {\"name\": \"data-4af31deb9417aa0ac5e19a2ec313b795\"}, \"mark\": {\"type\": \"circle\", \"size\": 100}, \"encoding\": {\"color\": {\"value\": \"black\"}, \"tooltip\": [{\"type\": \"quantitative\", \"field\": \"cluster\"}, {\"type\": \"quantitative\", \"field\": \"Average total business income\"}, {\"type\": \"quantitative\", \"field\": \"Average total business expenses\"}], \"x\": {\"type\": \"quantitative\", \"field\": \"Average total business income\"}, \"y\": {\"type\": \"quantitative\", \"field\": \"Average total business expenses\"}}, \"selection\": {\"selector002\": {\"type\": \"interval\", \"bind\": \"scales\", \"encodings\": [\"x\", \"y\"]}}}], \"$schema\": \"https://vega.github.io/schema/vega-lite/v3.3.0.json\", \"datasets\": {\"data-ee08fe22868040b6b3d88b7a2d94fff4\": [{\"Postcode\": 2000, \"Average total business income\": 210901, \"Average total business expenses\": 222191}, {\"Postcode\": 2006, \"Average total business income\": 69983, \"Average total business expenses\": 48971}, {\"Postcode\": 2007, \"Average total business income\": 575099, \"Average total business expenses\": 639499}, {\"Postcode\": 2008, \"Average total business income\": 53329, \"Average total business expenses\": 32173}, {\"Postcode\": 2009, \"Average total business income\": 237539, \"Average total business expenses\": 222993}], \"data-4af31deb9417aa0ac5e19a2ec313b795\": [{\"Average total business income\": 670487, \"Average total business expenses\": 288389, \"cluster\": 0}, {\"Average total business income\": 116739, \"Average total business expenses\": 256787, \"cluster\": 1}, {\"Average total business income\": 26225, \"Average total business expenses\": 234053, \"cluster\": 2}, {\"Average total business income\": 777572, \"Average total business expenses\": 146316, \"cluster\": 3}]}};\n",
              "      var embedOpt = {\"mode\": \"vega-lite\"};\n",
              "\n",
              "      function showError(el, error){\n",
              "          el.innerHTML = ('<div class=\"error\" style=\"color:red;\">'\n",
              "                          + '<p>JavaScript Error: ' + error.message + '</p>'\n",
              "                          + \"<p>This usually means there's a typo in your chart specification. \"\n",
              "                          + \"See the javascript console for the full traceback.</p>\"\n",
              "                          + '</div>');\n",
              "          throw error;\n",
              "      }\n",
              "      const el = document.getElementById('altair-viz');\n",
              "      vegaEmbed(\"#altair-viz\", spec, embedOpt)\n",
              "        .catch(error => showError(el, error));\n",
              "\n",
              "  </script>\n",
              "</body>\n",
              "</html>"
            ]
          },
          "metadata": {
            "tags": []
          },
          "execution_count": 5
        }
      ]
    },
    {
      "cell_type": "markdown",
      "metadata": {
        "id": "vlA1784nSzCO",
        "colab_type": "text"
      },
      "source": [
        "6. For the first row calculate its squared Euclidean distance against each of the 4 centroids\n",
        "\n",
        "Hints:\n",
        "- Look at the method **at** from the package **pandas** to extract value from a given row\n",
        "- Define a function that will calculate squared Euclidean distance then use a list comprehension (or a for loop) to iterate through each centroid"
      ]
    },
    {
      "cell_type": "code",
      "metadata": {
        "id": "C7G0csE5mbOM",
        "colab_type": "code",
        "outputId": "6f3a97dd-c9a9-4e83-a7df-5aa7f4b2ddd0",
        "colab": {
          "base_uri": "https://localhost:8080/",
          "height": 34
        }
      },
      "source": [
        "def squared_euclidean(data_x, data_y, centroid_x, centroid_y, ):\n",
        "  return (data_x - centroid_x)**2 + (data_y - centroid_y)**2\n",
        "\n",
        "data_x = df.at[0, 'Average total business income']\n",
        "data_y = df.at[0, 'Average total business expenses']\n",
        "distances = [squared_euclidean(data_x, data_y, centroids.at[i, 'Average total business income'], centroids.at[i, 'Average total business expenses']) for i in range(4)]\n",
        "distances"
      ],
      "execution_count": 0,
      "outputs": [
        {
          "output_type": "execute_result",
          "data": {
            "text/plain": [
              "[215601466600, 10063365460, 34245932020, 326873037866]"
            ]
          },
          "metadata": {
            "tags": []
          },
          "execution_count": 6
        }
      ]
    },
    {
      "cell_type": "markdown",
      "metadata": {
        "id": "kYUi-S-Gn86B",
        "colab_type": "text"
      },
      "source": [
        "7. Let's find the index of the smallest element in the distances list and saved it into the dataframe in a new column called '*cluster*'\n",
        "\n",
        "Hints:\n",
        "- Use the **index** method from the list\n"
      ]
    },
    {
      "cell_type": "code",
      "metadata": {
        "id": "rdOlOl-LnwjF",
        "colab_type": "code",
        "outputId": "d3712986-4a2d-48a2-9e0b-c83b6e417f7a",
        "colab": {
          "base_uri": "https://localhost:8080/",
          "height": 204
        }
      },
      "source": [
        "cluster_index = distances.index(min(distances))\n",
        "df.at[0, 'cluster'] = cluster_index\n",
        "df.head()"
      ],
      "execution_count": 0,
      "outputs": [
        {
          "output_type": "execute_result",
          "data": {
            "text/html": [
              "<div>\n",
              "<style scoped>\n",
              "    .dataframe tbody tr th:only-of-type {\n",
              "        vertical-align: middle;\n",
              "    }\n",
              "\n",
              "    .dataframe tbody tr th {\n",
              "        vertical-align: top;\n",
              "    }\n",
              "\n",
              "    .dataframe thead th {\n",
              "        text-align: right;\n",
              "    }\n",
              "</style>\n",
              "<table border=\"1\" class=\"dataframe\">\n",
              "  <thead>\n",
              "    <tr style=\"text-align: right;\">\n",
              "      <th></th>\n",
              "      <th>Postcode</th>\n",
              "      <th>Average total business income</th>\n",
              "      <th>Average total business expenses</th>\n",
              "      <th>cluster</th>\n",
              "    </tr>\n",
              "  </thead>\n",
              "  <tbody>\n",
              "    <tr>\n",
              "      <th>0</th>\n",
              "      <td>2000</td>\n",
              "      <td>210901</td>\n",
              "      <td>222191</td>\n",
              "      <td>1.0</td>\n",
              "    </tr>\n",
              "    <tr>\n",
              "      <th>1</th>\n",
              "      <td>2006</td>\n",
              "      <td>69983</td>\n",
              "      <td>48971</td>\n",
              "      <td>NaN</td>\n",
              "    </tr>\n",
              "    <tr>\n",
              "      <th>2</th>\n",
              "      <td>2007</td>\n",
              "      <td>575099</td>\n",
              "      <td>639499</td>\n",
              "      <td>NaN</td>\n",
              "    </tr>\n",
              "    <tr>\n",
              "      <th>3</th>\n",
              "      <td>2008</td>\n",
              "      <td>53329</td>\n",
              "      <td>32173</td>\n",
              "      <td>NaN</td>\n",
              "    </tr>\n",
              "    <tr>\n",
              "      <th>4</th>\n",
              "      <td>2009</td>\n",
              "      <td>237539</td>\n",
              "      <td>222993</td>\n",
              "      <td>NaN</td>\n",
              "    </tr>\n",
              "  </tbody>\n",
              "</table>\n",
              "</div>"
            ],
            "text/plain": [
              "   Postcode  ...  cluster\n",
              "0      2000  ...      1.0\n",
              "1      2006  ...      NaN\n",
              "2      2007  ...      NaN\n",
              "3      2008  ...      NaN\n",
              "4      2009  ...      NaN\n",
              "\n",
              "[5 rows x 4 columns]"
            ]
          },
          "metadata": {
            "tags": []
          },
          "execution_count": 7
        }
      ]
    },
    {
      "cell_type": "markdown",
      "metadata": {
        "id": "i4hTvLwxPtuR",
        "colab_type": "text"
      },
      "source": [
        "8. Repeat steps 5 and 6 for the next 4 rows.\n"
      ]
    },
    {
      "cell_type": "code",
      "metadata": {
        "id": "Gg8pNZOzpFyB",
        "colab_type": "code",
        "outputId": "95f86e0c-381f-4da9-8251-91f9b1b819e2",
        "colab": {
          "base_uri": "https://localhost:8080/",
          "height": 204
        }
      },
      "source": [
        "distances = [squared_euclidean(df.at[1, 'Average total business income'], df.at[1, 'Average total business expenses'], centroids.at[i, 'Average total business income'], centroids.at[i, 'Average total business expenses']) for i in range(4)]\n",
        "df.at[1, 'cluster'] = distances.index(min(distances))\n",
        "\n",
        "distances = [squared_euclidean(df.at[2, 'Average total business income'], df.at[2, 'Average total business expenses'], centroids.at[i, 'Average total business income'], centroids.at[i, 'Average total business expenses']) for i in range(4)]\n",
        "df.at[2, 'cluster'] = distances.index(min(distances))\n",
        "\n",
        "distances = [squared_euclidean(df.at[3, 'Average total business income'], df.at[3, 'Average total business expenses'], centroids.at[i, 'Average total business income'], centroids.at[i, 'Average total business expenses']) for i in range(4)]\n",
        "df.at[3, 'cluster'] = distances.index(min(distances))\n",
        "\n",
        "distances = [squared_euclidean(df.at[4, 'Average total business income'], df.at[4, 'Average total business expenses'], centroids.at[i, 'Average total business income'], centroids.at[i, 'Average total business expenses']) for i in range(4)]\n",
        "df.at[4, 'cluster'] = distances.index(min(distances))\n",
        "\n",
        "df.head()"
      ],
      "execution_count": 0,
      "outputs": [
        {
          "output_type": "execute_result",
          "data": {
            "text/html": [
              "<div>\n",
              "<style scoped>\n",
              "    .dataframe tbody tr th:only-of-type {\n",
              "        vertical-align: middle;\n",
              "    }\n",
              "\n",
              "    .dataframe tbody tr th {\n",
              "        vertical-align: top;\n",
              "    }\n",
              "\n",
              "    .dataframe thead th {\n",
              "        text-align: right;\n",
              "    }\n",
              "</style>\n",
              "<table border=\"1\" class=\"dataframe\">\n",
              "  <thead>\n",
              "    <tr style=\"text-align: right;\">\n",
              "      <th></th>\n",
              "      <th>Postcode</th>\n",
              "      <th>Average total business income</th>\n",
              "      <th>Average total business expenses</th>\n",
              "      <th>cluster</th>\n",
              "    </tr>\n",
              "  </thead>\n",
              "  <tbody>\n",
              "    <tr>\n",
              "      <th>0</th>\n",
              "      <td>2000</td>\n",
              "      <td>210901</td>\n",
              "      <td>222191</td>\n",
              "      <td>1.0</td>\n",
              "    </tr>\n",
              "    <tr>\n",
              "      <th>1</th>\n",
              "      <td>2006</td>\n",
              "      <td>69983</td>\n",
              "      <td>48971</td>\n",
              "      <td>2.0</td>\n",
              "    </tr>\n",
              "    <tr>\n",
              "      <th>2</th>\n",
              "      <td>2007</td>\n",
              "      <td>575099</td>\n",
              "      <td>639499</td>\n",
              "      <td>0.0</td>\n",
              "    </tr>\n",
              "    <tr>\n",
              "      <th>3</th>\n",
              "      <td>2008</td>\n",
              "      <td>53329</td>\n",
              "      <td>32173</td>\n",
              "      <td>2.0</td>\n",
              "    </tr>\n",
              "    <tr>\n",
              "      <th>4</th>\n",
              "      <td>2009</td>\n",
              "      <td>237539</td>\n",
              "      <td>222993</td>\n",
              "      <td>1.0</td>\n",
              "    </tr>\n",
              "  </tbody>\n",
              "</table>\n",
              "</div>"
            ],
            "text/plain": [
              "   Postcode  ...  cluster\n",
              "0      2000  ...      1.0\n",
              "1      2006  ...      2.0\n",
              "2      2007  ...      0.0\n",
              "3      2008  ...      2.0\n",
              "4      2009  ...      1.0\n",
              "\n",
              "[5 rows x 4 columns]"
            ]
          },
          "metadata": {
            "tags": []
          },
          "execution_count": 8
        }
      ]
    },
    {
      "cell_type": "markdown",
      "metadata": {
        "id": "ElTiWooYp2wT",
        "colab_type": "text"
      },
      "source": [
        "9. Plot the centroids and the first 5 rows of the dataset."
      ]
    },
    {
      "cell_type": "code",
      "metadata": {
        "id": "nqcrsSzVSUAZ",
        "colab_type": "code",
        "outputId": "07b60c6a-6c9a-4fb4-ba8a-86d4c703d739",
        "colab": {
          "base_uri": "https://localhost:8080/",
          "height": 363
        }
      },
      "source": [
        "chart1 = alt.Chart(df.head()).mark_circle().encode(x='Average total business income', y='Average total business expenses', \n",
        "    color='cluster:N',\n",
        "    tooltip=['Postcode', 'cluster', 'Average total business income', 'Average total business expenses']\n",
        ").interactive()\n",
        "\n",
        "chart2 = alt.Chart(centroids).mark_circle(size=100).encode(x='Average total business income', y='Average total business expenses', \n",
        "    color=alt.value('black'),\n",
        "    tooltip=['cluster', 'Average total business income', 'Average total business expenses']\n",
        ").interactive()\n",
        "\n",
        "chart1 + chart2"
      ],
      "execution_count": 0,
      "outputs": [
        {
          "output_type": "execute_result",
          "data": {
            "text/plain": [
              "LayerChart({\n",
              "  layer: [Chart({\n",
              "    data:    Postcode  ...  cluster\n",
              "    0      2000  ...      1.0\n",
              "    1      2006  ...      2.0\n",
              "    2      2007  ...      0.0\n",
              "    3      2008  ...      2.0\n",
              "    4      2009  ...      1.0\n",
              "    \n",
              "    [5 rows x 4 columns],\n",
              "    encoding: FacetedEncoding({\n",
              "      color: Color({\n",
              "        field: 'cluster',\n",
              "        type: 'nominal'\n",
              "      }),\n",
              "      tooltip: [Tooltip({\n",
              "        field: 'Postcode',\n",
              "        type: 'quantitative'\n",
              "      }), Tooltip({\n",
              "        field: 'cluster',\n",
              "        type: 'quantitative'\n",
              "      }), Tooltip({\n",
              "        field: 'Average total business income',\n",
              "        type: 'quantitative'\n",
              "      }), Tooltip({\n",
              "        field: 'Average total business expenses',\n",
              "        type: 'quantitative'\n",
              "      })],\n",
              "      x: X({\n",
              "        field: 'Average total business income',\n",
              "        type: 'quantitative'\n",
              "      }),\n",
              "      y: Y({\n",
              "        field: 'Average total business expenses',\n",
              "        type: 'quantitative'\n",
              "      })\n",
              "    }),\n",
              "    mark: 'circle',\n",
              "    selection: {'selector003': SelectionDef({\n",
              "      bind: 'scales',\n",
              "      encodings: ['x', 'y'],\n",
              "      type: 'interval'\n",
              "    })}\n",
              "  }), Chart({\n",
              "    data:    Average total business income  Average total business expenses  cluster\n",
              "    0                         670487                           288389        0\n",
              "    1                         116739                           256787        1\n",
              "    2                          26225                           234053        2\n",
              "    3                         777572                           146316        3,\n",
              "    encoding: FacetedEncoding({\n",
              "      color: ValueDefWithOptionalConditionMarkPropFieldDefstringnull({\n",
              "        value: 'black'\n",
              "      }),\n",
              "      tooltip: [Tooltip({\n",
              "        field: 'cluster',\n",
              "        type: 'quantitative'\n",
              "      }), Tooltip({\n",
              "        field: 'Average total business income',\n",
              "        type: 'quantitative'\n",
              "      }), Tooltip({\n",
              "        field: 'Average total business expenses',\n",
              "        type: 'quantitative'\n",
              "      })],\n",
              "      x: X({\n",
              "        field: 'Average total business income',\n",
              "        type: 'quantitative'\n",
              "      }),\n",
              "      y: Y({\n",
              "        field: 'Average total business expenses',\n",
              "        type: 'quantitative'\n",
              "      })\n",
              "    }),\n",
              "    mark: MarkDef({\n",
              "      size: 100,\n",
              "      type: 'circle'\n",
              "    }),\n",
              "    selection: {'selector004': SelectionDef({\n",
              "      bind: 'scales',\n",
              "      encodings: ['x', 'y'],\n",
              "      type: 'interval'\n",
              "    })}\n",
              "  })]\n",
              "})"
            ],
            "text/html": [
              "<!DOCTYPE html>\n",
              "<html>\n",
              "<head>\n",
              "  <style>\n",
              "    .vega-actions a {\n",
              "        margin-right: 12px;\n",
              "        color: #757575;\n",
              "        font-weight: normal;\n",
              "        font-size: 13px;\n",
              "    }\n",
              "    .error {\n",
              "        color: red;\n",
              "    }\n",
              "  </style>\n",
              "  <script type=\"text/javascript\" src=\"https://cdn.jsdelivr.net/npm//vega@5\"></script>\n",
              "  <script type=\"text/javascript\" src=\"https://cdn.jsdelivr.net/npm//vega-lite@3.3.0\"></script>\n",
              "  <script type=\"text/javascript\" src=\"https://cdn.jsdelivr.net/npm//vega-embed@4\"></script>\n",
              "</head>\n",
              "<body>\n",
              "  <div id=\"altair-viz\"></div>\n",
              "  <script>\n",
              "      var spec = {\"config\": {\"view\": {\"width\": 400, \"height\": 300}, \"mark\": {\"tooltip\": null}}, \"layer\": [{\"data\": {\"name\": \"data-575f8a87cc33ee226fb970a0e7e31664\"}, \"mark\": \"circle\", \"encoding\": {\"color\": {\"type\": \"nominal\", \"field\": \"cluster\"}, \"tooltip\": [{\"type\": \"quantitative\", \"field\": \"Postcode\"}, {\"type\": \"quantitative\", \"field\": \"cluster\"}, {\"type\": \"quantitative\", \"field\": \"Average total business income\"}, {\"type\": \"quantitative\", \"field\": \"Average total business expenses\"}], \"x\": {\"type\": \"quantitative\", \"field\": \"Average total business income\"}, \"y\": {\"type\": \"quantitative\", \"field\": \"Average total business expenses\"}}, \"selection\": {\"selector003\": {\"type\": \"interval\", \"bind\": \"scales\", \"encodings\": [\"x\", \"y\"]}}}, {\"data\": {\"name\": \"data-4af31deb9417aa0ac5e19a2ec313b795\"}, \"mark\": {\"type\": \"circle\", \"size\": 100}, \"encoding\": {\"color\": {\"value\": \"black\"}, \"tooltip\": [{\"type\": \"quantitative\", \"field\": \"cluster\"}, {\"type\": \"quantitative\", \"field\": \"Average total business income\"}, {\"type\": \"quantitative\", \"field\": \"Average total business expenses\"}], \"x\": {\"type\": \"quantitative\", \"field\": \"Average total business income\"}, \"y\": {\"type\": \"quantitative\", \"field\": \"Average total business expenses\"}}, \"selection\": {\"selector004\": {\"type\": \"interval\", \"bind\": \"scales\", \"encodings\": [\"x\", \"y\"]}}}], \"$schema\": \"https://vega.github.io/schema/vega-lite/v3.3.0.json\", \"datasets\": {\"data-575f8a87cc33ee226fb970a0e7e31664\": [{\"Postcode\": 2000, \"Average total business income\": 210901, \"Average total business expenses\": 222191, \"cluster\": 1.0}, {\"Postcode\": 2006, \"Average total business income\": 69983, \"Average total business expenses\": 48971, \"cluster\": 2.0}, {\"Postcode\": 2007, \"Average total business income\": 575099, \"Average total business expenses\": 639499, \"cluster\": 0.0}, {\"Postcode\": 2008, \"Average total business income\": 53329, \"Average total business expenses\": 32173, \"cluster\": 2.0}, {\"Postcode\": 2009, \"Average total business income\": 237539, \"Average total business expenses\": 222993, \"cluster\": 1.0}], \"data-4af31deb9417aa0ac5e19a2ec313b795\": [{\"Average total business income\": 670487, \"Average total business expenses\": 288389, \"cluster\": 0}, {\"Average total business income\": 116739, \"Average total business expenses\": 256787, \"cluster\": 1}, {\"Average total business income\": 26225, \"Average total business expenses\": 234053, \"cluster\": 2}, {\"Average total business income\": 777572, \"Average total business expenses\": 146316, \"cluster\": 3}]}};\n",
              "      var embedOpt = {\"mode\": \"vega-lite\"};\n",
              "\n",
              "      function showError(el, error){\n",
              "          el.innerHTML = ('<div class=\"error\" style=\"color:red;\">'\n",
              "                          + '<p>JavaScript Error: ' + error.message + '</p>'\n",
              "                          + \"<p>This usually means there's a typo in your chart specification. \"\n",
              "                          + \"See the javascript console for the full traceback.</p>\"\n",
              "                          + '</div>');\n",
              "          throw error;\n",
              "      }\n",
              "      const el = document.getElementById('altair-viz');\n",
              "      vegaEmbed(\"#altair-viz\", spec, embedOpt)\n",
              "        .catch(error => showError(el, error));\n",
              "\n",
              "  </script>\n",
              "</body>\n",
              "</html>"
            ]
          },
          "metadata": {
            "tags": []
          },
          "execution_count": 9
        }
      ]
    },
    {
      "cell_type": "markdown",
      "metadata": {
        "id": "e70HfUVITANM",
        "colab_type": "text"
      },
      "source": [
        "Awesome!  You just re-implemented part of the k-means from scratch: random initialisation of centroids (cluster center), calculate the squared Euclidean distance for some data points, find their closest centroid and assign them to the corresponding cluster. This wasn't easy but you made it."
      ]
    }
  ]
}