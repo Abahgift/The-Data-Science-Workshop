{
  "nbformat": 4,
  "nbformat_minor": 0,
  "metadata": {
    "colab": {
      "name": "Chapter5_Exercise1.ipynb",
      "version": "0.3.2",
      "provenance": [],
      "collapsed_sections": []
    },
    "kernelspec": {
      "name": "python3",
      "display_name": "Python 3"
    }
  },
  "cells": [
    {
      "cell_type": "markdown",
      "metadata": {
        "id": "1vzq-OICxTlS",
        "colab_type": "text"
      },
      "source": [
        "# Chapter 5 - Exercise 1"
      ]
    },
    {
      "cell_type": "markdown",
      "metadata": {
        "id": "1jjdmFPryI0_",
        "colab_type": "text"
      },
      "source": [
        "In this exercise, we will learn how to perform a clustering analysis with k-means++ and visualise its results on a graph:"
      ]
    },
    {
      "cell_type": "markdown",
      "metadata": {
        "id": "_qdYjbD8xnwk",
        "colab_type": "text"
      },
      "source": [
        "Note: the latest version of matplotlib has a new functionality to generate legends for scatter plot but it is the version used in Google Colab. So we will need to install it with the following command"
      ]
    },
    {
      "cell_type": "code",
      "metadata": {
        "id": "JSAH1dDXxoCt",
        "colab_type": "code",
        "outputId": "ff08c43b-16f1-4729-8705-6488202fe17a",
        "colab": {
          "base_uri": "https://localhost:8080/",
          "height": 173
        }
      },
      "source": [
        "!pip install matplotlib==3.1.0"
      ],
      "execution_count": 0,
      "outputs": [
        {
          "output_type": "stream",
          "text": [
            "Requirement already satisfied: matplotlib==3.1.0 in /usr/local/lib/python3.6/dist-packages (3.1.0)\n",
            "Requirement already satisfied: kiwisolver>=1.0.1 in /usr/local/lib/python3.6/dist-packages (from matplotlib==3.1.0) (1.1.0)\n",
            "Requirement already satisfied: python-dateutil>=2.1 in /usr/local/lib/python3.6/dist-packages (from matplotlib==3.1.0) (2.5.3)\n",
            "Requirement already satisfied: cycler>=0.10 in /usr/local/lib/python3.6/dist-packages (from matplotlib==3.1.0) (0.10.0)\n",
            "Requirement already satisfied: pyparsing!=2.0.4,!=2.1.2,!=2.1.6,>=2.0.1 in /usr/local/lib/python3.6/dist-packages (from matplotlib==3.1.0) (2.4.0)\n",
            "Requirement already satisfied: numpy>=1.11 in /usr/local/lib/python3.6/dist-packages (from matplotlib==3.1.0) (1.16.4)\n",
            "Requirement already satisfied: setuptools in /usr/local/lib/python3.6/dist-packages (from kiwisolver>=1.0.1->matplotlib==3.1.0) (41.0.1)\n",
            "Requirement already satisfied: six>=1.5 in /usr/local/lib/python3.6/dist-packages (from python-dateutil>=2.1->matplotlib==3.1.0) (1.12.0)\n"
          ],
          "name": "stdout"
        }
      ]
    },
    {
      "cell_type": "markdown",
      "metadata": {
        "id": "Gh0hupbwlj19",
        "colab_type": "text"
      },
      "source": [
        "1. Let’s open on Jupyter Notebook (on Google Colab) and import the required packages:"
      ]
    },
    {
      "cell_type": "code",
      "metadata": {
        "id": "QvhMAa-wOje_",
        "colab_type": "code",
        "colab": {}
      },
      "source": [
        "import pandas as pd\n",
        "from sklearn.cluster import KMeans\n",
        "import matplotlib.pyplot as plt"
      ],
      "execution_count": 0,
      "outputs": []
    },
    {
      "cell_type": "markdown",
      "metadata": {
        "id": "5B38dwguyCrf",
        "colab_type": "text"
      },
      "source": [
        "2. Now let’s load the ATO dataset with the following columns: Postcode, Average total business income and Average total business expenses. Look at the last 10 rows of the dataframe."
      ]
    },
    {
      "cell_type": "code",
      "metadata": {
        "id": "_7dmlmddlolM",
        "colab_type": "code",
        "outputId": "3d8a1ee3-f2e3-43ab-9c74-52be5b91eadc",
        "colab": {
          "base_uri": "https://localhost:8080/",
          "height": 359
        }
      },
      "source": [
        "file_url = 'https://data.gov.au/data/dataset/5c99cfed-254d-40a6-af1c-47412b7de6fe/resource/4e21e064-9ff9-4033-a79a-37681f9e54b1/download/taxstats2015individual28countaveragemedianbypostcode.csv'\n",
        "df = pd.read_csv(file_url, usecols=['Postcode', 'Average total business income', 'Average total business expenses'])\n",
        "df.tail(10)"
      ],
      "execution_count": 0,
      "outputs": [
        {
          "output_type": "execute_result",
          "data": {
            "text/html": [
              "<div>\n",
              "<style scoped>\n",
              "    .dataframe tbody tr th:only-of-type {\n",
              "        vertical-align: middle;\n",
              "    }\n",
              "\n",
              "    .dataframe tbody tr th {\n",
              "        vertical-align: top;\n",
              "    }\n",
              "\n",
              "    .dataframe thead th {\n",
              "        text-align: right;\n",
              "    }\n",
              "</style>\n",
              "<table border=\"1\" class=\"dataframe\">\n",
              "  <thead>\n",
              "    <tr style=\"text-align: right;\">\n",
              "      <th></th>\n",
              "      <th>Postcode</th>\n",
              "      <th>Average total business income</th>\n",
              "      <th>Average total business expenses</th>\n",
              "    </tr>\n",
              "  </thead>\n",
              "  <tbody>\n",
              "    <tr>\n",
              "      <th>2463</th>\n",
              "      <td>852</td>\n",
              "      <td>95299</td>\n",
              "      <td>79526</td>\n",
              "    </tr>\n",
              "    <tr>\n",
              "      <th>2464</th>\n",
              "      <td>853</td>\n",
              "      <td>21186</td>\n",
              "      <td>15336</td>\n",
              "    </tr>\n",
              "    <tr>\n",
              "      <th>2465</th>\n",
              "      <td>854</td>\n",
              "      <td>49303</td>\n",
              "      <td>29720</td>\n",
              "    </tr>\n",
              "    <tr>\n",
              "      <th>2466</th>\n",
              "      <td>860</td>\n",
              "      <td>63190</td>\n",
              "      <td>55802</td>\n",
              "    </tr>\n",
              "    <tr>\n",
              "      <th>2467</th>\n",
              "      <td>862</td>\n",
              "      <td>134224</td>\n",
              "      <td>144254</td>\n",
              "    </tr>\n",
              "    <tr>\n",
              "      <th>2468</th>\n",
              "      <td>870</td>\n",
              "      <td>62793</td>\n",
              "      <td>44687</td>\n",
              "    </tr>\n",
              "    <tr>\n",
              "      <th>2469</th>\n",
              "      <td>872</td>\n",
              "      <td>53025</td>\n",
              "      <td>45670</td>\n",
              "    </tr>\n",
              "    <tr>\n",
              "      <th>2470</th>\n",
              "      <td>880</td>\n",
              "      <td>45603</td>\n",
              "      <td>28700</td>\n",
              "    </tr>\n",
              "    <tr>\n",
              "      <th>2471</th>\n",
              "      <td>885</td>\n",
              "      <td>53148</td>\n",
              "      <td>39850</td>\n",
              "    </tr>\n",
              "    <tr>\n",
              "      <th>2472</th>\n",
              "      <td>886</td>\n",
              "      <td>121057</td>\n",
              "      <td>90120</td>\n",
              "    </tr>\n",
              "  </tbody>\n",
              "</table>\n",
              "</div>"
            ],
            "text/plain": [
              "      Postcode  Average total business income  Average total business expenses\n",
              "2463       852                          95299                            79526\n",
              "2464       853                          21186                            15336\n",
              "2465       854                          49303                            29720\n",
              "2466       860                          63190                            55802\n",
              "2467       862                         134224                           144254\n",
              "2468       870                          62793                            44687\n",
              "2469       872                          53025                            45670\n",
              "2470       880                          45603                            28700\n",
              "2471       885                          53148                            39850\n",
              "2472       886                         121057                            90120"
            ]
          },
          "metadata": {
            "tags": []
          },
          "execution_count": 3
        }
      ]
    },
    {
      "cell_type": "markdown",
      "metadata": {
        "id": "0abW3QWXyZ5O",
        "colab_type": "text"
      },
      "source": [
        "3. Fit the k-means++ using random_state of 8:"
      ]
    },
    {
      "cell_type": "code",
      "metadata": {
        "id": "vLAQIU1YoB3F",
        "colab_type": "code",
        "outputId": "fe908a9a-7b57-45cd-e6a2-0bfe543a3c5d",
        "colab": {
          "base_uri": "https://localhost:8080/",
          "height": 68
        }
      },
      "source": [
        "X = df[['Average total business income', 'Average total business expenses']]\n",
        "kmeans = KMeans(random_state=8)\n",
        "kmeans.fit(X)"
      ],
      "execution_count": 0,
      "outputs": [
        {
          "output_type": "execute_result",
          "data": {
            "text/plain": [
              "KMeans(algorithm='auto', copy_x=True, init='k-means++', max_iter=300,\n",
              "       n_clusters=8, n_init=10, n_jobs=None, precompute_distances='auto',\n",
              "       random_state=8, tol=0.0001, verbose=0)"
            ]
          },
          "metadata": {
            "tags": []
          },
          "execution_count": 4
        }
      ]
    },
    {
      "cell_type": "markdown",
      "metadata": {
        "id": "Fkw-2izryh85",
        "colab_type": "text"
      },
      "source": [
        "4. Print the clustering result for the last 10 postcodes"
      ]
    },
    {
      "cell_type": "code",
      "metadata": {
        "id": "LEt30vslsD_-",
        "colab_type": "code",
        "outputId": "93e077a3-c9f8-425f-d3f1-572b898e141b",
        "colab": {
          "base_uri": "https://localhost:8080/",
          "height": 34
        }
      },
      "source": [
        "y_pred = kmeans.predict(X)\n",
        "y_pred[-10:]"
      ],
      "execution_count": 0,
      "outputs": [
        {
          "output_type": "execute_result",
          "data": {
            "text/plain": [
              "array([3, 7, 7, 0, 5, 7, 7, 7, 7, 3], dtype=int32)"
            ]
          },
          "metadata": {
            "tags": []
          },
          "execution_count": 5
        }
      ]
    },
    {
      "cell_type": "markdown",
      "metadata": {
        "id": "nkWTylCAzHm9",
        "colab_type": "text"
      },
      "source": [
        "5. Plot the clusters using a scatter plot"
      ]
    },
    {
      "cell_type": "code",
      "metadata": {
        "id": "X72bYBk-tzHN",
        "colab_type": "code",
        "outputId": "834bf87f-db7f-4239-a3c6-250fd77d2e87",
        "colab": {
          "base_uri": "https://localhost:8080/",
          "height": 265
        }
      },
      "source": [
        "fig, ax = plt.subplots()\n",
        " \n",
        "scatter = ax.scatter(X['Average total business income'], X['Average total business expenses'], c=y_pred)\n",
        " \n",
        "# produce a legend with the unique colors from the scatter\n",
        "legend1 = ax.legend(*scatter.legend_elements(), loc=\"lower right\", title=\"Classes\")\n",
        "ax.add_artist(legend1)\n",
        " \n",
        "plt.show()"
      ],
      "execution_count": 0,
      "outputs": [
        {
          "output_type": "display_data",
          "data": {
            "image/png": "[encoded data removed]",
            "text/plain": [
              "<Figure size 432x288 with 1 Axes>"
            ]
          },
          "metadata": {
            "tags": []
          }
        }
      ]
    }
  ]
}