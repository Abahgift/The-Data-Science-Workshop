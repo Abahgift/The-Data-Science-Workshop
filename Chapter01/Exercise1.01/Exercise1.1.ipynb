{
 "cells": [
  {
   "cell_type": "markdown",
   "metadata": {},
   "source": [
    "## Exercise 1: Instantiation of Class, attributes and methods\n",
    "\n",
    "#### 1. Define class Form:"
   ]
  },
  {
   "cell_type": "code",
   "execution_count": 1,
   "metadata": {},
   "outputs": [],
   "source": [
    "class Form:\n",
    "    pass"
   ]
  },
  {
   "cell_type": "markdown",
   "metadata": {},
   "source": [
    "#### 2.  Create instance attributes like  firstname, lastname, address, emailaddress, and country: "
   ]
  },
  {
   "cell_type": "code",
   "execution_count": 2,
   "metadata": {},
   "outputs": [],
   "source": [
    "class Form:\n",
    "    \n",
    "    #Initializing attributes\n",
    "    def __init__(self, firstname, lastname, emailaddress, address, country):\n",
    "        self.firstname = firstname\n",
    "        self.lastname = lastname        \n",
    "        self.emailaddress = emailaddress\n",
    "        self.address = address\n",
    "        self.country = country"
   ]
  },
  {
   "cell_type": "markdown",
   "metadata": {},
   "source": [
    "#### 3.  Create a new instance for the class Form:"
   ]
  },
  {
   "cell_type": "code",
   "execution_count": 29,
   "metadata": {},
   "outputs": [
    {
     "name": "stdout",
     "output_type": "stream",
     "text": [
      "<__main__.Form object at 0x10c38d208>\n",
      "\n",
      "Join details: \n",
      " ---------------\n",
      " firstname: John \n",
      " lastname: James \n",
      " emailaddress: john.james@datasci.com \n",
      " address: 59, Broccos Street, Brunswick West \n",
      " country: Australia\n"
     ]
    }
   ],
   "source": [
    "firstname = \"John\"\n",
    "lastname = \"James\"\n",
    "emailaddress = \"john.james@datasci.com\"\n",
    "address = \"59, Broccos Street, Brunswick West\"\n",
    "country = \"Australia\"\n",
    "\n",
    "john_signup = Form(firstname, lastname, emailaddress, address, country)\n",
    "\n",
    "print(john_signup)\n",
    "\n",
    "print('')\n",
    "print(f'Join details: \\n \\\n",
    "---------------\\n \\\n",
    "firstname: {john_signup.firstname} \\n \\\n",
    "lastname: {john_signup.lastname} \\n \\\n",
    "emailaddress: {john_signup.emailaddress} \\n \\\n",
    "address: {john_signup.address} \\n \\\n",
    "country: {john_signup.country}')"
   ]
  },
  {
   "cell_type": "markdown",
   "metadata": {},
   "source": [
    "#### 4. Define method \"submit\" for the class Form:"
   ]
  },
  {
   "cell_type": "code",
   "execution_count": 32,
   "metadata": {},
   "outputs": [],
   "source": [
    "def submit(self, data:dict, num:int):\n",
    "    detail =[self.firstname,self.lastname, self.emailaddress, self.address, self.country]\n",
    "    data[num] = detail\n",
    "    return data"
   ]
  },
  {
   "cell_type": "markdown",
   "metadata": {},
   "source": [
    "#### 5. Include submit method to the class Form:"
   ]
  },
  {
   "cell_type": "code",
   "execution_count": 43,
   "metadata": {},
   "outputs": [],
   "source": [
    "class Form:\n",
    "    \n",
    "    #Initializing attributes\n",
    "    def __init__(self, firstname, lastname, emailaddress, address, country):\n",
    "        self.firstname = firstname\n",
    "        self.lastname = lastname        \n",
    "        self.emailaddress = emailaddress\n",
    "        self.address = address\n",
    "        self.country = country\n",
    "    \n",
    "    def submit(self, num:int):\n",
    "        data = {}\n",
    "        detail =[self.firstname,self.lastname, self.emailaddress, self.address, self.country]\n",
    "        data[num] = detail\n",
    "        print(f'{self.firstname} {self.lastname}\\'s information has been captured!')\n",
    "        return data"
   ]
  },
  {
   "cell_type": "code",
   "execution_count": 49,
   "metadata": {},
   "outputs": [
    {
     "name": "stdout",
     "output_type": "stream",
     "text": [
      "John James's information has been captured!\n",
      "\n",
      "Andrew bond's information has been captured!\n",
      "\n",
      "Jone June's information has been captured!\n",
      "\n",
      "Luke Sun's information has been captured!\n",
      "\n"
     ]
    }
   ],
   "source": [
    "#First instance\n",
    "JohnForm = Form('John', 'James', 'john.james@datasci.com.au', '59, Broccos Street, Brunswick West', 'Australia')\n",
    "john_data = JohnForm.submit(1)\n",
    "print('')\n",
    "\n",
    "\n",
    "#Second instance\n",
    "AndrewForm = Form('Andrew', 'bond', 'andrew.bond@datasci.co.uk', '9,  Arsenal Street, West London', 'UK')\n",
    "andrew_data = AndrewForm.submit(1)\n",
    "print('')\n",
    "\n",
    "\n",
    "#Third instance\n",
    "JoneForm = Form('Jone', 'June', 'jone.june@datasci.kr', '10, Sango Street, West Soul', 'South Korea')\n",
    "jone_data = JoneForm.submit(1)\n",
    "print('')\n",
    "\n",
    "#Fourth instance\n",
    "LukeForm = Form('Luke', 'Sun', 'luke.sun@datasci.com.au', '21, Newtown, Central Sydney', 'Australia')\n",
    "luke_data = LukeForm.submit(1)\n",
    "print('')"
   ]
  },
  {
   "cell_type": "code",
   "execution_count": 52,
   "metadata": {},
   "outputs": [
    {
     "data": {
      "text/plain": [
       "[{1: ['John',\n",
       "   'James',\n",
       "   'john.james@datasci.com.au',\n",
       "   '59, Broccos Street, Brunswick West',\n",
       "   'Australia']},\n",
       " {1: ['Andrew',\n",
       "   'bond',\n",
       "   'andrew.bond@datasci.co.uk',\n",
       "   '9,  Arsenal Street, West London',\n",
       "   'UK']},\n",
       " {1: ['Jone',\n",
       "   'June',\n",
       "   'jone.june@datasci.kr',\n",
       "   '10, Sango Street, West Soul',\n",
       "   'South Korea']},\n",
       " {1: ['Luke',\n",
       "   'Sun',\n",
       "   'luke.sun@datasci.com.au',\n",
       "   '21, Newtown, Central Sydney',\n",
       "   'Australia']}]"
      ]
     },
     "execution_count": 52,
     "metadata": {},
     "output_type": "execute_result"
    }
   ],
   "source": [
    "database = []\n",
    "for data in [john_data, andrew_data, jone_data, luke_data]:\n",
    "    database.append(data)\n",
    "    \n",
    "database"
   ]
  }
 ],
 "metadata": {
  "kernelspec": {
   "display_name": "Python 3",
   "language": "python",
   "name": "python3"
  },
  "language_info": {
   "codemirror_mode": {
    "name": "ipython",
    "version": 3
   },
   "file_extension": ".py",
   "mimetype": "text/x-python",
   "name": "python",
   "nbconvert_exporter": "python",
   "pygments_lexer": "ipython3",
   "version": "3.7.1"
  }
 },
 "nbformat": 4,
 "nbformat_minor": 2
}
