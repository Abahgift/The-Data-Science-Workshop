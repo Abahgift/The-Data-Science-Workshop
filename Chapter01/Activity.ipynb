{
 "cells": [
  {
   "cell_type": "code",
   "execution_count": 57,
   "metadata": {},
   "outputs": [],
   "source": [
    "import pandas as pd\n",
    "import sklearn\n",
    "from sklearn.preprocessing import LabelEncoder\n",
    "from sklearn.model_selection import train_test_split\n",
    "from sklearn.linear_model import LinearRegression\n",
    "from sklearn.metrics import mean_absolute_error"
   ]
  },
  {
   "cell_type": "code",
   "execution_count": 62,
   "metadata": {},
   "outputs": [],
   "source": [
    "class TempModel:\n",
    "    def __init__(self, filename, target, col1, col2, random_value, split_percentage):\n",
    "        self.filename = filename\n",
    "        self.random_value = random_value\n",
    "        self.split_percentage = split_percentage\n",
    "        self.col1 = col1\n",
    "        self.col2 = col2\n",
    "        self.target = target\n",
    "    \n",
    "    def read_to_dataframe(self):\n",
    "        return pd.read_csv(self.filename)\n",
    "    \n",
    "    \n",
    "    \n",
    "    def drop_columns(self):\n",
    "        df = self.read_to_dataframe()\n",
    "        y = df[self.target]\n",
    "        X=df.drop([self.col1,self.col2, self.target], axis=1)\n",
    "        return X, y\n",
    "    \n",
    "    def transform(self):\n",
    "        X, y = self.drop_columns()\n",
    "        enc = LabelEncoder()\n",
    "        for col in X.columns:\n",
    "            X[col] = X[col].astype('str')\n",
    "            X[col] = enc.fit_transform(X[col])\n",
    "        return X,y\n",
    "    \n",
    "    \n",
    "    def split_dataset(self):\n",
    "        X,y = self.transform()\n",
    "        X_train, x_test, y_train, y_test = train_test_split(X,y, random_state= self.random_value, test_size=self.split_percentage)\n",
    "        return X_train, x_test, y_train, y_test  \n",
    "    \n",
    "    def train_model(self):\n",
    "        X_train, x_test, y_train, y_test = self.split_dataset()\n",
    "        model = LinearRegression()\n",
    "        model.fit(X_train,y_train)\n",
    "        return model\n",
    "    \n",
    "    def evaluate(self):\n",
    "        X_train, x_test, y_train, y_test = self.split_dataset()\n",
    "        model = self.train_model()\n",
    "        pred = model.predict(x_test)\n",
    "        mae = mean_absolute_error(y_test, pred)\n",
    "        return mae\n",
    "    \n",
    "    \n",
    "    \n",
    "    def model_predict(self, model, sampledata):\n",
    "        X_train, x_test, y_train, y_test = self.split_dataset()\n",
    "        pred = model.predict(sampledata)\n",
    "        sampledata['predictions'] = pred\n",
    "        return sampledata\n"
   ]
  },
  {
   "cell_type": "code",
   "execution_count": 63,
   "metadata": {},
   "outputs": [],
   "source": [
    "TempML = TempModel('tas_1991_2016_AUS_Activity.csv','temperature','country','iso3', 0, 0.3)"
   ]
  },
  {
   "cell_type": "code",
   "execution_count": 64,
   "metadata": {},
   "outputs": [
    {
     "data": {
      "text/plain": [
       "4.041190958541058"
      ]
     },
     "execution_count": 64,
     "metadata": {},
     "output_type": "execute_result"
    }
   ],
   "source": [
    "temp.evaluate()"
   ]
  },
  {
   "cell_type": "code",
   "execution_count": null,
   "metadata": {},
   "outputs": [],
   "source": []
  }
 ],
 "metadata": {
  "kernelspec": {
   "display_name": "Python 3",
   "language": "python",
   "name": "python3"
  },
  "language_info": {
   "codemirror_mode": {
    "name": "ipython",
    "version": 3
   },
   "file_extension": ".py",
   "mimetype": "text/x-python",
   "name": "python",
   "nbconvert_exporter": "python",
   "pygments_lexer": "ipython3",
   "version": "3.7.1"
  }
 },
 "nbformat": 4,
 "nbformat_minor": 2
}
