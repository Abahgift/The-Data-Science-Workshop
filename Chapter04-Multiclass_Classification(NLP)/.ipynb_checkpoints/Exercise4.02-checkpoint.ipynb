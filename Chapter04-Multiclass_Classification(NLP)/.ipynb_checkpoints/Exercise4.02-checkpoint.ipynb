{
 "cells": [
  {
   "cell_type": "code",
   "execution_count": 1,
   "metadata": {},
   "outputs": [],
   "source": [
    "### 1. Read the data into dataframe"
   ]
  },
  {
   "cell_type": "code",
   "execution_count": 2,
   "metadata": {},
   "outputs": [],
   "source": [
    "import pandas as pd"
   ]
  },
  {
   "cell_type": "code",
   "execution_count": 4,
   "metadata": {},
   "outputs": [
    {
     "name": "stderr",
     "output_type": "stream",
     "text": [
      "/anaconda3/envs/DS_env/lib/python3.7/site-packages/IPython/core/interactiveshell.py:2785: DtypeWarning: Columns (4) have mixed types. Specify dtype option on import or set low_memory=False.\n",
      "  interactivity=interactivity, compiler=compiler, result=result)\n"
     ]
    }
   ],
   "source": [
    "df = pd.read_csv('Consumer_Complaints.csv')"
   ]
  },
  {
   "cell_type": "code",
   "execution_count": 5,
   "metadata": {},
   "outputs": [],
   "source": [
    "### 2. How many observations or rows in dataframe"
   ]
  },
  {
   "cell_type": "code",
   "execution_count": 6,
   "metadata": {},
   "outputs": [
    {
     "data": {
      "text/plain": [
       "312912"
      ]
     },
     "execution_count": 6,
     "metadata": {},
     "output_type": "execute_result"
    }
   ],
   "source": [
    "len(df)"
   ]
  },
  {
   "cell_type": "code",
   "execution_count": 7,
   "metadata": {},
   "outputs": [],
   "source": [
    "### 3. Identify datatypes of the dataframe variables or columns"
   ]
  },
  {
   "cell_type": "code",
   "execution_count": 8,
   "metadata": {},
   "outputs": [
    {
     "data": {
      "text/plain": [
       "Complaint ID              int64\n",
       "Product                  object\n",
       "Sub-product              object\n",
       "Issue                    object\n",
       "Sub-issue                object\n",
       "State                    object\n",
       "ZIP code                float64\n",
       "Submitted via            object\n",
       "Date received            object\n",
       "Date sent to company     object\n",
       "Company                  object\n",
       "Company response         object\n",
       "Timely response?         object\n",
       "Consumer disputed?       object\n",
       "dtype: object"
      ]
     },
     "execution_count": 8,
     "metadata": {},
     "output_type": "execute_result"
    }
   ],
   "source": [
    "df.dtypes"
   ]
  },
  {
   "cell_type": "code",
   "execution_count": 24,
   "metadata": {},
   "outputs": [],
   "source": [
    "### Sampling the dataframe"
   ]
  },
  {
   "cell_type": "code",
   "execution_count": 25,
   "metadata": {},
   "outputs": [
    {
     "data": {
      "text/html": [
       "<div>\n",
       "<style scoped>\n",
       "    .dataframe tbody tr th:only-of-type {\n",
       "        vertical-align: middle;\n",
       "    }\n",
       "\n",
       "    .dataframe tbody tr th {\n",
       "        vertical-align: top;\n",
       "    }\n",
       "\n",
       "    .dataframe thead th {\n",
       "        text-align: right;\n",
       "    }\n",
       "</style>\n",
       "<table border=\"1\" class=\"dataframe\">\n",
       "  <thead>\n",
       "    <tr style=\"text-align: right;\">\n",
       "      <th></th>\n",
       "      <th>Complaint ID</th>\n",
       "      <th>Product</th>\n",
       "      <th>Sub-product</th>\n",
       "      <th>Issue</th>\n",
       "      <th>Sub-issue</th>\n",
       "      <th>State</th>\n",
       "      <th>ZIP code</th>\n",
       "      <th>Submitted via</th>\n",
       "      <th>Date received</th>\n",
       "      <th>Date sent to company</th>\n",
       "      <th>Company</th>\n",
       "      <th>Company response</th>\n",
       "      <th>Timely response?</th>\n",
       "      <th>Consumer disputed?</th>\n",
       "    </tr>\n",
       "  </thead>\n",
       "  <tbody>\n",
       "    <tr>\n",
       "      <th>235796</th>\n",
       "      <td>226616</td>\n",
       "      <td>Bank account or service</td>\n",
       "      <td>Checking account</td>\n",
       "      <td>Problems caused by my funds being low</td>\n",
       "      <td>NaN</td>\n",
       "      <td>PA</td>\n",
       "      <td>19141.0</td>\n",
       "      <td>Referral</td>\n",
       "      <td>01/09/2013</td>\n",
       "      <td>01/14/2013</td>\n",
       "      <td>PNC Bank</td>\n",
       "      <td>Closed with monetary relief</td>\n",
       "      <td>Yes</td>\n",
       "      <td>No</td>\n",
       "    </tr>\n",
       "    <tr>\n",
       "      <th>270046</th>\n",
       "      <td>126155</td>\n",
       "      <td>Mortgage</td>\n",
       "      <td>Conventional fixed mortgage</td>\n",
       "      <td>Settlement process and costs</td>\n",
       "      <td>NaN</td>\n",
       "      <td>DE</td>\n",
       "      <td>19930.0</td>\n",
       "      <td>Web</td>\n",
       "      <td>07/29/2012</td>\n",
       "      <td>09/17/2012</td>\n",
       "      <td>GSF Mortgage Corporation</td>\n",
       "      <td>Closed with monetary relief</td>\n",
       "      <td>Yes</td>\n",
       "      <td>No</td>\n",
       "    </tr>\n",
       "    <tr>\n",
       "      <th>284957</th>\n",
       "      <td>88348</td>\n",
       "      <td>Mortgage</td>\n",
       "      <td>Conventional fixed mortgage</td>\n",
       "      <td>Loan modification,collection,foreclosure</td>\n",
       "      <td>NaN</td>\n",
       "      <td>CA</td>\n",
       "      <td>94503.0</td>\n",
       "      <td>Web</td>\n",
       "      <td>05/29/2012</td>\n",
       "      <td>06/01/2012</td>\n",
       "      <td>Bank of America</td>\n",
       "      <td>Closed with explanation</td>\n",
       "      <td>Yes</td>\n",
       "      <td>Yes</td>\n",
       "    </tr>\n",
       "    <tr>\n",
       "      <th>265639</th>\n",
       "      <td>136901</td>\n",
       "      <td>Mortgage</td>\n",
       "      <td>Home equity loan or line of credit</td>\n",
       "      <td>Loan servicing, payments, escrow account</td>\n",
       "      <td>NaN</td>\n",
       "      <td>CA</td>\n",
       "      <td>94551.0</td>\n",
       "      <td>Referral</td>\n",
       "      <td>08/16/2012</td>\n",
       "      <td>08/21/2012</td>\n",
       "      <td>PNC Bank</td>\n",
       "      <td>Closed with explanation</td>\n",
       "      <td>Yes</td>\n",
       "      <td>Yes</td>\n",
       "    </tr>\n",
       "    <tr>\n",
       "      <th>244006</th>\n",
       "      <td>201426</td>\n",
       "      <td>Bank account or service</td>\n",
       "      <td>Checking account</td>\n",
       "      <td>Deposits and withdrawals</td>\n",
       "      <td>NaN</td>\n",
       "      <td>LA</td>\n",
       "      <td>70791.0</td>\n",
       "      <td>Referral</td>\n",
       "      <td>12/02/2012</td>\n",
       "      <td>12/03/2012</td>\n",
       "      <td>Regions</td>\n",
       "      <td>Closed with explanation</td>\n",
       "      <td>Yes</td>\n",
       "      <td>No</td>\n",
       "    </tr>\n",
       "  </tbody>\n",
       "</table>\n",
       "</div>"
      ],
      "text/plain": [
       "        Complaint ID                  Product  \\\n",
       "235796        226616  Bank account or service   \n",
       "270046        126155                 Mortgage   \n",
       "284957         88348                 Mortgage   \n",
       "265639        136901                 Mortgage   \n",
       "244006        201426  Bank account or service   \n",
       "\n",
       "                               Sub-product  \\\n",
       "235796                    Checking account   \n",
       "270046         Conventional fixed mortgage   \n",
       "284957         Conventional fixed mortgage   \n",
       "265639  Home equity loan or line of credit   \n",
       "244006                    Checking account   \n",
       "\n",
       "                                           Issue Sub-issue State  ZIP code  \\\n",
       "235796     Problems caused by my funds being low       NaN    PA   19141.0   \n",
       "270046              Settlement process and costs       NaN    DE   19930.0   \n",
       "284957  Loan modification,collection,foreclosure       NaN    CA   94503.0   \n",
       "265639  Loan servicing, payments, escrow account       NaN    CA   94551.0   \n",
       "244006                  Deposits and withdrawals       NaN    LA   70791.0   \n",
       "\n",
       "       Submitted via Date received Date sent to company  \\\n",
       "235796      Referral    01/09/2013           01/14/2013   \n",
       "270046           Web    07/29/2012           09/17/2012   \n",
       "284957           Web    05/29/2012           06/01/2012   \n",
       "265639      Referral    08/16/2012           08/21/2012   \n",
       "244006      Referral    12/02/2012           12/03/2012   \n",
       "\n",
       "                         Company             Company response  \\\n",
       "235796                  PNC Bank  Closed with monetary relief   \n",
       "270046  GSF Mortgage Corporation  Closed with monetary relief   \n",
       "284957           Bank of America      Closed with explanation   \n",
       "265639                  PNC Bank      Closed with explanation   \n",
       "244006                   Regions      Closed with explanation   \n",
       "\n",
       "       Timely response? Consumer disputed?  \n",
       "235796              Yes                 No  \n",
       "270046              Yes                 No  \n",
       "284957              Yes                Yes  \n",
       "265639              Yes                Yes  \n",
       "244006              Yes                 No  "
      ]
     },
     "execution_count": 25,
     "metadata": {},
     "output_type": "execute_result"
    }
   ],
   "source": [
    "df.sample(5)"
   ]
  },
  {
   "cell_type": "code",
   "execution_count": 9,
   "metadata": {},
   "outputs": [],
   "source": [
    "### 4. How many nulls in each of the columns"
   ]
  },
  {
   "cell_type": "code",
   "execution_count": 10,
   "metadata": {},
   "outputs": [
    {
     "data": {
      "text/plain": [
       "Complaint ID                 0\n",
       "Product                      0\n",
       "Sub-product              93860\n",
       "Issue                        4\n",
       "Sub-issue               227326\n",
       "State                     4525\n",
       "ZIP code                  3838\n",
       "Submitted via                0\n",
       "Date received                0\n",
       "Date sent to company         0\n",
       "Company                      0\n",
       "Company response             0\n",
       "Timely response?             0\n",
       "Consumer disputed?       28178\n",
       "dtype: int64"
      ]
     },
     "execution_count": 10,
     "metadata": {},
     "output_type": "execute_result"
    }
   ],
   "source": [
    "df.isnull().sum()"
   ]
  },
  {
   "cell_type": "code",
   "execution_count": 19,
   "metadata": {},
   "outputs": [],
   "source": []
  },
  {
   "cell_type": "code",
   "execution_count": 20,
   "metadata": {},
   "outputs": [
    {
     "data": {
      "text/html": [
       "<div>\n",
       "<style scoped>\n",
       "    .dataframe tbody tr th:only-of-type {\n",
       "        vertical-align: middle;\n",
       "    }\n",
       "\n",
       "    .dataframe tbody tr th {\n",
       "        vertical-align: top;\n",
       "    }\n",
       "\n",
       "    .dataframe thead th {\n",
       "        text-align: right;\n",
       "    }\n",
       "</style>\n",
       "<table border=\"1\" class=\"dataframe\">\n",
       "  <thead>\n",
       "    <tr style=\"text-align: right;\">\n",
       "      <th></th>\n",
       "      <th>Complaint ID</th>\n",
       "      <th>Product</th>\n",
       "      <th>Sub-product</th>\n",
       "      <th>Issue</th>\n",
       "      <th>Sub-issue</th>\n",
       "      <th>State</th>\n",
       "      <th>ZIP code</th>\n",
       "      <th>Submitted via</th>\n",
       "      <th>Date received</th>\n",
       "      <th>Date sent to company</th>\n",
       "      <th>Company</th>\n",
       "      <th>Company response</th>\n",
       "      <th>Timely response?</th>\n",
       "      <th>Consumer disputed?</th>\n",
       "    </tr>\n",
       "  </thead>\n",
       "  <tbody>\n",
       "    <tr>\n",
       "      <th>301931</th>\n",
       "      <td>31452</td>\n",
       "      <td>Mortgage</td>\n",
       "      <td>Other mortgage</td>\n",
       "      <td>Loan modification,collection,foreclosure</td>\n",
       "      <td>NaN</td>\n",
       "      <td>LA</td>\n",
       "      <td>70448.0</td>\n",
       "      <td>Referral</td>\n",
       "      <td>03/07/2012</td>\n",
       "      <td>03/12/2012</td>\n",
       "      <td>Bank of America</td>\n",
       "      <td>Closed without relief</td>\n",
       "      <td>Yes</td>\n",
       "      <td>No</td>\n",
       "    </tr>\n",
       "    <tr>\n",
       "      <th>208434</th>\n",
       "      <td>378284</td>\n",
       "      <td>Mortgage</td>\n",
       "      <td>Other mortgage</td>\n",
       "      <td>Loan modification,collection,foreclosure</td>\n",
       "      <td>NaN</td>\n",
       "      <td>TX</td>\n",
       "      <td>78758.0</td>\n",
       "      <td>Referral</td>\n",
       "      <td>04/09/2013</td>\n",
       "      <td>04/10/2013</td>\n",
       "      <td>Ocwen</td>\n",
       "      <td>Closed with explanation</td>\n",
       "      <td>Yes</td>\n",
       "      <td>No</td>\n",
       "    </tr>\n",
       "    <tr>\n",
       "      <th>260309</th>\n",
       "      <td>152240</td>\n",
       "      <td>Mortgage</td>\n",
       "      <td>Conventional adjustable mortgage (ARM)</td>\n",
       "      <td>Loan servicing, payments, escrow account</td>\n",
       "      <td>NaN</td>\n",
       "      <td>NC</td>\n",
       "      <td>27282.0</td>\n",
       "      <td>Web</td>\n",
       "      <td>09/13/2012</td>\n",
       "      <td>09/13/2012</td>\n",
       "      <td>Citibank</td>\n",
       "      <td>Closed with monetary relief</td>\n",
       "      <td>Yes</td>\n",
       "      <td>No</td>\n",
       "    </tr>\n",
       "    <tr>\n",
       "      <th>278537</th>\n",
       "      <td>103769</td>\n",
       "      <td>Student loan</td>\n",
       "      <td>Non-federal student loan</td>\n",
       "      <td>Repaying your loan</td>\n",
       "      <td>NaN</td>\n",
       "      <td>PA</td>\n",
       "      <td>19145.0</td>\n",
       "      <td>Web</td>\n",
       "      <td>06/19/2012</td>\n",
       "      <td>06/21/2012</td>\n",
       "      <td>Navient</td>\n",
       "      <td>Closed with explanation</td>\n",
       "      <td>Yes</td>\n",
       "      <td>No</td>\n",
       "    </tr>\n",
       "    <tr>\n",
       "      <th>40391</th>\n",
       "      <td>955515</td>\n",
       "      <td>Debt collection</td>\n",
       "      <td>Credit card</td>\n",
       "      <td>Communication tactics</td>\n",
       "      <td>Threatened to take legal action</td>\n",
       "      <td>NY</td>\n",
       "      <td>11691.0</td>\n",
       "      <td>Web</td>\n",
       "      <td>07/26/2014</td>\n",
       "      <td>07/26/2014</td>\n",
       "      <td>Citibank</td>\n",
       "      <td>Closed with explanation</td>\n",
       "      <td>Yes</td>\n",
       "      <td>No</td>\n",
       "    </tr>\n",
       "  </tbody>\n",
       "</table>\n",
       "</div>"
      ],
      "text/plain": [
       "        Complaint ID          Product                             Sub-product  \\\n",
       "301931         31452         Mortgage                          Other mortgage   \n",
       "208434        378284         Mortgage                          Other mortgage   \n",
       "260309        152240         Mortgage  Conventional adjustable mortgage (ARM)   \n",
       "278537        103769     Student loan                Non-federal student loan   \n",
       "40391         955515  Debt collection                             Credit card   \n",
       "\n",
       "                                           Issue  \\\n",
       "301931  Loan modification,collection,foreclosure   \n",
       "208434  Loan modification,collection,foreclosure   \n",
       "260309  Loan servicing, payments, escrow account   \n",
       "278537                        Repaying your loan   \n",
       "40391                      Communication tactics   \n",
       "\n",
       "                              Sub-issue State  ZIP code Submitted via  \\\n",
       "301931                              NaN    LA   70448.0      Referral   \n",
       "208434                              NaN    TX   78758.0      Referral   \n",
       "260309                              NaN    NC   27282.0           Web   \n",
       "278537                              NaN    PA   19145.0           Web   \n",
       "40391   Threatened to take legal action    NY   11691.0           Web   \n",
       "\n",
       "       Date received Date sent to company          Company  \\\n",
       "301931    03/07/2012           03/12/2012  Bank of America   \n",
       "208434    04/09/2013           04/10/2013            Ocwen   \n",
       "260309    09/13/2012           09/13/2012         Citibank   \n",
       "278537    06/19/2012           06/21/2012          Navient   \n",
       "40391     07/26/2014           07/26/2014         Citibank   \n",
       "\n",
       "                   Company response Timely response? Consumer disputed?  \n",
       "301931        Closed without relief              Yes                 No  \n",
       "208434      Closed with explanation              Yes                 No  \n",
       "260309  Closed with monetary relief              Yes                 No  \n",
       "278537      Closed with explanation              Yes                 No  \n",
       "40391       Closed with explanation              Yes                 No  "
      ]
     },
     "execution_count": 20,
     "metadata": {},
     "output_type": "execute_result"
    }
   ],
   "source": []
  },
  {
   "cell_type": "code",
   "execution_count": 11,
   "metadata": {},
   "outputs": [],
   "source": [
    "### 4 What is the distribution of product columns"
   ]
  },
  {
   "cell_type": "code",
   "execution_count": 15,
   "metadata": {},
   "outputs": [
    {
     "data": {
      "text/plain": [
       "Mortgage                   125752\n",
       "Debt collection             44372\n",
       "Credit card                 41563\n",
       "Credit reporting            41214\n",
       "Bank account or service     38073\n",
       "Student loan                 9432\n",
       "Consumer loan                9387\n",
       "Payday loan                  1579\n",
       "Money transfers              1540\n",
       "Name: Product, dtype: int64"
      ]
     },
     "execution_count": 15,
     "metadata": {},
     "output_type": "execute_result"
    }
   ],
   "source": [
    "df['Product'].value_counts()"
   ]
  },
  {
   "cell_type": "code",
   "execution_count": 30,
   "metadata": {},
   "outputs": [
    {
     "data": {
      "text/plain": [
       "<matplotlib.axes._subplots.AxesSubplot at 0x110c86e48>"
      ]
     },
     "execution_count": 30,
     "metadata": {},
     "output_type": "execute_result"
    },
    {
     "data": {
      "image/png": "[encoded data removed]",
      "text/plain": [
       "<Figure size 720x432 with 1 Axes>"
      ]
     },
     "metadata": {
      "needs_background": "light"
     },
     "output_type": "display_data"
    }
   ],
   "source": [
    "df.groupby(['Product'])['Complaint ID'].count().plot(kind='bar', figsize=(10,6))"
   ]
  },
  {
   "cell_type": "code",
   "execution_count": 21,
   "metadata": {},
   "outputs": [
    {
     "data": {
      "text/plain": [
       "<matplotlib.axes._subplots.AxesSubplot at 0x10fdd96d8>"
      ]
     },
     "execution_count": 21,
     "metadata": {},
     "output_type": "execute_result"
    },
    {
     "data": {
      "image/png": "[encoded data removed]",
      "text/plain": [
       "<Figure size 432x288 with 1 Axes>"
      ]
     },
     "metadata": {
      "needs_background": "light"
     },
     "output_type": "display_data"
    }
   ],
   "source": [
    "df.groupby(['Sub-product'])['Complaint ID'].count().plot(kind='bar')"
   ]
  },
  {
   "cell_type": "code",
   "execution_count": 31,
   "metadata": {},
   "outputs": [
    {
     "data": {
      "text/plain": [
       "<matplotlib.axes._subplots.AxesSubplot at 0x110cc8c18>"
      ]
     },
     "execution_count": 31,
     "metadata": {},
     "output_type": "execute_result"
    },
    {
     "data": {
      "image/png": "[encoded data removed]",
      "text/plain": [
       "<Figure size 720x432 with 1 Axes>"
      ]
     },
     "metadata": {
      "needs_background": "light"
     },
     "output_type": "display_data"
    }
   ],
   "source": [
    "df.groupby(['Submitted via'])['Complaint ID'].count().plot(kind='bar', figsize=(10,6))"
   ]
  },
  {
   "cell_type": "code",
   "execution_count": null,
   "metadata": {},
   "outputs": [],
   "source": []
  }
 ],
 "metadata": {
  "kernelspec": {
   "display_name": "Python 3",
   "language": "python",
   "name": "python3"
  },
  "language_info": {
   "codemirror_mode": {
    "name": "ipython",
    "version": 3
   },
   "file_extension": ".py",
   "mimetype": "text/x-python",
   "name": "python",
   "nbconvert_exporter": "python",
   "pygments_lexer": "ipython3",
   "version": "3.7.1"
  }
 },
 "nbformat": 4,
 "nbformat_minor": 4
}
