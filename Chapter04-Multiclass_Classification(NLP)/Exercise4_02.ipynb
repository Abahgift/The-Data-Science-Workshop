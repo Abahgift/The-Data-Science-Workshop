{
  "nbformat": 4,
  "nbformat_minor": 0,
  "metadata": {
    "kernelspec": {
      "display_name": "Python 3",
      "language": "python",
      "name": "python3"
    },
    "language_info": {
      "codemirror_mode": {
        "name": "ipython",
        "version": 3
      },
      "file_extension": ".py",
      "mimetype": "text/x-python",
      "name": "python",
      "nbconvert_exporter": "python",
      "pygments_lexer": "ipython3",
      "version": "3.7.3"
    },
    "colab": {
      "name": "Exercise4.02.ipynb",
      "provenance": [],
      "collapsed_sections": []
    }
  },
  "cells": [
    {
      "cell_type": "markdown",
      "metadata": {
        "id": "huIe8VmoJ4EO",
        "colab_type": "text"
      },
      "source": [
        "## Exercise 4.02: Apply Exploratory Data Analysis to Consumer Complaint data"
      ]
    },
    {
      "cell_type": "markdown",
      "metadata": {
        "id": "fJK6TPUHJ4ET",
        "colab_type": "text"
      },
      "source": [
        "#### 1. Read the data into dataframe"
      ]
    },
    {
      "cell_type": "code",
      "metadata": {
        "id": "EzxO6UDUKAGV",
        "colab_type": "code",
        "colab": {}
      },
      "source": [
        "import pandas as pd"
      ],
      "execution_count": 0,
      "outputs": []
    },
    {
      "cell_type": "markdown",
      "metadata": {
        "id": "EhX-uHeqJ4EZ",
        "colab_type": "text"
      },
      "source": [
        "#### 2. Read Consumer Complaint data into dataframe"
      ]
    },
    {
      "cell_type": "code",
      "metadata": {
        "id": "76mAcbz1J4Ea",
        "colab_type": "code",
        "colab": {}
      },
      "source": [
        "df = pd.read_csv('https://query.data.world/s/4kbu7tmjnmiwkt25vmjy25rhr52h6j')\n",
        "#df = pd.read_csv('Consumer_Complaints.csv')"
      ],
      "execution_count": 0,
      "outputs": []
    },
    {
      "cell_type": "markdown",
      "metadata": {
        "id": "VPXVfr0KJ4Eh",
        "colab_type": "text"
      },
      "source": [
        "#### 3. How many observations or rows in dataframe"
      ]
    },
    {
      "cell_type": "code",
      "metadata": {
        "id": "JFazYfRDJ4Ej",
        "colab_type": "code",
        "colab": {
          "base_uri": "https://localhost:8080/",
          "height": 34
        },
        "outputId": "89e5f90a-2e60-4f96-d364-201fe5ebc5fd"
      },
      "source": [
        "len(df)"
      ],
      "execution_count": 6,
      "outputs": [
        {
          "output_type": "execute_result",
          "data": {
            "text/plain": [
              "777959"
            ]
          },
          "metadata": {
            "tags": []
          },
          "execution_count": 6
        }
      ]
    },
    {
      "cell_type": "markdown",
      "metadata": {
        "id": "zTaIJ01ZJ4En",
        "colab_type": "text"
      },
      "source": [
        "#### 4. Identify datatypes of the dataframe variables or columns"
      ]
    },
    {
      "cell_type": "code",
      "metadata": {
        "id": "1R-dGzqeJ4Ep",
        "colab_type": "code",
        "colab": {
          "base_uri": "https://localhost:8080/",
          "height": 354
        },
        "outputId": "32c8d37d-be14-4fa8-8f9f-10eba7507523"
      },
      "source": [
        "df.dtypes"
      ],
      "execution_count": 7,
      "outputs": [
        {
          "output_type": "execute_result",
          "data": {
            "text/plain": [
              "Date received                   object\n",
              "Product                         object\n",
              "Sub-product                     object\n",
              "Issue                           object\n",
              "Sub-issue                       object\n",
              "Consumer complaint narrative    object\n",
              "Company public response         object\n",
              "Company                         object\n",
              "State                           object\n",
              "ZIP code                        object\n",
              "Tags                            object\n",
              "Consumer consent provided?      object\n",
              "Submitted via                   object\n",
              "Date sent to company            object\n",
              "Company response to consumer    object\n",
              "Timely response?                object\n",
              "Consumer disputed?              object\n",
              "Complaint ID                     int64\n",
              "dtype: object"
            ]
          },
          "metadata": {
            "tags": []
          },
          "execution_count": 7
        }
      ]
    },
    {
      "cell_type": "markdown",
      "metadata": {
        "id": "WLcrqQERJ4Eu",
        "colab_type": "text"
      },
      "source": [
        "#### 5. Sampling the dataframe"
      ]
    },
    {
      "cell_type": "code",
      "metadata": {
        "id": "m1WEJ_MsJ4Ew",
        "colab_type": "code",
        "colab": {
          "base_uri": "https://localhost:8080/",
          "height": 414
        },
        "outputId": "b452364b-d062-4bfd-9820-e0e4243bc7dd"
      },
      "source": [
        "df.sample(5)"
      ],
      "execution_count": 8,
      "outputs": [
        {
          "output_type": "execute_result",
          "data": {
            "text/html": [
              "<div>\n",
              "<style scoped>\n",
              "    .dataframe tbody tr th:only-of-type {\n",
              "        vertical-align: middle;\n",
              "    }\n",
              "\n",
              "    .dataframe tbody tr th {\n",
              "        vertical-align: top;\n",
              "    }\n",
              "\n",
              "    .dataframe thead th {\n",
              "        text-align: right;\n",
              "    }\n",
              "</style>\n",
              "<table border=\"1\" class=\"dataframe\">\n",
              "  <thead>\n",
              "    <tr style=\"text-align: right;\">\n",
              "      <th></th>\n",
              "      <th>Date received</th>\n",
              "      <th>Product</th>\n",
              "      <th>Sub-product</th>\n",
              "      <th>Issue</th>\n",
              "      <th>Sub-issue</th>\n",
              "      <th>Consumer complaint narrative</th>\n",
              "      <th>Company public response</th>\n",
              "      <th>Company</th>\n",
              "      <th>State</th>\n",
              "      <th>ZIP code</th>\n",
              "      <th>Tags</th>\n",
              "      <th>Consumer consent provided?</th>\n",
              "      <th>Submitted via</th>\n",
              "      <th>Date sent to company</th>\n",
              "      <th>Company response to consumer</th>\n",
              "      <th>Timely response?</th>\n",
              "      <th>Consumer disputed?</th>\n",
              "      <th>Complaint ID</th>\n",
              "    </tr>\n",
              "  </thead>\n",
              "  <tbody>\n",
              "    <tr>\n",
              "      <th>450396</th>\n",
              "      <td>10/11/2016</td>\n",
              "      <td>Debt collection</td>\n",
              "      <td>Other (i.e. phone, health club, etc.)</td>\n",
              "      <td>Cont'd attempts collect debt not owed</td>\n",
              "      <td>Debt is not mine</td>\n",
              "      <td>NaN</td>\n",
              "      <td>NaN</td>\n",
              "      <td>Pinnacle Credit Services, LLC</td>\n",
              "      <td>MA</td>\n",
              "      <td>01960</td>\n",
              "      <td>NaN</td>\n",
              "      <td>NaN</td>\n",
              "      <td>Referral</td>\n",
              "      <td>10/14/2016</td>\n",
              "      <td>Closed with explanation</td>\n",
              "      <td>Yes</td>\n",
              "      <td>No</td>\n",
              "      <td>2154023</td>\n",
              "    </tr>\n",
              "    <tr>\n",
              "      <th>597285</th>\n",
              "      <td>07/30/2012</td>\n",
              "      <td>Bank account or service</td>\n",
              "      <td>Checking account</td>\n",
              "      <td>Account opening, closing, or management</td>\n",
              "      <td>NaN</td>\n",
              "      <td>NaN</td>\n",
              "      <td>NaN</td>\n",
              "      <td>JPMORGAN CHASE &amp; CO.</td>\n",
              "      <td>LA</td>\n",
              "      <td>70744</td>\n",
              "      <td>NaN</td>\n",
              "      <td>NaN</td>\n",
              "      <td>Referral</td>\n",
              "      <td>08/07/2012</td>\n",
              "      <td>Closed with explanation</td>\n",
              "      <td>Yes</td>\n",
              "      <td>Yes</td>\n",
              "      <td>126588</td>\n",
              "    </tr>\n",
              "    <tr>\n",
              "      <th>629742</th>\n",
              "      <td>01/08/2013</td>\n",
              "      <td>Mortgage</td>\n",
              "      <td>Other mortgage</td>\n",
              "      <td>Loan modification,collection,foreclosure</td>\n",
              "      <td>NaN</td>\n",
              "      <td>NaN</td>\n",
              "      <td>NaN</td>\n",
              "      <td>HSBC NORTH AMERICA HOLDINGS INC.</td>\n",
              "      <td>SC</td>\n",
              "      <td>29412</td>\n",
              "      <td>NaN</td>\n",
              "      <td>NaN</td>\n",
              "      <td>Referral</td>\n",
              "      <td>01/10/2013</td>\n",
              "      <td>Closed with explanation</td>\n",
              "      <td>Yes</td>\n",
              "      <td>Yes</td>\n",
              "      <td>224649</td>\n",
              "    </tr>\n",
              "    <tr>\n",
              "      <th>689601</th>\n",
              "      <td>04/29/2016</td>\n",
              "      <td>Bank account or service</td>\n",
              "      <td>Checking account</td>\n",
              "      <td>Using a debit or ATM card</td>\n",
              "      <td>NaN</td>\n",
              "      <td>I found fraudulent charges on my checking acco...</td>\n",
              "      <td>NaN</td>\n",
              "      <td>CITIZENS FINANCIAL GROUP, INC.</td>\n",
              "      <td>PA</td>\n",
              "      <td>189XX</td>\n",
              "      <td>NaN</td>\n",
              "      <td>Consent provided</td>\n",
              "      <td>Web</td>\n",
              "      <td>04/29/2016</td>\n",
              "      <td>Closed with monetary relief</td>\n",
              "      <td>Yes</td>\n",
              "      <td>No</td>\n",
              "      <td>1901710</td>\n",
              "    </tr>\n",
              "    <tr>\n",
              "      <th>331716</th>\n",
              "      <td>01/05/2017</td>\n",
              "      <td>Student loan</td>\n",
              "      <td>Non-federal student loan</td>\n",
              "      <td>Dealing with my lender or servicer</td>\n",
              "      <td>Trouble with how payments are handled</td>\n",
              "      <td>NaN</td>\n",
              "      <td>NaN</td>\n",
              "      <td>Navient Solutions, LLC.</td>\n",
              "      <td>FL</td>\n",
              "      <td>32565</td>\n",
              "      <td>Servicemember</td>\n",
              "      <td>Consent not provided</td>\n",
              "      <td>Web</td>\n",
              "      <td>01/05/2017</td>\n",
              "      <td>Closed with explanation</td>\n",
              "      <td>Yes</td>\n",
              "      <td>No</td>\n",
              "      <td>2276276</td>\n",
              "    </tr>\n",
              "  </tbody>\n",
              "</table>\n",
              "</div>"
            ],
            "text/plain": [
              "       Date received                  Product  ... Consumer disputed? Complaint ID\n",
              "450396    10/11/2016          Debt collection  ...                 No      2154023\n",
              "597285    07/30/2012  Bank account or service  ...                Yes       126588\n",
              "629742    01/08/2013                 Mortgage  ...                Yes       224649\n",
              "689601    04/29/2016  Bank account or service  ...                 No      1901710\n",
              "331716    01/05/2017             Student loan  ...                 No      2276276\n",
              "\n",
              "[5 rows x 18 columns]"
            ]
          },
          "metadata": {
            "tags": []
          },
          "execution_count": 8
        }
      ]
    },
    {
      "cell_type": "markdown",
      "metadata": {
        "id": "xQw21qi5J4E0",
        "colab_type": "text"
      },
      "source": [
        "#### 6. How many missing values in each of the columns"
      ]
    },
    {
      "cell_type": "code",
      "metadata": {
        "id": "PhTQqX--J4E2",
        "colab_type": "code",
        "colab": {
          "base_uri": "https://localhost:8080/",
          "height": 354
        },
        "outputId": "be3bc339-e820-406d-a996-2449b0c5fbce"
      },
      "source": [
        "df.isnull().sum()"
      ],
      "execution_count": 9,
      "outputs": [
        {
          "output_type": "execute_result",
          "data": {
            "text/plain": [
              "Date received                        0\n",
              "Product                              0\n",
              "Sub-product                     235137\n",
              "Issue                                0\n",
              "Sub-issue                       456973\n",
              "Consumer complaint narrative    620094\n",
              "Company public response         580075\n",
              "Company                              0\n",
              "State                             5903\n",
              "ZIP code                          5958\n",
              "Tags                            668695\n",
              "Consumer consent provided?      489648\n",
              "Submitted via                        0\n",
              "Date sent to company                 0\n",
              "Company response to consumer         0\n",
              "Timely response?                     0\n",
              "Consumer disputed?                9545\n",
              "Complaint ID                         0\n",
              "dtype: int64"
            ]
          },
          "metadata": {
            "tags": []
          },
          "execution_count": 9
        }
      ]
    },
    {
      "cell_type": "markdown",
      "metadata": {
        "id": "5cbQM96XJ4E_",
        "colab_type": "text"
      },
      "source": [
        "#### 7. Determine distribution of Product variable using visualization"
      ]
    },
    {
      "cell_type": "code",
      "metadata": {
        "id": "3BM0mTgpJ4FB",
        "colab_type": "code",
        "colab": {
          "base_uri": "https://localhost:8080/",
          "height": 354
        },
        "outputId": "a85e6dfa-3ff7-464e-fd89-b16a6b12172e"
      },
      "source": [
        "df['Product'].value_counts()"
      ],
      "execution_count": 10,
      "outputs": [
        {
          "output_type": "execute_result",
          "data": {
            "text/plain": [
              "Mortgage                                                                        228167\n",
              "Debt collection                                                                 148016\n",
              "Credit reporting                                                                140405\n",
              "Credit card                                                                      89189\n",
              "Bank account or service                                                          86206\n",
              "Student loan                                                                     33044\n",
              "Consumer Loan                                                                    31591\n",
              "Payday loan                                                                       5543\n",
              "Money transfers                                                                   5355\n",
              "Prepaid card                                                                      3817\n",
              "Credit reporting, credit repair services, or other personal consumer reports      3490\n",
              "Other financial service                                                           1051\n",
              "Credit card or prepaid card                                                        919\n",
              "Checking or savings account                                                        664\n",
              "Vehicle loan or lease                                                              221\n",
              "Payday loan, title loan, or personal loan                                          140\n",
              "Money transfer, virtual currency, or money service                                 123\n",
              "Virtual currency                                                                    18\n",
              "Name: Product, dtype: int64"
            ]
          },
          "metadata": {
            "tags": []
          },
          "execution_count": 10
        }
      ]
    },
    {
      "cell_type": "code",
      "metadata": {
        "id": "rnpcQkIJJ4FI",
        "colab_type": "code",
        "colab": {
          "base_uri": "https://localhost:8080/",
          "height": 771
        },
        "outputId": "a352d893-ddaf-41e6-ab3a-77aa62c51a43"
      },
      "source": [
        "df.groupby(['Product'])['Complaint ID'].count().sort_values().plot(kind='bar', figsize=(10,6))"
      ],
      "execution_count": 11,
      "outputs": [
        {
          "output_type": "execute_result",
          "data": {
            "text/plain": [
              "<matplotlib.axes._subplots.AxesSubplot at 0x7f015144ffd0>"
            ]
          },
          "metadata": {
            "tags": []
          },
          "execution_count": 11
        },
        {
          "output_type": "display_data",
          "data": {
            "image/png": "[encoded data removed]",
            "text/plain": [
              "<Figure size 720x432 with 1 Axes>"
            ]
          },
          "metadata": {
            "tags": []
          }
        }
      ]
    },
    {
      "cell_type": "code",
      "metadata": {
        "id": "PLlG3tU7Kcir",
        "colab_type": "code",
        "colab": {}
      },
      "source": [
        ""
      ],
      "execution_count": 0,
      "outputs": []
    }
  ]
}