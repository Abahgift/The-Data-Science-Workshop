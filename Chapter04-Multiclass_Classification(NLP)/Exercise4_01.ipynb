{
  "nbformat": 4,
  "nbformat_minor": 0,
  "metadata": {
    "kernelspec": {
      "display_name": "Python 3",
      "language": "python",
      "name": "python3"
    },
    "language_info": {
      "codemirror_mode": {
        "name": "ipython",
        "version": 3
      },
      "file_extension": ".py",
      "mimetype": "text/x-python",
      "name": "python",
      "nbconvert_exporter": "python",
      "pygments_lexer": "ipython3",
      "version": "3.7.3"
    },
    "colab": {
      "name": "Exercise4.01.ipynb",
      "provenance": [],
      "collapsed_sections": []
    }
  },
  "cells": [
    {
      "cell_type": "markdown",
      "metadata": {
        "id": "8RizZPuoDNHS",
        "colab_type": "text"
      },
      "source": [
        "## Exercise 4.01:  Apply problem definition framework\n",
        "\n",
        "#### 1. Import the necessary package"
      ]
    },
    {
      "cell_type": "code",
      "metadata": {
        "id": "UcwwsVjuDNHV",
        "colab_type": "code",
        "colab": {}
      },
      "source": [
        "import pandas as pd"
      ],
      "execution_count": 0,
      "outputs": []
    },
    {
      "cell_type": "code",
      "metadata": {
        "id": "zPK0aE9-DNHZ",
        "colab_type": "code",
        "colab": {}
      },
      "source": [
        ""
      ],
      "execution_count": 0,
      "outputs": []
    },
    {
      "cell_type": "markdown",
      "metadata": {
        "id": "mXFCOQafDm3w",
        "colab_type": "text"
      },
      "source": [
        "#### 2. Classify customer complaints into one of the classes of products"
      ]
    },
    {
      "cell_type": "code",
      "metadata": {
        "id": "fmNjzxd2DNHc",
        "colab_type": "code",
        "colab": {}
      },
      "source": [
        "df = pd.read_csv('https://query.data.world/s/4kbu7tmjnmiwkt25vmjy25rhr52h6j')\n",
        "#df = pd.read_csv('Consumer_Complaints.csv')"
      ],
      "execution_count": 0,
      "outputs": []
    },
    {
      "cell_type": "code",
      "metadata": {
        "id": "s1SUzCfdDNHf",
        "colab_type": "code",
        "colab": {
          "base_uri": "https://localhost:8080/",
          "height": 397
        },
        "outputId": "81f6c524-e2d9-4161-caae-f78baca61527"
      },
      "source": [
        "df.sample(5)"
      ],
      "execution_count": 5,
      "outputs": [
        {
          "output_type": "execute_result",
          "data": {
            "text/html": [
              "<div>\n",
              "<style scoped>\n",
              "    .dataframe tbody tr th:only-of-type {\n",
              "        vertical-align: middle;\n",
              "    }\n",
              "\n",
              "    .dataframe tbody tr th {\n",
              "        vertical-align: top;\n",
              "    }\n",
              "\n",
              "    .dataframe thead th {\n",
              "        text-align: right;\n",
              "    }\n",
              "</style>\n",
              "<table border=\"1\" class=\"dataframe\">\n",
              "  <thead>\n",
              "    <tr style=\"text-align: right;\">\n",
              "      <th></th>\n",
              "      <th>Date received</th>\n",
              "      <th>Product</th>\n",
              "      <th>Sub-product</th>\n",
              "      <th>Issue</th>\n",
              "      <th>Sub-issue</th>\n",
              "      <th>Consumer complaint narrative</th>\n",
              "      <th>Company public response</th>\n",
              "      <th>Company</th>\n",
              "      <th>State</th>\n",
              "      <th>ZIP code</th>\n",
              "      <th>Tags</th>\n",
              "      <th>Consumer consent provided?</th>\n",
              "      <th>Submitted via</th>\n",
              "      <th>Date sent to company</th>\n",
              "      <th>Company response to consumer</th>\n",
              "      <th>Timely response?</th>\n",
              "      <th>Consumer disputed?</th>\n",
              "      <th>Complaint ID</th>\n",
              "    </tr>\n",
              "  </thead>\n",
              "  <tbody>\n",
              "    <tr>\n",
              "      <th>143933</th>\n",
              "      <td>07/02/2014</td>\n",
              "      <td>Debt collection</td>\n",
              "      <td>Payday loan</td>\n",
              "      <td>Communication tactics</td>\n",
              "      <td>Frequent or repeated calls</td>\n",
              "      <td>NaN</td>\n",
              "      <td>NaN</td>\n",
              "      <td>Fairway Capital Recovery, LLC</td>\n",
              "      <td>OH</td>\n",
              "      <td>45011</td>\n",
              "      <td>NaN</td>\n",
              "      <td>NaN</td>\n",
              "      <td>Web</td>\n",
              "      <td>07/02/2014</td>\n",
              "      <td>Closed with explanation</td>\n",
              "      <td>Yes</td>\n",
              "      <td>No</td>\n",
              "      <td>920994</td>\n",
              "    </tr>\n",
              "    <tr>\n",
              "      <th>32849</th>\n",
              "      <td>02/22/2017</td>\n",
              "      <td>Bank account or service</td>\n",
              "      <td>Savings account</td>\n",
              "      <td>Making/receiving payments, sending money</td>\n",
              "      <td>NaN</td>\n",
              "      <td>NaN</td>\n",
              "      <td>Company has responded to the consumer and the ...</td>\n",
              "      <td>WELLS FARGO BANK, NATIONAL ASSOCIATION</td>\n",
              "      <td>MA</td>\n",
              "      <td>02472</td>\n",
              "      <td>Older American</td>\n",
              "      <td>NaN</td>\n",
              "      <td>Phone</td>\n",
              "      <td>02/22/2017</td>\n",
              "      <td>Closed with explanation</td>\n",
              "      <td>No</td>\n",
              "      <td>No</td>\n",
              "      <td>2356461</td>\n",
              "    </tr>\n",
              "    <tr>\n",
              "      <th>530990</th>\n",
              "      <td>02/17/2016</td>\n",
              "      <td>Debt collection</td>\n",
              "      <td>Other (i.e. phone, health club, etc.)</td>\n",
              "      <td>Communication tactics</td>\n",
              "      <td>Frequent or repeated calls</td>\n",
              "      <td>NaN</td>\n",
              "      <td>Company chooses not to provide a public response</td>\n",
              "      <td>BANK OF AMERICA, NATIONAL ASSOCIATION</td>\n",
              "      <td>TX</td>\n",
              "      <td>76708</td>\n",
              "      <td>Older American</td>\n",
              "      <td>NaN</td>\n",
              "      <td>Referral</td>\n",
              "      <td>02/18/2016</td>\n",
              "      <td>Closed with non-monetary relief</td>\n",
              "      <td>Yes</td>\n",
              "      <td>No</td>\n",
              "      <td>1790558</td>\n",
              "    </tr>\n",
              "    <tr>\n",
              "      <th>292627</th>\n",
              "      <td>10/23/2013</td>\n",
              "      <td>Bank account or service</td>\n",
              "      <td>Checking account</td>\n",
              "      <td>Account opening, closing, or management</td>\n",
              "      <td>NaN</td>\n",
              "      <td>NaN</td>\n",
              "      <td>NaN</td>\n",
              "      <td>BANK OF AMERICA, NATIONAL ASSOCIATION</td>\n",
              "      <td>NY</td>\n",
              "      <td>11210</td>\n",
              "      <td>NaN</td>\n",
              "      <td>NaN</td>\n",
              "      <td>Phone</td>\n",
              "      <td>10/23/2013</td>\n",
              "      <td>Closed with explanation</td>\n",
              "      <td>Yes</td>\n",
              "      <td>No</td>\n",
              "      <td>568256</td>\n",
              "    </tr>\n",
              "    <tr>\n",
              "      <th>515444</th>\n",
              "      <td>09/12/2013</td>\n",
              "      <td>Mortgage</td>\n",
              "      <td>Conventional fixed mortgage</td>\n",
              "      <td>Application, originator, mortgage broker</td>\n",
              "      <td>NaN</td>\n",
              "      <td>NaN</td>\n",
              "      <td>NaN</td>\n",
              "      <td>WELLS FARGO BANK, NATIONAL ASSOCIATION</td>\n",
              "      <td>CA</td>\n",
              "      <td>95965</td>\n",
              "      <td>Servicemember</td>\n",
              "      <td>NaN</td>\n",
              "      <td>Phone</td>\n",
              "      <td>09/13/2013</td>\n",
              "      <td>Closed with explanation</td>\n",
              "      <td>Yes</td>\n",
              "      <td>No</td>\n",
              "      <td>524586</td>\n",
              "    </tr>\n",
              "  </tbody>\n",
              "</table>\n",
              "</div>"
            ],
            "text/plain": [
              "       Date received                  Product  ... Consumer disputed? Complaint ID\n",
              "143933    07/02/2014          Debt collection  ...                 No       920994\n",
              "32849     02/22/2017  Bank account or service  ...                 No      2356461\n",
              "530990    02/17/2016          Debt collection  ...                 No      1790558\n",
              "292627    10/23/2013  Bank account or service  ...                 No       568256\n",
              "515444    09/12/2013                 Mortgage  ...                 No       524586\n",
              "\n",
              "[5 rows x 18 columns]"
            ]
          },
          "metadata": {
            "tags": []
          },
          "execution_count": 5
        }
      ]
    },
    {
      "cell_type": "code",
      "metadata": {
        "id": "riHMPorJDNHk",
        "colab_type": "code",
        "colab": {
          "base_uri": "https://localhost:8080/",
          "height": 336
        },
        "outputId": "15d289b2-80cd-4ba1-d80e-45bf046b6c76"
      },
      "source": [
        "df['Product'].unique().tolist()"
      ],
      "execution_count": 6,
      "outputs": [
        {
          "output_type": "execute_result",
          "data": {
            "text/plain": [
              "['Credit reporting',\n",
              " 'Debt collection',\n",
              " 'Credit card',\n",
              " 'Mortgage',\n",
              " 'Bank account or service',\n",
              " 'Student loan',\n",
              " 'Money transfers',\n",
              " 'Consumer Loan',\n",
              " 'Prepaid card',\n",
              " 'Other financial service',\n",
              " 'Payday loan',\n",
              " 'Credit reporting, credit repair services, or other personal consumer reports',\n",
              " 'Money transfer, virtual currency, or money service',\n",
              " 'Checking or savings account',\n",
              " 'Payday loan, title loan, or personal loan',\n",
              " 'Credit card or prepaid card',\n",
              " 'Vehicle loan or lease',\n",
              " 'Virtual currency']"
            ]
          },
          "metadata": {
            "tags": []
          },
          "execution_count": 6
        }
      ]
    },
    {
      "cell_type": "code",
      "metadata": {
        "id": "HL7-C7muDNHn",
        "colab_type": "code",
        "colab": {}
      },
      "source": [
        ""
      ],
      "execution_count": 0,
      "outputs": []
    }
  ]
}