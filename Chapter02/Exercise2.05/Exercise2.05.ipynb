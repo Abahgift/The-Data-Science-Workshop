{
  "nbformat": 4,
  "nbformat_minor": 0,
  "metadata": {
    "colab": {
      "name": "Exercise2.05.ipynb",
      "provenance": []
    },
    "kernelspec": {
      "name": "python3",
      "display_name": "Python 3"
    }
  },
  "cells": [
    {
      "cell_type": "code",
      "metadata": {
        "id": "k5QR71xFLGkh",
        "colab_type": "code",
        "colab": {}
      },
      "source": [
        "# Import necessary modules and prepare the data\n",
        "\n",
        "%matplotlib inline\n",
        "import matplotlib as mpl\n",
        "import seaborn as sns\n",
        "import matplotlib.pyplot as plt\n",
        "import statsmodels.formula.api as smf\n",
        "import statsmodels.graphics.api as smg\n",
        "import pandas as pd\n",
        "import numpy as np\n",
        "import patsy\n",
        "from statsmodels.graphics.correlation import plot_corr\n",
        "from sklearn.model_selection import train_test_split\n",
        "plt.style.use('seaborn')"
      ],
      "execution_count": 0,
      "outputs": []
    },
    {
      "cell_type": "code",
      "metadata": {
        "id": "RpkR60AxLNkl",
        "colab_type": "code",
        "colab": {}
      },
      "source": [
        "rawBostonData = pd.read_csv('https://raw.githubusercontent.com/PacktWorkshops/The-Data-Science-Workshop/master/Chapter02/Dataset/Boston.csv')"
      ],
      "execution_count": 0,
      "outputs": []
    },
    {
      "cell_type": "code",
      "metadata": {
        "id": "2Qwjq3ODLWUF",
        "colab_type": "code",
        "colab": {}
      },
      "source": [
        "rawBostonData = rawBostonData.dropna()\n",
        "rawBostonData = rawBostonData.drop_duplicates() \n",
        "renamedBostonData = rawBostonData.rename(columns = {'CRIM':'crimeRatePerCapita',\n",
        " ' ZN ':'landOver25K_sqft',\n",
        " 'INDUS ':'non-retailLandProptn',\n",
        " 'CHAS':'riverDummy',\n",
        " 'NOX':'nitrixOxide_pp10m',\n",
        " 'RM':'AvgNo.RoomsPerDwelling',\n",
        " 'AGE':'ProptnOwnerOccupied',\n",
        " 'DIS':'weightedDist',\n",
        " 'RAD':'radialHighwaysAccess',\n",
        " 'TAX':'propTaxRate_per10K',\n",
        " 'PTRATIO':'pupilTeacherRatio',\n",
        " 'LSTAT':'pctLowerStatus',\n",
        " 'MEDV':'medianValue_Ks'})\n",
        "X = renamedBostonData.drop('crimeRatePerCapita', axis = 1)\n",
        "y = renamedBostonData[['crimeRatePerCapita']]\n",
        "seed = 10 \n",
        "test_data_size = 0.3 \n",
        "X_train, X_test, y_train, y_test = train_test_split(X, y, test_size = test_data_size, random_state = seed)\n",
        "train_data = pd.concat([X_train, y_train], axis = 1)\n",
        "test_data = pd.concat([X_test, y_test], axis = 1)"
      ],
      "execution_count": 0,
      "outputs": []
    },
    {
      "cell_type": "markdown",
      "metadata": {
        "id": "3B9t1_oXO6GB",
        "colab_type": "text"
      },
      "source": [
        "**Exercise 2.05: Fit a multiple linear regression model using the Statsmodels formula API** "
      ]
    },
    {
      "cell_type": "code",
      "metadata": {
        "id": "o_CbjkexLfyy",
        "colab_type": "code",
        "outputId": "52a132e8-e76c-46b0-bde2-e59cdeeb52ea",
        "colab": {
          "base_uri": "https://localhost:8080/",
          "height": 493
        }
      },
      "source": [
        "multiLinearModel = smf.ols(formula=\\\n",
        "'crimeRatePerCapita ~ pctLowerStatus + radialHighwaysAccess +\\\n",
        "medianValue_Ks + nitrixOxide_pp10m', data=train_data)\n",
        "multiLinearModResult = multiLinearModel.fit()\n",
        "print(multiLinearModResult.summary())"
      ],
      "execution_count": 4,
      "outputs": [
        {
          "output_type": "stream",
          "text": [
            "                            OLS Regression Results                            \n",
            "==============================================================================\n",
            "Dep. Variable:     crimeRatePerCapita   R-squared:                       0.398\n",
            "Model:                            OLS   Adj. R-squared:                  0.391\n",
            "Method:                 Least Squares   F-statistic:                     57.77\n",
            "Date:                Tue, 17 Dec 2019   Prob (F-statistic):           2.19e-37\n",
            "Time:                        11:14:22   Log-Likelihood:                -1154.9\n",
            "No. Observations:                 354   AIC:                             2320.\n",
            "Df Residuals:                     349   BIC:                             2339.\n",
            "Df Model:                           4                                         \n",
            "Covariance Type:            nonrobust                                         \n",
            "========================================================================================\n",
            "                           coef    std err          t      P>|t|      [0.025      0.975]\n",
            "----------------------------------------------------------------------------------------\n",
            "Intercept                0.8912      2.670      0.334      0.739      -4.360       6.142\n",
            "pctLowerStatus           0.1028      0.080      1.277      0.202      -0.055       0.261\n",
            "radialHighwaysAccess     0.4948      0.048     10.216      0.000       0.400       0.590\n",
            "medianValue_Ks          -0.1103      0.058     -1.916      0.056      -0.224       0.003\n",
            "nitrixOxide_pp10m       -2.1039      4.131     -0.509      0.611     -10.229       6.021\n",
            "==============================================================================\n",
            "Omnibus:                      534.476   Durbin-Watson:                   1.999\n",
            "Prob(Omnibus):                  0.000   Jarque-Bera (JB):           100129.789\n",
            "Skew:                           7.866   Prob(JB):                         0.00\n",
            "Kurtosis:                      83.876   Cond. No.                         374.\n",
            "==============================================================================\n",
            "\n",
            "Warnings:\n",
            "[1] Standard Errors assume that the covariance matrix of the errors is correctly specified.\n"
          ],
          "name": "stdout"
        }
      ]
    }
  ]
}