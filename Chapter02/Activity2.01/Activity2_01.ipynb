{
  "nbformat": 4,
  "nbformat_minor": 0,
  "metadata": {
    "colab": {
      "name": "Activity2.01.ipynb",
      "provenance": []
    },
    "kernelspec": {
      "name": "python3",
      "display_name": "Python 3"
    }
  },
  "cells": [
    {
      "cell_type": "code",
      "metadata": {
        "id": "htcWC_rahuEO",
        "colab_type": "code",
        "colab": {}
      },
      "source": [
        "import matplotlib.pyplot as plt\n",
        "import pandas as pd\n",
        "import numpy as np\n",
        "import statsmodels.formula.api as smf\n",
        "from statsmodels.graphics.correlation import plot_corr\n",
        "from sklearn.model_selection import train_test_split\n",
        "plt.style.use('seaborn')\n"
      ],
      "execution_count": 0,
      "outputs": []
    },
    {
      "cell_type": "code",
      "metadata": {
        "id": "nMp4vGhHh24o",
        "colab_type": "code",
        "colab": {}
      },
      "source": [
        "rawBostonData = pd.read_csv('https://raw.githubusercontent.com/PacktWorkshops/The-Data-Science-Workshop/master/Chapter02/Dataset/Boston.csv')"
      ],
      "execution_count": 0,
      "outputs": []
    },
    {
      "cell_type": "code",
      "metadata": {
        "id": "rinZvyYSh5E1",
        "colab_type": "code",
        "colab": {}
      },
      "source": [
        "rawBostonData = rawBostonData.dropna()"
      ],
      "execution_count": 0,
      "outputs": []
    },
    {
      "cell_type": "code",
      "metadata": {
        "id": "66P7Nrqrh7R3",
        "colab_type": "code",
        "colab": {}
      },
      "source": [
        "rawBostonData = rawBostonData.drop_duplicates()"
      ],
      "execution_count": 0,
      "outputs": []
    },
    {
      "cell_type": "code",
      "metadata": {
        "id": "SvaVeiVYh9bI",
        "colab_type": "code",
        "colab": {}
      },
      "source": [
        "renamedBostonData = rawBostonData.rename(columns = {'CRIM':'crimeRatePerCapita',\n",
        " ' ZN ':'landOver25K_sqft',\n",
        " 'INDUS ':'non-retailLandProptn',\n",
        " 'CHAS':'riverDummy',\n",
        " 'NOX':'nitrixOxide_pp10m',\n",
        " 'RM':'AvgNo.RoomsPerDwelling',\n",
        " 'AGE':'ProptnOwnerOccupied',\n",
        " 'DIS':'weightedDist',\n",
        " 'RAD':'radialHighwaysAccess',\n",
        " 'TAX':'propTaxRate_per10K',\n",
        " 'PTRATIO':'pupilTeacherRatio',\n",
        " 'LSTAT':'pctLowerStatus',\n",
        " 'MEDV':'medianValue_Ks'})\n"
      ],
      "execution_count": 0,
      "outputs": []
    },
    {
      "cell_type": "code",
      "metadata": {
        "id": "2bdQ0pNxh_ux",
        "colab_type": "code",
        "colab": {}
      },
      "source": [
        "X = renamedBostonData.drop('crimeRatePerCapita', axis = 1)\n",
        "y = renamedBostonData[['crimeRatePerCapita']]\n",
        "seed = 10 \n",
        "test_data_size = 0.3 \n",
        "X_train, X_test, y_train, y_test = train_test_split(X, y, test_size = test_data_size, random_state = seed)\n",
        "train_data = pd.concat([X_train, y_train], axis = 1)\n",
        "test_data = pd.concat([X_test, y_test], axis = 1)\n"
      ],
      "execution_count": 0,
      "outputs": []
    },
    {
      "cell_type": "code",
      "metadata": {
        "id": "pS55MGThiChz",
        "colab_type": "code",
        "colab": {}
      },
      "source": [
        "logLinearModel = smf.ols(formula='np.log(crimeRatePerCapita) ~ medianValue_Ks', data=train_data)"
      ],
      "execution_count": 0,
      "outputs": []
    },
    {
      "cell_type": "code",
      "metadata": {
        "id": "T2EmISCBkr1t",
        "colab_type": "code",
        "colab": {}
      },
      "source": [
        "logLinearModResult = logLinearModel.fit()"
      ],
      "execution_count": 0,
      "outputs": []
    },
    {
      "cell_type": "code",
      "metadata": {
        "id": "n-D9pwOSkthe",
        "colab_type": "code",
        "colab": {
          "base_uri": "https://localhost:8080/",
          "height": 442
        },
        "outputId": "8a85ab4f-33ab-4ef0-e639-ca157dacc0aa"
      },
      "source": [
        "print(logLinearModResult.summary())"
      ],
      "execution_count": 19,
      "outputs": [
        {
          "output_type": "stream",
          "text": [
            "                                OLS Regression Results                                \n",
            "======================================================================================\n",
            "Dep. Variable:     np.log(crimeRatePerCapita)   R-squared:                       0.238\n",
            "Model:                                    OLS   Adj. R-squared:                  0.236\n",
            "Method:                         Least Squares   F-statistic:                     109.9\n",
            "Date:                        Tue, 17 Dec 2019   Prob (F-statistic):           1.48e-22\n",
            "Time:                                06:36:54   Log-Likelihood:                -727.67\n",
            "No. Observations:                         354   AIC:                             1459.\n",
            "Df Residuals:                             352   BIC:                             1467.\n",
            "Df Model:                                   1                                         \n",
            "Covariance Type:                    nonrobust                                         \n",
            "==================================================================================\n",
            "                     coef    std err          t      P>|t|      [0.025      0.975]\n",
            "----------------------------------------------------------------------------------\n",
            "Intercept          1.9107      0.271      7.062      0.000       1.379       2.443\n",
            "medianValue_Ks    -0.1198      0.011    -10.482      0.000      -0.142      -0.097\n",
            "==============================================================================\n",
            "Omnibus:                       11.420   Durbin-Watson:                   1.907\n",
            "Prob(Omnibus):                  0.003   Jarque-Bera (JB):               10.764\n",
            "Skew:                           0.376   Prob(JB):                      0.00460\n",
            "Kurtosis:                       2.594   Cond. No.                         63.7\n",
            "==============================================================================\n",
            "\n",
            "Warnings:\n",
            "[1] Standard Errors assume that the covariance matrix of the errors is correctly specified.\n"
          ],
          "name": "stdout"
        }
      ]
    }
  ]
}