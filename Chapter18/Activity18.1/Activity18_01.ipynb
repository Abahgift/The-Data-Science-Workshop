{
  "nbformat": 4,
  "nbformat_minor": 0,
  "metadata": {
    "colab": {
      "name": "Activity18_01.ipynb",
      "provenance": [],
      "collapsed_sections": []
    },
    "kernelspec": {
      "name": "python3",
      "display_name": "Python 3"
    }
  },
  "cells": [
    {
      "cell_type": "markdown",
      "metadata": {
        "id": "37vrnAFPW6_C",
        "colab_type": "text"
      },
      "source": [
        "#Activity 1: Train and Deploy an Income Predictor Model using Flask\n",
        "You are working for a governmental agency and you have tasked to build and deploy predictive model using historical census data that will assess if a person based on his/her personal information is more likely to have a salary over or under 50k.\n",
        "\n",
        "The following steps will help you complete this activity:\n",
        "- Download and load the dataset\n",
        "- Extract the response variable\n",
        "- Split the dataset into training and test sets\n",
        "- Extract the list of categories for each categorical column\n",
        "- Save the list of categories and categorical column names into files\n",
        "- Perform One-Hot encoding on categorical variables\n",
        "- Train a RandomForest for predicting the binary outcome\n",
        "- Save the trained model into a file\n",
        "- Create a Flask app\n",
        "- Create an API endpoint that will perform the same data transformation as for the training set and predict the outcome for a single record\n",
        "- Send a request to this endpoint\n",
        "\n",
        "The dataset was originally shared by Kohavi and Barry Becker from Silicon Graphics:\n",
        "https://archive.ics.uci.edu/ml/datasets/breast+cancer+wisconsin+(original)\n",
        "\n",
        "The CSV version of this dataset can be found here:\n",
        "https://www.openml.org/data/get_csv/1595261/phpMawTba"
      ]
    },
    {
      "cell_type": "markdown",
      "metadata": {
        "id": "2Ox-pHUPX78-",
        "colab_type": "text"
      },
      "source": [
        "1. Open on a new Colab notebook"
      ]
    },
    {
      "cell_type": "markdown",
      "metadata": {
        "id": "BjLQtyoWtL3r",
        "colab_type": "text"
      },
      "source": [
        "2. Import the packages pandas and joblib, RandomForestClassifier from sklearn.ensemble and train_test_split from sklearn.model_selection"
      ]
    },
    {
      "cell_type": "code",
      "metadata": {
        "id": "_b0A-ElAnHj2",
        "colab_type": "code",
        "colab": {}
      },
      "source": [
        "import pandas as pd\n",
        "import joblib\n",
        "import pickle\n",
        "from sklearn.ensemble import RandomForestClassifier\n",
        "from sklearn.model_selection import train_test_split"
      ],
      "execution_count": 0,
      "outputs": []
    },
    {
      "cell_type": "markdown",
      "metadata": {
        "id": "VJMbepT9tKZx",
        "colab_type": "text"
      },
      "source": [
        "3. Assign the link to the dataset to a variable called 'file_url'\n",
        "\n"
      ]
    },
    {
      "cell_type": "code",
      "metadata": {
        "id": "xuyNn2VlnHm9",
        "colab_type": "code",
        "colab": {}
      },
      "source": [
        "file_url = 'https://raw.githubusercontent.com/PacktWorkshops/The-Data-Science-Workshop/master/Chapter18/Dataset/phpMawTba.csv'"
      ],
      "execution_count": 0,
      "outputs": []
    },
    {
      "cell_type": "markdown",
      "metadata": {
        "id": "6V_NRU5gtJje",
        "colab_type": "text"
      },
      "source": [
        "4. Load the dataset into DataFrame using pd.read_csv()"
      ]
    },
    {
      "cell_type": "code",
      "metadata": {
        "id": "qHM7W8jTnHye",
        "colab_type": "code",
        "colab": {}
      },
      "source": [
        "df = pd.read_csv(file_url)"
      ],
      "execution_count": 0,
      "outputs": []
    },
    {
      "cell_type": "markdown",
      "metadata": {
        "id": "fviLkSd47ecs",
        "colab_type": "text"
      },
      "source": [
        "5. Print out the first 5 rows of this DataFrame"
      ]
    },
    {
      "cell_type": "code",
      "metadata": {
        "id": "kHqvPP4V7d-G",
        "colab_type": "code",
        "colab": {
          "base_uri": "https://localhost:8080/",
          "height": 306
        },
        "outputId": "4f22862b-ef62-4f69-ddd4-f122be65d0d9"
      },
      "source": [
        "df.head()"
      ],
      "execution_count": 4,
      "outputs": [
        {
          "output_type": "execute_result",
          "data": {
            "text/html": [
              "<div>\n",
              "<style scoped>\n",
              "    .dataframe tbody tr th:only-of-type {\n",
              "        vertical-align: middle;\n",
              "    }\n",
              "\n",
              "    .dataframe tbody tr th {\n",
              "        vertical-align: top;\n",
              "    }\n",
              "\n",
              "    .dataframe thead th {\n",
              "        text-align: right;\n",
              "    }\n",
              "</style>\n",
              "<table border=\"1\" class=\"dataframe\">\n",
              "  <thead>\n",
              "    <tr style=\"text-align: right;\">\n",
              "      <th></th>\n",
              "      <th>age</th>\n",
              "      <th>workclass</th>\n",
              "      <th>fnlwgt</th>\n",
              "      <th>education</th>\n",
              "      <th>education-num</th>\n",
              "      <th>marital-status</th>\n",
              "      <th>occupation</th>\n",
              "      <th>relationship</th>\n",
              "      <th>race</th>\n",
              "      <th>sex</th>\n",
              "      <th>capital-gain</th>\n",
              "      <th>capital-loss</th>\n",
              "      <th>hours-per-week</th>\n",
              "      <th>native-country</th>\n",
              "      <th>class</th>\n",
              "    </tr>\n",
              "  </thead>\n",
              "  <tbody>\n",
              "    <tr>\n",
              "      <th>0</th>\n",
              "      <td>25</td>\n",
              "      <td>Private</td>\n",
              "      <td>226802</td>\n",
              "      <td>11th</td>\n",
              "      <td>7</td>\n",
              "      <td>Never-married</td>\n",
              "      <td>Machine-op-inspct</td>\n",
              "      <td>Own-child</td>\n",
              "      <td>Black</td>\n",
              "      <td>Male</td>\n",
              "      <td>0</td>\n",
              "      <td>0</td>\n",
              "      <td>40</td>\n",
              "      <td>United-States</td>\n",
              "      <td>&lt;=50K</td>\n",
              "    </tr>\n",
              "    <tr>\n",
              "      <th>1</th>\n",
              "      <td>38</td>\n",
              "      <td>Private</td>\n",
              "      <td>89814</td>\n",
              "      <td>HS-grad</td>\n",
              "      <td>9</td>\n",
              "      <td>Married-civ-spouse</td>\n",
              "      <td>Farming-fishing</td>\n",
              "      <td>Husband</td>\n",
              "      <td>White</td>\n",
              "      <td>Male</td>\n",
              "      <td>0</td>\n",
              "      <td>0</td>\n",
              "      <td>50</td>\n",
              "      <td>United-States</td>\n",
              "      <td>&lt;=50K</td>\n",
              "    </tr>\n",
              "    <tr>\n",
              "      <th>2</th>\n",
              "      <td>28</td>\n",
              "      <td>Local-gov</td>\n",
              "      <td>336951</td>\n",
              "      <td>Assoc-acdm</td>\n",
              "      <td>12</td>\n",
              "      <td>Married-civ-spouse</td>\n",
              "      <td>Protective-serv</td>\n",
              "      <td>Husband</td>\n",
              "      <td>White</td>\n",
              "      <td>Male</td>\n",
              "      <td>0</td>\n",
              "      <td>0</td>\n",
              "      <td>40</td>\n",
              "      <td>United-States</td>\n",
              "      <td>&gt;50K</td>\n",
              "    </tr>\n",
              "    <tr>\n",
              "      <th>3</th>\n",
              "      <td>44</td>\n",
              "      <td>Private</td>\n",
              "      <td>160323</td>\n",
              "      <td>Some-college</td>\n",
              "      <td>10</td>\n",
              "      <td>Married-civ-spouse</td>\n",
              "      <td>Machine-op-inspct</td>\n",
              "      <td>Husband</td>\n",
              "      <td>Black</td>\n",
              "      <td>Male</td>\n",
              "      <td>7688</td>\n",
              "      <td>0</td>\n",
              "      <td>40</td>\n",
              "      <td>United-States</td>\n",
              "      <td>&gt;50K</td>\n",
              "    </tr>\n",
              "    <tr>\n",
              "      <th>4</th>\n",
              "      <td>18</td>\n",
              "      <td>?</td>\n",
              "      <td>103497</td>\n",
              "      <td>Some-college</td>\n",
              "      <td>10</td>\n",
              "      <td>Never-married</td>\n",
              "      <td>?</td>\n",
              "      <td>Own-child</td>\n",
              "      <td>White</td>\n",
              "      <td>Female</td>\n",
              "      <td>0</td>\n",
              "      <td>0</td>\n",
              "      <td>30</td>\n",
              "      <td>United-States</td>\n",
              "      <td>&lt;=50K</td>\n",
              "    </tr>\n",
              "  </tbody>\n",
              "</table>\n",
              "</div>"
            ],
            "text/plain": [
              "   age   workclass  fnlwgt  ... hours-per-week  native-country   class\n",
              "0   25     Private  226802  ...             40   United-States   <=50K\n",
              "1   38     Private   89814  ...             50   United-States   <=50K\n",
              "2   28   Local-gov  336951  ...             40   United-States    >50K\n",
              "3   44     Private  160323  ...             40   United-States    >50K\n",
              "4   18           ?  103497  ...             30   United-States   <=50K\n",
              "\n",
              "[5 rows x 15 columns]"
            ]
          },
          "metadata": {
            "tags": []
          },
          "execution_count": 4
        }
      ]
    },
    {
      "cell_type": "markdown",
      "metadata": {
        "id": "H4TKpjV87TtB",
        "colab_type": "text"
      },
      "source": [
        "6. Extract the response variable 'class' using the method .pop() and save it into a variavle called 'y'"
      ]
    },
    {
      "cell_type": "code",
      "metadata": {
        "id": "ZOV3ihu0dnnG",
        "colab_type": "code",
        "colab": {}
      },
      "source": [
        "y = df.pop('class')"
      ],
      "execution_count": 0,
      "outputs": []
    },
    {
      "cell_type": "markdown",
      "metadata": {
        "id": "3_8INhALMuhN",
        "colab_type": "text"
      },
      "source": [
        "7. Create a list called 'cat_columns' containing only the columns of type 'object' using the attribute dtype and print its content"
      ]
    },
    {
      "cell_type": "code",
      "metadata": {
        "id": "I4X1JPfqMnnL",
        "colab_type": "code",
        "colab": {
          "base_uri": "https://localhost:8080/",
          "height": 153
        },
        "outputId": "a56bd06b-f2bf-4229-a78b-da705566b4f6"
      },
      "source": [
        "cat_columns = [col for col in df.columns if df[col].dtype == 'object']\n",
        "cat_columns"
      ],
      "execution_count": 6,
      "outputs": [
        {
          "output_type": "execute_result",
          "data": {
            "text/plain": [
              "['workclass',\n",
              " 'education',\n",
              " 'marital-status',\n",
              " 'occupation',\n",
              " 'relationship',\n",
              " 'race',\n",
              " 'sex',\n",
              " 'native-country']"
            ]
          },
          "metadata": {
            "tags": []
          },
          "execution_count": 6
        }
      ]
    },
    {
      "cell_type": "markdown",
      "metadata": {
        "id": "5qbiSWpI7UOC",
        "colab_type": "text"
      },
      "source": [
        "8. Split the DataFrames 'df' and 'y' into training and test sets using the  train_test_split function with the parameters: test_size=0.33, random_state=8"
      ]
    },
    {
      "cell_type": "code",
      "metadata": {
        "id": "mtp9sRXbdnpx",
        "colab_type": "code",
        "colab": {}
      },
      "source": [
        "X_train, X_test, y_train, y_test = train_test_split(df, y, test_size=0.33, random_state=8)"
      ],
      "execution_count": 0,
      "outputs": []
    },
    {
      "cell_type": "markdown",
      "metadata": {
        "id": "eZXNVLZc7Uz3",
        "colab_type": "text"
      },
      "source": [
        "9. Create an empty dictionary called 'column_categories'"
      ]
    },
    {
      "cell_type": "code",
      "metadata": {
        "id": "G_rR0K9yOasg",
        "colab_type": "code",
        "colab": {}
      },
      "source": [
        "column_categories = {}"
      ],
      "execution_count": 0,
      "outputs": []
    },
    {
      "cell_type": "markdown",
      "metadata": {
        "id": "l_L7vFdpObIh",
        "colab_type": "text"
      },
      "source": [
        "10. Iterate through 'cat_columns' and populate the dictionary with the column name and the list of categories using the .astype() method and .cat.categories attribute"
      ]
    },
    {
      "cell_type": "code",
      "metadata": {
        "id": "5QiCAi94dnsE",
        "colab_type": "code",
        "colab": {}
      },
      "source": [
        "for col in cat_columns:\n",
        "  column_categories[col] = X_train[col].astype('category').cat.categories"
      ],
      "execution_count": 0,
      "outputs": []
    },
    {
      "cell_type": "markdown",
      "metadata": {
        "id": "-qjAuHyRPf7M",
        "colab_type": "text"
      },
      "source": [
        "11. Save 'column_categories' and 'cat_columns' into 2 files respectively called 'categories_data.pkl' and 'categorical_columns.pkl' using the pickle.dump() method"
      ]
    },
    {
      "cell_type": "code",
      "metadata": {
        "id": "w_JekLBEPeGg",
        "colab_type": "code",
        "colab": {}
      },
      "source": [
        "pickle.dump(column_categories, open(\"categories_data.pkl\", \"wb\"))\n",
        "pickle.dump(cat_columns, open(\"categorical_columns.pkl\", \"wb\"))"
      ],
      "execution_count": 0,
      "outputs": []
    },
    {
      "cell_type": "markdown",
      "metadata": {
        "id": "yA2juyWbPpki",
        "colab_type": "text"
      },
      "source": [
        "12. Create a function called 'apply_categories' that takes a DataFrame and a dictionary as inputs and will import CategoricalDtype from pandas.api.types, iterate though this dictionary and convert each column (keys) with the list of categories (values) using the .astype() method and CategoricalDtype"
      ]
    },
    {
      "cell_type": "code",
      "metadata": {
        "id": "otsp5ZZ_Pp42",
        "colab_type": "code",
        "colab": {}
      },
      "source": [
        "def apply_categories(input_df, cat_dict):\n",
        "  from pandas.api.types import CategoricalDtype\n",
        "\n",
        "  for col, cat in cat_dict.items():\n",
        "    input_df[col] = input_df[col].astype(CategoricalDtype(categories=cat))\n",
        "\n",
        "  return input_df"
      ],
      "execution_count": 0,
      "outputs": []
    },
    {
      "cell_type": "markdown",
      "metadata": {
        "id": "32TPa2_EWGYO",
        "colab_type": "text"
      },
      "source": [
        "13. Apply this function on X_train and column_categories and save the result in a new DataFrane called 'X_train_cat'. Print the data type of its columns using the .dtypes attribute"
      ]
    },
    {
      "cell_type": "code",
      "metadata": {
        "id": "NIsFsowDWGfo",
        "colab_type": "code",
        "colab": {
          "base_uri": "https://localhost:8080/",
          "height": 374
        },
        "outputId": "92c6cff5-fbbc-4ea3-a280-e42592a02924"
      },
      "source": [
        "X_train_cat = apply_categories(X_train, column_categories)\n",
        "X_train_cat.dtypes"
      ],
      "execution_count": 12,
      "outputs": [
        {
          "output_type": "stream",
          "text": [
            "/usr/local/lib/python3.6/dist-packages/ipykernel_launcher.py:5: SettingWithCopyWarning: \n",
            "A value is trying to be set on a copy of a slice from a DataFrame.\n",
            "Try using .loc[row_indexer,col_indexer] = value instead\n",
            "\n",
            "See the caveats in the documentation: http://pandas.pydata.org/pandas-docs/stable/user_guide/indexing.html#returning-a-view-versus-a-copy\n",
            "  \"\"\"\n"
          ],
          "name": "stderr"
        },
        {
          "output_type": "execute_result",
          "data": {
            "text/plain": [
              "age                  int64\n",
              "workclass         category\n",
              "fnlwgt               int64\n",
              "education         category\n",
              "education-num        int64\n",
              "marital-status    category\n",
              "occupation        category\n",
              "relationship      category\n",
              "race              category\n",
              "sex               category\n",
              "capital-gain         int64\n",
              "capital-loss         int64\n",
              "hours-per-week       int64\n",
              "native-country    category\n",
              "dtype: object"
            ]
          },
          "metadata": {
            "tags": []
          },
          "execution_count": 12
        }
      ]
    },
    {
      "cell_type": "markdown",
      "metadata": {
        "id": "bCLbBHFEXD1O",
        "colab_type": "text"
      },
      "source": [
        "14. Perform One-Hot encoding on the catagorical columns using the .get_dummies() method and save the result into a new variable called 'X_train_final'"
      ]
    },
    {
      "cell_type": "code",
      "metadata": {
        "id": "Te17ukrSXD7F",
        "colab_type": "code",
        "colab": {}
      },
      "source": [
        "X_train_final = pd.get_dummies(X_train_cat, columns=cat_columns)"
      ],
      "execution_count": 0,
      "outputs": []
    },
    {
      "cell_type": "markdown",
      "metadata": {
        "id": "tq4k91cQ7YXF",
        "colab_type": "text"
      },
      "source": [
        "15. Instanciate a RandomForestClassifier with random_state=8 and train it with the training sets using the .fit() method. Save the model into a file called 'model.pkl' using the moethod joblib.dump()"
      ]
    },
    {
      "cell_type": "code",
      "metadata": {
        "id": "QkFwEdz-ficr",
        "colab_type": "code",
        "outputId": "b47b07a1-78f7-4423-ab0e-7f1fb239f1c8",
        "colab": {
          "base_uri": "https://localhost:8080/",
          "height": 88
        }
      },
      "source": [
        "rf_model = RandomForestClassifier(random_state=8)\n",
        "rf_model.fit(X_train_final, y_train)\n",
        "joblib.dump(rf_model, \"model.pkl\") "
      ],
      "execution_count": 14,
      "outputs": [
        {
          "output_type": "stream",
          "text": [
            "/usr/local/lib/python3.6/dist-packages/sklearn/ensemble/forest.py:245: FutureWarning: The default value of n_estimators will change from 10 in version 0.20 to 100 in 0.22.\n",
            "  \"10 in version 0.20 to 100 in 0.22.\", FutureWarning)\n"
          ],
          "name": "stderr"
        },
        {
          "output_type": "execute_result",
          "data": {
            "text/plain": [
              "['model.pkl']"
            ]
          },
          "metadata": {
            "tags": []
          },
          "execution_count": 14
        }
      ]
    },
    {
      "cell_type": "markdown",
      "metadata": {
        "id": "6xfmSkKk7ZfO",
        "colab_type": "text"
      },
      "source": [
        "16. Import the socket, threading, requests, json and numpy packages and the classes Flask, jsonify and request from the package flask"
      ]
    },
    {
      "cell_type": "code",
      "metadata": {
        "id": "7E2YdRNef1eP",
        "colab_type": "code",
        "colab": {}
      },
      "source": [
        "import socket\n",
        "import threading\n",
        "import requests\n",
        "import json\n",
        "from flask import Flask, jsonify, request\n",
        "import numpy as np"
      ],
      "execution_count": 0,
      "outputs": []
    },
    {
      "cell_type": "markdown",
      "metadata": {
        "id": "DqkIFpLa7a2X",
        "colab_type": "text"
      },
      "source": [
        "17. Create a new Flask app and save it into a variable called 'app'"
      ]
    },
    {
      "cell_type": "code",
      "metadata": {
        "id": "eo2FtaYSf1kw",
        "colab_type": "code",
        "colab": {}
      },
      "source": [
        "app = Flask(__name__)"
      ],
      "execution_count": 0,
      "outputs": []
    },
    {
      "cell_type": "markdown",
      "metadata": {
        "id": "5l7i9ngX7bdv",
        "colab_type": "text"
      },
      "source": [
        "18. Load the pre-trained model from the file 'model.pkl' using joblib.load() and save it into a variable called 'trained_model'. Load the saved dictionary from 'categories_data.pkl' using pickle.load() and save it into a variable called 'var_means'"
      ]
    },
    {
      "cell_type": "code",
      "metadata": {
        "id": "ketUKpP0f1nE",
        "colab_type": "code",
        "colab": {}
      },
      "source": [
        "trained_model = joblib.load(\"model.pkl\")\n",
        "var_means = pickle.load(open(\"categories_data.pkl\", \"rb\"))\n",
        "cat_cols = pickle.load(open(\"categorical_columns.pkl\", \"rb\"))"
      ],
      "execution_count": 0,
      "outputs": []
    },
    {
      "cell_type": "markdown",
      "metadata": {
        "id": "ynUVsuSy7b7D",
        "colab_type": "text"
      },
      "source": [
        "19. Create an API endpoint for the path 'api' that accepts only POST requests and will call a function called predict(). This function will read the JSON received using the method request.get_json(), transform it into a DataFrame, apply the apply_categories() function on it with 'var_means', perform one-hot encoding with .get_dummies(), predict the outcome with 'trained_model', convert the prediction from numpy array to string with array2string() and then to JSON with jsonify()"
      ]
    },
    {
      "cell_type": "code",
      "metadata": {
        "id": "hYSIZLGxf1pb",
        "colab_type": "code",
        "colab": {}
      },
      "source": [
        "@app.route('/api', methods=['POST'])\n",
        "def predict():\n",
        "  data = request.get_json()\n",
        "  df_test = pd.DataFrame(data, index=[0])\n",
        "  df_test_clean = apply_categories(df_test, var_means)\n",
        "  df_test_final = pd.get_dummies(df_test_clean, columns=cat_cols)\n",
        "  prediction = trained_model.predict(df_test_final)\n",
        "  str_pred = np.array2string(prediction)\n",
        "  return jsonify(str_pred)"
      ],
      "execution_count": 0,
      "outputs": []
    },
    {
      "cell_type": "markdown",
      "metadata": {
        "id": "Vc6ruISH7cYT",
        "colab_type": "text"
      },
      "source": [
        "20. Create a new thread for running your Flask app using the method threading.Thread with the following parameters: target=app.run, kwargs={'host':'0.0.0.0','port':80}"
      ]
    },
    {
      "cell_type": "code",
      "metadata": {
        "id": "d-8fz7aFf1jm",
        "colab_type": "code",
        "outputId": "6b0665bc-d361-4cfe-81db-8c3f9fd59bea",
        "colab": {
          "base_uri": "https://localhost:8080/",
          "height": 34
        }
      },
      "source": [
        "flask_thread = threading.Thread(target=app.run, kwargs={'host':'0.0.0.0','port':80})\n",
        "flask_thread.start()"
      ],
      "execution_count": 19,
      "outputs": [
        {
          "output_type": "stream",
          "text": [
            " * Serving Flask app \"__main__\" (lazy loading)\n"
          ],
          "name": "stdout"
        }
      ]
    },
    {
      "cell_type": "markdown",
      "metadata": {
        "id": "8d1_DUd87etf",
        "colab_type": "text"
      },
      "source": [
        "21. Select the first record of X_test and convert it into json format using the .to_json() method"
      ]
    },
    {
      "cell_type": "code",
      "metadata": {
        "id": "AF4eiCKugmZ1",
        "colab_type": "code",
        "outputId": "d8fdaebc-267b-4f99-bde1-86e37855afde",
        "colab": {
          "base_uri": "https://localhost:8080/",
          "height": 139
        }
      },
      "source": [
        "record = X_test.iloc[0,].to_json()\n",
        "record"
      ],
      "execution_count": 20,
      "outputs": [
        {
          "output_type": "stream",
          "text": [
            " * Environment: production\n"
          ],
          "name": "stdout"
        },
        {
          "output_type": "execute_result",
          "data": {
            "text/plain": [
              "'{\"age\":51,\"workclass\":\" Private\",\"fnlwgt\":106151,\"education\":\" 11th\",\"education-num\":7,\"marital-status\":\" Divorced\",\"occupation\":\" Transport-moving\",\"relationship\":\" Own-child\",\"race\":\" White\",\"sex\":\" Male\",\"capital-gain\":0,\"capital-loss\":0,\"hours-per-week\":40,\"native-country\":\" United-States\"}'"
            ]
          },
          "metadata": {
            "tags": []
          },
          "execution_count": 20
        },
        {
          "output_type": "stream",
          "text": [
            "   WARNING: This is a development server. Do not use it in a production deployment.\n",
            "   Use a production WSGI server instead.\n",
            " * Debug mode: off\n"
          ],
          "name": "stdout"
        },
        {
          "output_type": "stream",
          "text": [
            " * Running on http://0.0.0.0:80/ (Press CTRL+C to quit)\n"
          ],
          "name": "stderr"
        }
      ]
    },
    {
      "cell_type": "markdown",
      "metadata": {
        "id": "oadGSUEB7fQu",
        "colab_type": "text"
      },
      "source": [
        "22. Create a dictionary called headers with the following key-value pairs: 'content-type': 'application/json', 'Accept-Charset': 'UTF-8'. Extract into a new variable called 'ip_address' the IP address of the host using the methods socket.gethostname() and socket.gethostbyname()"
      ]
    },
    {
      "cell_type": "code",
      "metadata": {
        "id": "-GLgAVCTf1g3",
        "colab_type": "code",
        "colab": {}
      },
      "source": [
        "headers = {'content-type': 'application/json', 'Accept-Charset': 'UTF-8'}\n",
        "ip_address = socket.gethostbyname(socket.gethostname())"
      ],
      "execution_count": 0,
      "outputs": []
    },
    {
      "cell_type": "markdown",
      "metadata": {
        "id": "-eWDuO1t7fvR",
        "colab_type": "text"
      },
      "source": [
        "23. Send a HTTP POST request to the server using the method requests.post() with the HTTP url to the endpoint, record and headers as its parameters and print its .text attribute"
      ]
    },
    {
      "cell_type": "code",
      "metadata": {
        "id": "DR7wNIjkgmfa",
        "colab_type": "code",
        "outputId": "64c97202-6210-4932-ba11-4ba0743e5db9",
        "colab": {
          "base_uri": "https://localhost:8080/",
          "height": 51
        }
      },
      "source": [
        "r = requests.post(f\"http://{ip_address}/api\", data=record, headers=headers)\n",
        "r.text"
      ],
      "execution_count": 22,
      "outputs": [
        {
          "output_type": "stream",
          "text": [
            "172.28.0.2 - - [06/Nov/2019 11:58:40] \"\u001b[37mPOST /api HTTP/1.1\u001b[0m\" 200 -\n"
          ],
          "name": "stderr"
        },
        {
          "output_type": "execute_result",
          "data": {
            "text/plain": [
              "'\"[\\' <=50K\\']\"\\n'"
            ]
          },
          "metadata": {
            "tags": []
          },
          "execution_count": 22
        }
      ]
    },
    {
      "cell_type": "markdown",
      "metadata": {
        "id": "wQNRAQBGkHjP",
        "colab_type": "text"
      },
      "source": [
        "Big kudos to you! In this activity, you have trained a Machine Learning model to assess the likelihood of a person having a low or high salary and deploy it into a Web API using Flask. This model can now be accessed any time and make predictions in real-time. You saw how to save the key information required to reproduce the same data processing as during the model training for new input data. You are now ready to deploy more Machine Learning models as a service."
      ]
    }
  ]
}