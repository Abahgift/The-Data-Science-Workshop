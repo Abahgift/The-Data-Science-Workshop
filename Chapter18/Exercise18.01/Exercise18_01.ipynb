{
  "nbformat": 4,
  "nbformat_minor": 0,
  "metadata": {
    "colab": {
      "name": "Exercise18_01.ipynb",
      "provenance": [],
      "collapsed_sections": []
    },
    "kernelspec": {
      "name": "python3",
      "display_name": "Python 3"
    }
  },
  "cells": [
    {
      "cell_type": "markdown",
      "metadata": {
        "id": "37vrnAFPW6_C",
        "colab_type": "text"
      },
      "source": [
        "#Exercise 1: Create a Flask API with endpoints\n",
        "In this exercise, we will learn how to create a Flask API with 2 different endpoints:\n",
        "*   The root endpoint that will display a welcoming message for any GET request received\n",
        "*   Another one that will check if the input data received is empty or not\n",
        "\n"
      ]
    },
    {
      "cell_type": "markdown",
      "metadata": {
        "id": "2Ox-pHUPX78-",
        "colab_type": "text"
      },
      "source": [
        "1. Open on a new Colab notebook"
      ]
    },
    {
      "cell_type": "markdown",
      "metadata": {
        "id": "CVKekU2-yjrG",
        "colab_type": "text"
      },
      "source": [
        "2.  Import the socket, threading, requests and json packages and the classes Flask, jsonify and request from the package flask"
      ]
    },
    {
      "cell_type": "code",
      "metadata": {
        "id": "kl29WUo3W4D5",
        "colab_type": "code",
        "colab": {}
      },
      "source": [
        "import socket\n",
        "import threading\n",
        "import requests\n",
        "import json\n",
        "from flask import Flask, jsonify, request"
      ],
      "execution_count": 0,
      "outputs": []
    },
    {
      "cell_type": "markdown",
      "metadata": {
        "id": "2Fj54bboyxE5",
        "colab_type": "text"
      },
      "source": [
        "3. Save the host IP address into a new variable called 'ip_address' using the method .gethostbyname() and .gethostname(). Display the value of this new variable"
      ]
    },
    {
      "cell_type": "code",
      "metadata": {
        "id": "jSL6D5Q7yxNq",
        "colab_type": "code",
        "outputId": "5ace6c8b-b282-41e1-fb8b-b14eb2fa7587",
        "colab": {
          "base_uri": "https://localhost:8080/",
          "height": 34
        }
      },
      "source": [
        "ip_address = socket.gethostbyname(socket.gethostname())\n",
        "ip_address"
      ],
      "execution_count": 0,
      "outputs": [
        {
          "output_type": "execute_result",
          "data": {
            "text/plain": [
              "'172.28.0.2'"
            ]
          },
          "metadata": {
            "tags": []
          },
          "execution_count": 2
        }
      ]
    },
    {
      "cell_type": "markdown",
      "metadata": {
        "id": "FVlwcrvBzH_i",
        "colab_type": "text"
      },
      "source": [
        "4. Create a Flask app and save it into a new variable called 'app'"
      ]
    },
    {
      "cell_type": "code",
      "metadata": {
        "id": "pvYKOG2NzIEc",
        "colab_type": "code",
        "colab": {}
      },
      "source": [
        "app = Flask(__name__)"
      ],
      "execution_count": 0,
      "outputs": []
    },
    {
      "cell_type": "markdown",
      "metadata": {
        "id": "1sbmfbWezPYB",
        "colab_type": "text"
      },
      "source": [
        "5. Create an API endpoint for the root directory using the decorator @app.route() that will call a function name 'welcome() which will return the following message: \"Welcome to my API!\""
      ]
    },
    {
      "cell_type": "code",
      "metadata": {
        "id": "IU_Q8MYzzPdK",
        "colab_type": "code",
        "colab": {}
      },
      "source": [
        "@app.route(\"/\")\n",
        "def welcome():\n",
        "    return \"Welcome to my API!\""
      ],
      "execution_count": 0,
      "outputs": []
    },
    {
      "cell_type": "markdown",
      "metadata": {
        "id": "68YSyJBfz6pV",
        "colab_type": "text"
      },
      "source": [
        "6. Create a new thread for running your Flask app using the method threading.Thread with the following parameters: target=app.run, kwargs={'host':'0.0.0.0','port':80}"
      ]
    },
    {
      "cell_type": "code",
      "metadata": {
        "id": "6iLQtxEEz6vK",
        "colab_type": "code",
        "outputId": "e02633a3-087c-40f7-ac99-9e4833ed7145",
        "colab": {
          "base_uri": "https://localhost:8080/",
          "height": 34
        }
      },
      "source": [
        "flask_thread = threading.Thread(target=app.run, kwargs={'host':'0.0.0.0','port':80})\n",
        "flask_thread.start()"
      ],
      "execution_count": 0,
      "outputs": [
        {
          "output_type": "stream",
          "text": [
            " * Serving Flask app \"__main__\" (lazy loading)\n"
          ],
          "name": "stdout"
        }
      ]
    },
    {
      "cell_type": "markdown",
      "metadata": {
        "id": "SBTCod350C1s",
        "colab_type": "text"
      },
      "source": [
        "7. Send a HTTP GET request to the server using the method requests.get() with the HTTP url of the host IP address and print its .text attribute"
      ]
    },
    {
      "cell_type": "code",
      "metadata": {
        "id": "ooPSHPDO0C7f",
        "colab_type": "code",
        "outputId": "f3c1b8e4-bbae-442b-a224-3526eee6616c",
        "colab": {
          "base_uri": "https://localhost:8080/",
          "height": 51
        }
      },
      "source": [
        "r = requests.get(f\"http://{ip_address}\")\n",
        "r.text"
      ],
      "execution_count": 0,
      "outputs": [
        {
          "output_type": "stream",
          "text": [
            "172.28.0.2 - - [03/Nov/2019 04:38:51] \"\u001b[37mGET / HTTP/1.1\u001b[0m\" 200 -\n"
          ],
          "name": "stderr"
        },
        {
          "output_type": "execute_result",
          "data": {
            "text/plain": [
              "'Welcome to my API!'"
            ]
          },
          "metadata": {
            "tags": []
          },
          "execution_count": 7
        }
      ]
    },
    {
      "cell_type": "markdown",
      "metadata": {
        "id": "sBPFRlee0FLZ",
        "colab_type": "text"
      },
      "source": [
        "8. Create a new API endpoint for the path 'empty' that accepts only POST requests and will call a function called check_empty(). This function will read the JSON received using the method request.get_json(), save it into a variable called data and return True if data is empty or False otherwise as a json using jsonify()"
      ]
    },
    {
      "cell_type": "code",
      "metadata": {
        "id": "qrihpEDn0FRf",
        "colab_type": "code",
        "colab": {}
      },
      "source": [
        "@app.route('/empty', methods=['POST'])\n",
        "def check_empty():\n",
        "  data = request.get_json()\n",
        "  return jsonify(not data)"
      ],
      "execution_count": 0,
      "outputs": []
    },
    {
      "cell_type": "markdown",
      "metadata": {
        "id": "laVkMhIi3CAS",
        "colab_type": "text"
      },
      "source": [
        "9. Create a variable called empty_json that will be en empty JSON by calling the method json.dumps() with en empty list as parameter"
      ]
    },
    {
      "cell_type": "code",
      "metadata": {
        "id": "h6DSUEWD3CIL",
        "colab_type": "code",
        "colab": {}
      },
      "source": [
        "empty_json = json.dumps([])"
      ],
      "execution_count": 0,
      "outputs": []
    },
    {
      "cell_type": "markdown",
      "metadata": {
        "id": "5c3LBN143ml5",
        "colab_type": "text"
      },
      "source": [
        "10. Create a dictionary called headers with the following key-value pairs: 'content-type': 'application/json', 'Accept-Charset': 'UTF-8'"
      ]
    },
    {
      "cell_type": "code",
      "metadata": {
        "id": "DgH1hJMD3m0v",
        "colab_type": "code",
        "colab": {}
      },
      "source": [
        "headers = {'content-type': 'application/json', 'Accept-Charset': 'UTF-8'}"
      ],
      "execution_count": 0,
      "outputs": []
    },
    {
      "cell_type": "markdown",
      "metadata": {
        "id": "jg_F5xK532nt",
        "colab_type": "text"
      },
      "source": [
        "11. Send a HTTP POST request to the server using the method requests.post() with the HTTP url to the empty endpoint, empty_json and headers as its parameters and print its .text attribute"
      ]
    },
    {
      "cell_type": "code",
      "metadata": {
        "id": "TqqJA5Un32sx",
        "colab_type": "code",
        "outputId": "db2f01e6-0395-4545-f98f-5dc305bcc16c",
        "colab": {
          "base_uri": "https://localhost:8080/",
          "height": 51
        }
      },
      "source": [
        "r_empty = requests.post(f\"http://{ip_address}/empty\", data=empty_json, headers=headers)\n",
        "r_empty.text"
      ],
      "execution_count": 0,
      "outputs": [
        {
          "output_type": "stream",
          "text": [
            "172.28.0.2 - - [03/Nov/2019 04:38:58] \"\u001b[37mPOST /empty HTTP/1.1\u001b[0m\" 200 -\n"
          ],
          "name": "stderr"
        },
        {
          "output_type": "execute_result",
          "data": {
            "text/plain": [
              "'true\\n'"
            ]
          },
          "metadata": {
            "tags": []
          },
          "execution_count": 11
        }
      ]
    },
    {
      "cell_type": "markdown",
      "metadata": {
        "id": "GCdJOj614mKP",
        "colab_type": "text"
      },
      "source": [
        "12. Create a variable called not_empty_json that contains a JSON version of a list ['Data Science', 'is', 'so', 'cool', '!'] using the method json.dumps()"
      ]
    },
    {
      "cell_type": "code",
      "metadata": {
        "id": "M9J-lEDx4mOe",
        "colab_type": "code",
        "colab": {}
      },
      "source": [
        "not_empty_json = json.dumps(['Data Science', 'is', 'so', 'cool', '!'])"
      ],
      "execution_count": 0,
      "outputs": []
    },
    {
      "cell_type": "markdown",
      "metadata": {
        "id": "f-0d1-GP4k3n",
        "colab_type": "text"
      },
      "source": [
        "13. Send a HTTP POST request to the server using the method requests.post() with the HTTP url to the empty endpoint, not_empty_json and headers as its parameters and print its .text attribute"
      ]
    },
    {
      "cell_type": "code",
      "metadata": {
        "id": "5LFjq2ON4k78",
        "colab_type": "code",
        "outputId": "0636b8a4-6d80-4654-84a6-6cc29cd9fe72",
        "colab": {
          "base_uri": "https://localhost:8080/",
          "height": 51
        }
      },
      "source": [
        "r_not_empty = requests.post(f\"http://{ip_address}/empty\", data=not_empty_json, headers=headers)\n",
        "r_not_empty.text"
      ],
      "execution_count": 0,
      "outputs": [
        {
          "output_type": "stream",
          "text": [
            "172.28.0.2 - - [03/Nov/2019 04:39:02] \"\u001b[37mPOST /empty HTTP/1.1\u001b[0m\" 200 -\n"
          ],
          "name": "stderr"
        },
        {
          "output_type": "execute_result",
          "data": {
            "text/plain": [
              "'false\\n'"
            ]
          },
          "metadata": {
            "tags": []
          },
          "execution_count": 13
        }
      ]
    },
    {
      "cell_type": "markdown",
      "metadata": {
        "id": "wQNRAQBGkHjP",
        "colab_type": "text"
      },
      "source": [
        "Great job! You successfully created a Flask app with 2 different API endpoints that will display a welcoming message and check if the input data received is empty or not."
      ]
    }
  ]
}