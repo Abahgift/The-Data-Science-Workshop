{
  "nbformat": 4,
  "nbformat_minor": 0,
  "metadata": {
    "colab": {
      "name": "Exercise18_02.ipynb",
      "provenance": [],
      "collapsed_sections": []
    },
    "kernelspec": {
      "name": "python3",
      "display_name": "Python 3"
    }
  },
  "cells": [
    {
      "cell_type": "markdown",
      "metadata": {
        "id": "37vrnAFPW6_C",
        "colab_type": "text"
      },
      "source": [
        "#Exercise 2: Deploy a Model as Web API\n",
        "In this exercise, we will learn how to deploy a pre-trained Machine Learning model as a Web API that will accept HTTP POST requests for predicting the class type of Breast cancer for a given patient.\n",
        "\n",
        "Note\n",
        "The dataset used for this exercise is the Breast Cancer Detection shared by Dr. WIlliam H. Wolberg from the University of Wisconsin Hospitals and the attribute information can be found here - https://archive.ics.uci.edu/ml/datasets/breast+cancer+wisconsin+(original)\n",
        "\n",
        "The dataset can also be found in our repository here - https://raw.githubusercontent.com/PacktWorkshops/The-Data-Science-Workshop/master/Chapter11/dataset/breast-cancer-wisconsin.data\n"
      ]
    },
    {
      "cell_type": "markdown",
      "metadata": {
        "id": "2Ox-pHUPX78-",
        "colab_type": "text"
      },
      "source": [
        "1. Open on a new Colab notebook"
      ]
    },
    {
      "cell_type": "markdown",
      "metadata": {
        "id": "BjLQtyoWtL3r",
        "colab_type": "text"
      },
      "source": [
        "2. Import the packages pandas and joblib, RandomForestClassifier from sklearn.ensemble and train_test_split from from sklearn.model_selection"
      ]
    },
    {
      "cell_type": "code",
      "metadata": {
        "id": "_b0A-ElAnHj2",
        "colab_type": "code",
        "colab": {}
      },
      "source": [
        "import pandas as pd\n",
        "import joblib\n",
        "from sklearn.ensemble import RandomForestClassifier\n",
        "from sklearn.model_selection import train_test_split"
      ],
      "execution_count": 0,
      "outputs": []
    },
    {
      "cell_type": "markdown",
      "metadata": {
        "id": "VJMbepT9tKZx",
        "colab_type": "text"
      },
      "source": [
        "3. Assign the link to the Breast Cancer dataset to a variable called 'file_url'"
      ]
    },
    {
      "cell_type": "code",
      "metadata": {
        "id": "xuyNn2VlnHm9",
        "colab_type": "code",
        "colab": {}
      },
      "source": [
        "file_url = 'https://raw.githubusercontent.com/PacktWorkshops/The-Data-Science-Workshop/master/Chapter11/dataset/breast-cancer-wisconsin.data'"
      ],
      "execution_count": 0,
      "outputs": []
    },
    {
      "cell_type": "markdown",
      "metadata": {
        "id": "8Ynp0SKltKFf",
        "colab_type": "text"
      },
      "source": [
        "4. Create a list called 'col_names' with the following names: 'Sample code number','Clump Thickness','Uniformity of Cell Size','Uniformity of Cell Shape','Marginal Adhesion','Single Epithelial Cell Size',\n",
        "'Bare Nuclei','Bland Chromatin','Normal Nucleoli','Mitoses','Class'"
      ]
    },
    {
      "cell_type": "code",
      "metadata": {
        "id": "MSH55O2Qn3nn",
        "colab_type": "code",
        "colab": {}
      },
      "source": [
        "col_names = ['Sample code number','Clump Thickness','Uniformity of Cell Size','Uniformity of Cell Shape','Marginal Adhesion','Single Epithelial Cell Size',\n",
        "'Bare Nuclei','Bland Chromatin','Normal Nucleoli','Mitoses','Class']"
      ],
      "execution_count": 0,
      "outputs": []
    },
    {
      "cell_type": "markdown",
      "metadata": {
        "id": "6V_NRU5gtJje",
        "colab_type": "text"
      },
      "source": [
        "5. Load the dataset into DataFrame using pd.read_csv() with the follwong parameters: header=None, names=col_names, na_values='?'"
      ]
    },
    {
      "cell_type": "code",
      "metadata": {
        "id": "qHM7W8jTnHye",
        "colab_type": "code",
        "colab": {}
      },
      "source": [
        "df = pd.read_csv(file_url, header=None, names=col_names, na_values='?')"
      ],
      "execution_count": 0,
      "outputs": []
    },
    {
      "cell_type": "markdown",
      "metadata": {
        "id": "2Q49MMLLtJPI",
        "colab_type": "text"
      },
      "source": [
        "6. Print the first 5 rows using the method .head()"
      ]
    },
    {
      "cell_type": "code",
      "metadata": {
        "id": "HZ5iAGhvntZU",
        "colab_type": "code",
        "outputId": "4490c863-f9d8-404a-8d5f-b2128d355081",
        "colab": {
          "base_uri": "https://localhost:8080/",
          "height": 221
        }
      },
      "source": [
        "df.head()"
      ],
      "execution_count": 0,
      "outputs": [
        {
          "output_type": "execute_result",
          "data": {
            "text/html": [
              "<div>\n",
              "<style scoped>\n",
              "    .dataframe tbody tr th:only-of-type {\n",
              "        vertical-align: middle;\n",
              "    }\n",
              "\n",
              "    .dataframe tbody tr th {\n",
              "        vertical-align: top;\n",
              "    }\n",
              "\n",
              "    .dataframe thead th {\n",
              "        text-align: right;\n",
              "    }\n",
              "</style>\n",
              "<table border=\"1\" class=\"dataframe\">\n",
              "  <thead>\n",
              "    <tr style=\"text-align: right;\">\n",
              "      <th></th>\n",
              "      <th>Sample code number</th>\n",
              "      <th>Clump Thickness</th>\n",
              "      <th>Uniformity of Cell Size</th>\n",
              "      <th>Uniformity of Cell Shape</th>\n",
              "      <th>Marginal Adhesion</th>\n",
              "      <th>Single Epithelial Cell Size</th>\n",
              "      <th>Bare Nuclei</th>\n",
              "      <th>Bland Chromatin</th>\n",
              "      <th>Normal Nucleoli</th>\n",
              "      <th>Mitoses</th>\n",
              "      <th>Class</th>\n",
              "    </tr>\n",
              "  </thead>\n",
              "  <tbody>\n",
              "    <tr>\n",
              "      <th>0</th>\n",
              "      <td>1000025</td>\n",
              "      <td>5</td>\n",
              "      <td>1</td>\n",
              "      <td>1</td>\n",
              "      <td>1</td>\n",
              "      <td>2</td>\n",
              "      <td>1.0</td>\n",
              "      <td>3</td>\n",
              "      <td>1</td>\n",
              "      <td>1</td>\n",
              "      <td>2</td>\n",
              "    </tr>\n",
              "    <tr>\n",
              "      <th>1</th>\n",
              "      <td>1002945</td>\n",
              "      <td>5</td>\n",
              "      <td>4</td>\n",
              "      <td>4</td>\n",
              "      <td>5</td>\n",
              "      <td>7</td>\n",
              "      <td>10.0</td>\n",
              "      <td>3</td>\n",
              "      <td>2</td>\n",
              "      <td>1</td>\n",
              "      <td>2</td>\n",
              "    </tr>\n",
              "    <tr>\n",
              "      <th>2</th>\n",
              "      <td>1015425</td>\n",
              "      <td>3</td>\n",
              "      <td>1</td>\n",
              "      <td>1</td>\n",
              "      <td>1</td>\n",
              "      <td>2</td>\n",
              "      <td>2.0</td>\n",
              "      <td>3</td>\n",
              "      <td>1</td>\n",
              "      <td>1</td>\n",
              "      <td>2</td>\n",
              "    </tr>\n",
              "    <tr>\n",
              "      <th>3</th>\n",
              "      <td>1016277</td>\n",
              "      <td>6</td>\n",
              "      <td>8</td>\n",
              "      <td>8</td>\n",
              "      <td>1</td>\n",
              "      <td>3</td>\n",
              "      <td>4.0</td>\n",
              "      <td>3</td>\n",
              "      <td>7</td>\n",
              "      <td>1</td>\n",
              "      <td>2</td>\n",
              "    </tr>\n",
              "    <tr>\n",
              "      <th>4</th>\n",
              "      <td>1017023</td>\n",
              "      <td>4</td>\n",
              "      <td>1</td>\n",
              "      <td>1</td>\n",
              "      <td>3</td>\n",
              "      <td>2</td>\n",
              "      <td>1.0</td>\n",
              "      <td>3</td>\n",
              "      <td>1</td>\n",
              "      <td>1</td>\n",
              "      <td>2</td>\n",
              "    </tr>\n",
              "  </tbody>\n",
              "</table>\n",
              "</div>"
            ],
            "text/plain": [
              "   Sample code number  Clump Thickness  ...  Mitoses  Class\n",
              "0             1000025                5  ...        1      2\n",
              "1             1002945                5  ...        1      2\n",
              "2             1015425                3  ...        1      2\n",
              "3             1016277                6  ...        1      2\n",
              "4             1017023                4  ...        1      2\n",
              "\n",
              "[5 rows x 11 columns]"
            ]
          },
          "metadata": {
            "tags": []
          },
          "execution_count": 5
        }
      ]
    },
    {
      "cell_type": "markdown",
      "metadata": {
        "id": "EKLCv-4CtI4M",
        "colab_type": "text"
      },
      "source": [
        "7. Replace all missing values with 0 using the method .fillna()"
      ]
    },
    {
      "cell_type": "code",
      "metadata": {
        "id": "pHG3ADzWpIXU",
        "colab_type": "code",
        "colab": {}
      },
      "source": [
        "df.fillna(0, inplace=True)"
      ],
      "execution_count": 0,
      "outputs": []
    },
    {
      "cell_type": "markdown",
      "metadata": {
        "id": "15Wy4aS6tITa",
        "colab_type": "text"
      },
      "source": [
        "8. Extract the response variable 'Class' using the method .pop()"
      ]
    },
    {
      "cell_type": "code",
      "metadata": {
        "id": "bjMOEqmuntdD",
        "colab_type": "code",
        "colab": {}
      },
      "source": [
        "y = df.pop('Class')"
      ],
      "execution_count": 0,
      "outputs": []
    },
    {
      "cell_type": "markdown",
      "metadata": {
        "id": "qhD6Y7E_tH4s",
        "colab_type": "text"
      },
      "source": [
        "9. Remove the column 'Sample code number' using the method .drop() with axis=1 as parameter to specify we are dropping columns and not rows. Save the result into a DataFrame called 'X'"
      ]
    },
    {
      "cell_type": "code",
      "metadata": {
        "id": "HHs8bS9qntgL",
        "colab_type": "code",
        "colab": {}
      },
      "source": [
        "X = df.drop('Sample code number', axis=1)"
      ],
      "execution_count": 0,
      "outputs": []
    },
    {
      "cell_type": "markdown",
      "metadata": {
        "id": "G0M3jFXhtHfY",
        "colab_type": "text"
      },
      "source": [
        "10. Print the first 5 rows using the method .head()"
      ]
    },
    {
      "cell_type": "code",
      "metadata": {
        "id": "8fB7TTDuoZw1",
        "colab_type": "code",
        "outputId": "947c4779-8277-4c34-edbb-62a04c434674",
        "colab": {
          "base_uri": "https://localhost:8080/",
          "height": 221
        }
      },
      "source": [
        "X.head()"
      ],
      "execution_count": 0,
      "outputs": [
        {
          "output_type": "execute_result",
          "data": {
            "text/html": [
              "<div>\n",
              "<style scoped>\n",
              "    .dataframe tbody tr th:only-of-type {\n",
              "        vertical-align: middle;\n",
              "    }\n",
              "\n",
              "    .dataframe tbody tr th {\n",
              "        vertical-align: top;\n",
              "    }\n",
              "\n",
              "    .dataframe thead th {\n",
              "        text-align: right;\n",
              "    }\n",
              "</style>\n",
              "<table border=\"1\" class=\"dataframe\">\n",
              "  <thead>\n",
              "    <tr style=\"text-align: right;\">\n",
              "      <th></th>\n",
              "      <th>Clump Thickness</th>\n",
              "      <th>Uniformity of Cell Size</th>\n",
              "      <th>Uniformity of Cell Shape</th>\n",
              "      <th>Marginal Adhesion</th>\n",
              "      <th>Single Epithelial Cell Size</th>\n",
              "      <th>Bare Nuclei</th>\n",
              "      <th>Bland Chromatin</th>\n",
              "      <th>Normal Nucleoli</th>\n",
              "      <th>Mitoses</th>\n",
              "    </tr>\n",
              "  </thead>\n",
              "  <tbody>\n",
              "    <tr>\n",
              "      <th>0</th>\n",
              "      <td>5</td>\n",
              "      <td>1</td>\n",
              "      <td>1</td>\n",
              "      <td>1</td>\n",
              "      <td>2</td>\n",
              "      <td>1.0</td>\n",
              "      <td>3</td>\n",
              "      <td>1</td>\n",
              "      <td>1</td>\n",
              "    </tr>\n",
              "    <tr>\n",
              "      <th>1</th>\n",
              "      <td>5</td>\n",
              "      <td>4</td>\n",
              "      <td>4</td>\n",
              "      <td>5</td>\n",
              "      <td>7</td>\n",
              "      <td>10.0</td>\n",
              "      <td>3</td>\n",
              "      <td>2</td>\n",
              "      <td>1</td>\n",
              "    </tr>\n",
              "    <tr>\n",
              "      <th>2</th>\n",
              "      <td>3</td>\n",
              "      <td>1</td>\n",
              "      <td>1</td>\n",
              "      <td>1</td>\n",
              "      <td>2</td>\n",
              "      <td>2.0</td>\n",
              "      <td>3</td>\n",
              "      <td>1</td>\n",
              "      <td>1</td>\n",
              "    </tr>\n",
              "    <tr>\n",
              "      <th>3</th>\n",
              "      <td>6</td>\n",
              "      <td>8</td>\n",
              "      <td>8</td>\n",
              "      <td>1</td>\n",
              "      <td>3</td>\n",
              "      <td>4.0</td>\n",
              "      <td>3</td>\n",
              "      <td>7</td>\n",
              "      <td>1</td>\n",
              "    </tr>\n",
              "    <tr>\n",
              "      <th>4</th>\n",
              "      <td>4</td>\n",
              "      <td>1</td>\n",
              "      <td>1</td>\n",
              "      <td>3</td>\n",
              "      <td>2</td>\n",
              "      <td>1.0</td>\n",
              "      <td>3</td>\n",
              "      <td>1</td>\n",
              "      <td>1</td>\n",
              "    </tr>\n",
              "  </tbody>\n",
              "</table>\n",
              "</div>"
            ],
            "text/plain": [
              "   Clump Thickness  Uniformity of Cell Size  ...  Normal Nucleoli  Mitoses\n",
              "0                5                        1  ...                1        1\n",
              "1                5                        4  ...                2        1\n",
              "2                3                        1  ...                1        1\n",
              "3                6                        8  ...                7        1\n",
              "4                4                        1  ...                1        1\n",
              "\n",
              "[5 rows x 9 columns]"
            ]
          },
          "metadata": {
            "tags": []
          },
          "execution_count": 9
        }
      ]
    },
    {
      "cell_type": "markdown",
      "metadata": {
        "id": "jrmTB-P4tG6W",
        "colab_type": "text"
      },
      "source": [
        "11. Split into training and testing sets using the function 'train_test_split' with the parameters test_size=0.33, random_state=888"
      ]
    },
    {
      "cell_type": "code",
      "metadata": {
        "id": "TnmZuUKbnti9",
        "colab_type": "code",
        "colab": {}
      },
      "source": [
        "X_train, X_test, y_train, y_test = train_test_split(X, y, test_size=0.33, random_state=888)"
      ],
      "execution_count": 0,
      "outputs": []
    },
    {
      "cell_type": "markdown",
      "metadata": {
        "id": "8Hztd2pwtGf3",
        "colab_type": "text"
      },
      "source": [
        "12. Instantiate a RandomForestClassifier with random_state=1 and save it into a new variable called 'rf_model'"
      ]
    },
    {
      "cell_type": "code",
      "metadata": {
        "id": "rM2D75s0otzY",
        "colab_type": "code",
        "colab": {}
      },
      "source": [
        "rf_model = RandomForestClassifier(random_state=1)"
      ],
      "execution_count": 0,
      "outputs": []
    },
    {
      "cell_type": "markdown",
      "metadata": {
        "id": "JtiJThFdtFMR",
        "colab_type": "text"
      },
      "source": [
        "13. Train the RandomForest model with X_train and y_train"
      ]
    },
    {
      "cell_type": "code",
      "metadata": {
        "id": "VAOTJvwCot_C",
        "colab_type": "code",
        "outputId": "b846fbd4-6c8d-4229-bfae-714b3a8ede4e",
        "colab": {
          "base_uri": "https://localhost:8080/",
          "height": 190
        }
      },
      "source": [
        "rf_model.fit(X_train, y_train)"
      ],
      "execution_count": 0,
      "outputs": [
        {
          "output_type": "stream",
          "text": [
            "/usr/local/lib/python3.6/dist-packages/sklearn/ensemble/forest.py:245: FutureWarning: The default value of n_estimators will change from 10 in version 0.20 to 100 in 0.22.\n",
            "  \"10 in version 0.20 to 100 in 0.22.\", FutureWarning)\n"
          ],
          "name": "stderr"
        },
        {
          "output_type": "execute_result",
          "data": {
            "text/plain": [
              "RandomForestClassifier(bootstrap=True, class_weight=None, criterion='gini',\n",
              "                       max_depth=None, max_features='auto', max_leaf_nodes=None,\n",
              "                       min_impurity_decrease=0.0, min_impurity_split=None,\n",
              "                       min_samples_leaf=1, min_samples_split=2,\n",
              "                       min_weight_fraction_leaf=0.0, n_estimators=10,\n",
              "                       n_jobs=None, oob_score=False, random_state=1, verbose=0,\n",
              "                       warm_start=False)"
            ]
          },
          "metadata": {
            "tags": []
          },
          "execution_count": 12
        }
      ]
    },
    {
      "cell_type": "markdown",
      "metadata": {
        "id": "-8s8Ll43tEUj",
        "colab_type": "text"
      },
      "source": [
        "14. Predict the outcome for the first record of X_test using the method .predict()"
      ]
    },
    {
      "cell_type": "code",
      "metadata": {
        "id": "rMI1mOihouBq",
        "colab_type": "code",
        "outputId": "a082f8b6-ccac-4948-ffed-a65aed390523",
        "colab": {
          "base_uri": "https://localhost:8080/",
          "height": 34
        }
      },
      "source": [
        "rf_model.predict([X_test.iloc[0,]])"
      ],
      "execution_count": 0,
      "outputs": [
        {
          "output_type": "execute_result",
          "data": {
            "text/plain": [
              "array([2])"
            ]
          },
          "metadata": {
            "tags": []
          },
          "execution_count": 13
        }
      ]
    },
    {
      "cell_type": "markdown",
      "metadata": {
        "id": "mJfNER_OtD4D",
        "colab_type": "text"
      },
      "source": [
        "15. Save the RandomForest model as a sperate file called 'model.pkl' using joblib.dump()"
      ]
    },
    {
      "cell_type": "code",
      "metadata": {
        "id": "E3wJTFm2qgUV",
        "colab_type": "code",
        "outputId": "68b620ec-2f71-4ccb-afb5-1175ca3d0417",
        "colab": {
          "base_uri": "https://localhost:8080/",
          "height": 34
        }
      },
      "source": [
        "joblib.dump(rf_model, \"model.pkl\") "
      ],
      "execution_count": 0,
      "outputs": [
        {
          "output_type": "execute_result",
          "data": {
            "text/plain": [
              "['model.pkl']"
            ]
          },
          "metadata": {
            "tags": []
          },
          "execution_count": 14
        }
      ]
    },
    {
      "cell_type": "markdown",
      "metadata": {
        "id": "CVKekU2-yjrG",
        "colab_type": "text"
      },
      "source": [
        "16.  Import the socket, threading, requests, json and numpy packages and the classes Flask, jsonify and request from the package flask"
      ]
    },
    {
      "cell_type": "code",
      "metadata": {
        "id": "kl29WUo3W4D5",
        "colab_type": "code",
        "colab": {}
      },
      "source": [
        "import socket\n",
        "import threading\n",
        "import requests\n",
        "import json\n",
        "from flask import Flask, jsonify, request\n",
        "import numpy as np"
      ],
      "execution_count": 0,
      "outputs": []
    },
    {
      "cell_type": "markdown",
      "metadata": {
        "id": "2Fj54bboyxE5",
        "colab_type": "text"
      },
      "source": [
        "17. Save the host IP address into a new variable called 'ip_address' using the method .gethostbyname() and .gethostname(). Display the value of this new variable"
      ]
    },
    {
      "cell_type": "code",
      "metadata": {
        "id": "FHV797Dlqac_",
        "colab_type": "code",
        "outputId": "b343da6c-3264-41c9-f18e-8b7a053eb6b7",
        "colab": {
          "base_uri": "https://localhost:8080/",
          "height": 34
        }
      },
      "source": [
        "ip_address = socket.gethostbyname(socket.gethostname())\n",
        "ip_address"
      ],
      "execution_count": 0,
      "outputs": [
        {
          "output_type": "execute_result",
          "data": {
            "text/plain": [
              "'172.28.0.2'"
            ]
          },
          "metadata": {
            "tags": []
          },
          "execution_count": 16
        }
      ]
    },
    {
      "cell_type": "markdown",
      "metadata": {
        "id": "FVlwcrvBzH_i",
        "colab_type": "text"
      },
      "source": [
        "18. Create a Flask app and save it into a new variable called 'app'"
      ]
    },
    {
      "cell_type": "code",
      "metadata": {
        "id": "rBMrb4UNqb3U",
        "colab_type": "code",
        "colab": {}
      },
      "source": [
        "app = Flask(__name__)"
      ],
      "execution_count": 0,
      "outputs": []
    },
    {
      "cell_type": "markdown",
      "metadata": {
        "id": "UIE3KP8orkk7",
        "colab_type": "text"
      },
      "source": [
        "19. Load the pre-trained model using joblib.load()"
      ]
    },
    {
      "cell_type": "code",
      "metadata": {
        "id": "YoseBWhgqcd7",
        "colab_type": "code",
        "colab": {}
      },
      "source": [
        "trained_model = joblib.load(\"model.pkl\")"
      ],
      "execution_count": 0,
      "outputs": []
    },
    {
      "cell_type": "markdown",
      "metadata": {
        "id": "hfuyxvkdrlH8",
        "colab_type": "text"
      },
      "source": [
        "20. Create an API endpoint for the path 'api' that accepts only POST requests and will call a function called predict(). This function will read the JSON received using the method request.get_json(), predict the outcome with 'trained_model', convert the prediction from numpy array to string with array2string() and then to JSON with jsonify()"
      ]
    },
    {
      "cell_type": "code",
      "metadata": {
        "id": "ZwPHtIQKqn5c",
        "colab_type": "code",
        "colab": {}
      },
      "source": [
        "@app.route('/api', methods=['POST'])\n",
        "def predict():\n",
        "  data = request.get_json()\n",
        "  prediction = trained_model.predict(data)\n",
        "  str_pred = np.array2string(prediction)\n",
        "  return jsonify(str_pred)"
      ],
      "execution_count": 0,
      "outputs": []
    },
    {
      "cell_type": "markdown",
      "metadata": {
        "id": "68YSyJBfz6pV",
        "colab_type": "text"
      },
      "source": [
        "21. Create a new thread for running your Flask app using the method threading.Thread with the following parameters: target=app.run, kwargs={'host':'0.0.0.0','port':80}"
      ]
    },
    {
      "cell_type": "code",
      "metadata": {
        "id": "6iLQtxEEz6vK",
        "colab_type": "code",
        "outputId": "07c7b91c-d541-46a3-8d47-573308f3a25e",
        "colab": {
          "base_uri": "https://localhost:8080/",
          "height": 510
        }
      },
      "source": [
        "flask_thread = threading.Thread(target=app.run, kwargs={'host':'0.0.0.0','port':80})\n",
        "flask_thread.start()"
      ],
      "execution_count": 0,
      "outputs": [
        {
          "output_type": "stream",
          "text": [
            " * Serving Flask app \"__main__\" (lazy loading)\n",
            " * Environment: production\n",
            "   WARNING: This is a development server. Do not use it in a production deployment.\n",
            "   Use a production WSGI server instead.\n",
            " * Debug mode: off\n"
          ],
          "name": "stdout"
        },
        {
          "output_type": "stream",
          "text": [
            "Exception in thread Thread-6:\n",
            "Traceback (most recent call last):\n",
            "  File \"/usr/lib/python3.6/threading.py\", line 916, in _bootstrap_inner\n",
            "    self.run()\n",
            "  File \"/usr/lib/python3.6/threading.py\", line 864, in run\n",
            "    self._target(*self._args, **self._kwargs)\n",
            "  File \"/usr/local/lib/python3.6/dist-packages/flask/app.py\", line 990, in run\n",
            "    run_simple(host, port, self, **options)\n",
            "  File \"/usr/local/lib/python3.6/dist-packages/werkzeug/serving.py\", line 1010, in run_simple\n",
            "    inner()\n",
            "  File \"/usr/local/lib/python3.6/dist-packages/werkzeug/serving.py\", line 963, in inner\n",
            "    fd=fd,\n",
            "  File \"/usr/local/lib/python3.6/dist-packages/werkzeug/serving.py\", line 806, in make_server\n",
            "    host, port, app, request_handler, passthrough_errors, ssl_context, fd=fd\n",
            "  File \"/usr/local/lib/python3.6/dist-packages/werkzeug/serving.py\", line 699, in __init__\n",
            "    HTTPServer.__init__(self, server_address, handler)\n",
            "  File \"/usr/lib/python3.6/socketserver.py\", line 456, in __init__\n",
            "    self.server_bind()\n",
            "  File \"/usr/lib/python3.6/http/server.py\", line 136, in server_bind\n",
            "    socketserver.TCPServer.server_bind(self)\n",
            "  File \"/usr/lib/python3.6/socketserver.py\", line 470, in server_bind\n",
            "    self.socket.bind(self.server_address)\n",
            "OSError: [Errno 98] Address already in use\n",
            "\n"
          ],
          "name": "stderr"
        }
      ]
    },
    {
      "cell_type": "markdown",
      "metadata": {
        "id": "GlLaJbFGtA8V",
        "colab_type": "text"
      },
      "source": [
        "22. Convert the first record of X_test into a list and print its content"
      ]
    },
    {
      "cell_type": "code",
      "metadata": {
        "id": "_KmZqH-mqn72",
        "colab_type": "code",
        "outputId": "9faef682-2375-4007-e0f8-0fded21fbd0f",
        "colab": {
          "base_uri": "https://localhost:8080/",
          "height": 34
        }
      },
      "source": [
        "record = X_test.iloc[0,].to_list()\n",
        "record"
      ],
      "execution_count": 0,
      "outputs": [
        {
          "output_type": "execute_result",
          "data": {
            "text/plain": [
              "[2.0, 3.0, 1.0, 1.0, 5.0, 1.0, 1.0, 1.0, 1.0]"
            ]
          },
          "metadata": {
            "tags": []
          },
          "execution_count": 26
        }
      ]
    },
    {
      "cell_type": "markdown",
      "metadata": {
        "id": "laVkMhIi3CAS",
        "colab_type": "text"
      },
      "source": [
        "23. Create a variable called j_data that will convert this record into JSON by calling the method json.dumps(). "
      ]
    },
    {
      "cell_type": "code",
      "metadata": {
        "id": "iL7ezCzKqn-Y",
        "colab_type": "code",
        "colab": {}
      },
      "source": [
        "j_data = json.dumps([record])"
      ],
      "execution_count": 0,
      "outputs": []
    },
    {
      "cell_type": "markdown",
      "metadata": {
        "id": "5c3LBN143ml5",
        "colab_type": "text"
      },
      "source": [
        "24. Create a dictionary called headers with the following key-value pairs: 'content-type': 'application/json', 'Accept-Charset': 'UTF-8'"
      ]
    },
    {
      "cell_type": "code",
      "metadata": {
        "id": "uRU36nLVq1Vh",
        "colab_type": "code",
        "colab": {}
      },
      "source": [
        "headers = {'content-type': 'application/json', 'Accept-Charset': 'UTF-8'}"
      ],
      "execution_count": 0,
      "outputs": []
    },
    {
      "cell_type": "markdown",
      "metadata": {
        "id": "jg_F5xK532nt",
        "colab_type": "text"
      },
      "source": [
        "25. Send a HTTP POST request to the server using the method requests.post() with the HTTP url to the endpoint, j_data and headers as its parameters and print its .text attribute"
      ]
    },
    {
      "cell_type": "code",
      "metadata": {
        "id": "ORrZn6Y3q1cl",
        "colab_type": "code",
        "outputId": "98b5b564-f9e5-4e2e-a36e-f53c6b1ff719",
        "colab": {
          "base_uri": "https://localhost:8080/",
          "height": 51
        }
      },
      "source": [
        "r = requests.post(f\"http://{ip_address}/api\", data=j_data, headers=headers)\n",
        "r.text"
      ],
      "execution_count": 0,
      "outputs": [
        {
          "output_type": "stream",
          "text": [
            "172.28.0.2 - - [03/Nov/2019 20:56:13] \"\u001b[37mPOST /api HTTP/1.1\u001b[0m\" 200 -\n"
          ],
          "name": "stderr"
        },
        {
          "output_type": "execute_result",
          "data": {
            "text/plain": [
              "'\"[2]\"\\n'"
            ]
          },
          "metadata": {
            "tags": []
          },
          "execution_count": 24
        }
      ]
    },
    {
      "cell_type": "markdown",
      "metadata": {
        "id": "wQNRAQBGkHjP",
        "colab_type": "text"
      },
      "source": [
        "Excellent! We just deployed our pre-trained Machine Learning algorithm into a WeB API. In a real-world project, you will have to deploy it on separate server within your organisation and need to configure networking settings so that the authorised systems or services can send requests to this API."
      ]
    }
  ]
}