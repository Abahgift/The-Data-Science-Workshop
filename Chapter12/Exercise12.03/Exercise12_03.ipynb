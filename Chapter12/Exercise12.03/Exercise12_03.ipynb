{
  "nbformat": 4,
  "nbformat_minor": 0,
  "metadata": {
    "colab": {
      "name": "Exercise12.03.ipynb",
      "provenance": [],
      "collapsed_sections": []
    },
    "kernelspec": {
      "name": "python3",
      "display_name": "Python 3"
    }
  },
  "cells": [
    {
      "cell_type": "markdown",
      "metadata": {
        "id": "37vrnAFPW6_C",
        "colab_type": "text"
      },
      "source": [
        "#Exercise 12.03: Date manipulation on Financial Services Consumer Complaints\n",
        "In this exercise, we will learn how to create new date-related features using pandas.\n",
        "\n",
        "The dataset we will be using in this exercise is the Financial Services Customer Complaints dataset (seen in Chpater 4) and it can be found on our GitHub repository - https://github.com/PacktWorkshops/The-Data-Science-Workshop/blob/master/Chapter12/Dataset/Consumer_Complaints.csv\n",
        "\n",
        "Note\n",
        "The original dataset can be found here:\n",
        "https://catalog.data.gov/dataset/consumer-complaint-database\n",
        "\n"
      ]
    },
    {
      "cell_type": "markdown",
      "metadata": {
        "id": "2Ox-pHUPX78-",
        "colab_type": "text"
      },
      "source": [
        "1. Open on a new Colab notebook and import the pandas package"
      ]
    },
    {
      "cell_type": "code",
      "metadata": {
        "id": "HEiOAwQPW0qb",
        "colab_type": "code",
        "colab": {}
      },
      "source": [
        "import pandas as pd"
      ],
      "execution_count": 0,
      "outputs": []
    },
    {
      "cell_type": "markdown",
      "metadata": {
        "id": "C6NbwMIwX_84",
        "colab_type": "text"
      },
      "source": [
        "2. Assign the link to the dataset to a variable called 'file_url'\n",
        "\n",
        "\n"
      ]
    },
    {
      "cell_type": "code",
      "metadata": {
        "id": "j7whidfaYjns",
        "colab_type": "code",
        "colab": {}
      },
      "source": [
        "file_url = 'https://raw.githubusercontent.com/PacktWorkshops/The-Data-Science-Workshop/master/Chapter12/Dataset/Consumer_Complaints.csv'"
      ],
      "execution_count": 0,
      "outputs": []
    },
    {
      "cell_type": "markdown",
      "metadata": {
        "id": "VzoH_wvLuD0p",
        "colab_type": "text"
      },
      "source": [
        "3. Using the read_csv .method() from the package pandas, load the dataset into a new DataFrame called 'df'"
      ]
    },
    {
      "cell_type": "code",
      "metadata": {
        "id": "nFMz2jNVt-xy",
        "colab_type": "code",
        "outputId": "0c51d9e7-8316-4803-cc40-706efa2a8c5a",
        "colab": {
          "base_uri": "https://localhost:8080/",
          "height": 71
        }
      },
      "source": [
        "df = pd.read_csv(file_url)"
      ],
      "execution_count": 21,
      "outputs": [
        {
          "output_type": "stream",
          "text": [
            "/usr/local/lib/python3.6/dist-packages/IPython/core/interactiveshell.py:2718: DtypeWarning: Columns (4) have mixed types. Specify dtype option on import or set low_memory=False.\n",
            "  interactivity=interactivity, compiler=compiler, result=result)\n"
          ],
          "name": "stderr"
        }
      ]
    },
    {
      "cell_type": "markdown",
      "metadata": {
        "id": "C5YnDuuJsLB5",
        "colab_type": "text"
      },
      "source": [
        "4. Display the first 5 rows using the .head() method"
      ]
    },
    {
      "cell_type": "code",
      "metadata": {
        "id": "Lp9Bk6AWlK0n",
        "colab_type": "code",
        "outputId": "0500570f-e3a0-429b-f6a7-9cc21e2d97b1",
        "colab": {
          "base_uri": "https://localhost:8080/",
          "height": 442
        }
      },
      "source": [
        "df.head()"
      ],
      "execution_count": 22,
      "outputs": [
        {
          "output_type": "execute_result",
          "data": {
            "text/html": [
              "<div>\n",
              "<style scoped>\n",
              "    .dataframe tbody tr th:only-of-type {\n",
              "        vertical-align: middle;\n",
              "    }\n",
              "\n",
              "    .dataframe tbody tr th {\n",
              "        vertical-align: top;\n",
              "    }\n",
              "\n",
              "    .dataframe thead th {\n",
              "        text-align: right;\n",
              "    }\n",
              "</style>\n",
              "<table border=\"1\" class=\"dataframe\">\n",
              "  <thead>\n",
              "    <tr style=\"text-align: right;\">\n",
              "      <th></th>\n",
              "      <th>Complaint ID</th>\n",
              "      <th>Product</th>\n",
              "      <th>Sub-product</th>\n",
              "      <th>Issue</th>\n",
              "      <th>Sub-issue</th>\n",
              "      <th>State</th>\n",
              "      <th>ZIP code</th>\n",
              "      <th>Submitted via</th>\n",
              "      <th>Date received</th>\n",
              "      <th>Date sent to company</th>\n",
              "      <th>Company</th>\n",
              "      <th>Company response</th>\n",
              "      <th>Timely response?</th>\n",
              "      <th>Consumer disputed?</th>\n",
              "    </tr>\n",
              "  </thead>\n",
              "  <tbody>\n",
              "    <tr>\n",
              "      <th>0</th>\n",
              "      <td>1114245</td>\n",
              "      <td>Debt collection</td>\n",
              "      <td>Medical</td>\n",
              "      <td>Disclosure verification of debt</td>\n",
              "      <td>Not given enough info to verify debt</td>\n",
              "      <td>FL</td>\n",
              "      <td>32219.0</td>\n",
              "      <td>Web</td>\n",
              "      <td>11/13/2014</td>\n",
              "      <td>11/13/2014</td>\n",
              "      <td>Choice Recovery, Inc.</td>\n",
              "      <td>Closed with explanation</td>\n",
              "      <td>Yes</td>\n",
              "      <td>NaN</td>\n",
              "    </tr>\n",
              "    <tr>\n",
              "      <th>1</th>\n",
              "      <td>1114488</td>\n",
              "      <td>Debt collection</td>\n",
              "      <td>Medical</td>\n",
              "      <td>Disclosure verification of debt</td>\n",
              "      <td>Right to dispute notice not received</td>\n",
              "      <td>TX</td>\n",
              "      <td>75006.0</td>\n",
              "      <td>Web</td>\n",
              "      <td>11/13/2014</td>\n",
              "      <td>11/13/2014</td>\n",
              "      <td>Expert Global Solutions, Inc.</td>\n",
              "      <td>In progress</td>\n",
              "      <td>Yes</td>\n",
              "      <td>NaN</td>\n",
              "    </tr>\n",
              "    <tr>\n",
              "      <th>2</th>\n",
              "      <td>1114255</td>\n",
              "      <td>Bank account or service</td>\n",
              "      <td>Checking account</td>\n",
              "      <td>Deposits and withdrawals</td>\n",
              "      <td>NaN</td>\n",
              "      <td>NY</td>\n",
              "      <td>11102.0</td>\n",
              "      <td>Web</td>\n",
              "      <td>11/13/2014</td>\n",
              "      <td>11/13/2014</td>\n",
              "      <td>FNIS (Fidelity National Information Services, ...</td>\n",
              "      <td>In progress</td>\n",
              "      <td>Yes</td>\n",
              "      <td>NaN</td>\n",
              "    </tr>\n",
              "    <tr>\n",
              "      <th>3</th>\n",
              "      <td>1115106</td>\n",
              "      <td>Debt collection</td>\n",
              "      <td>Other (phone, health club, etc.)</td>\n",
              "      <td>Communication tactics</td>\n",
              "      <td>Frequent or repeated calls</td>\n",
              "      <td>GA</td>\n",
              "      <td>31721.0</td>\n",
              "      <td>Web</td>\n",
              "      <td>11/13/2014</td>\n",
              "      <td>11/13/2014</td>\n",
              "      <td>Expert Global Solutions, Inc.</td>\n",
              "      <td>In progress</td>\n",
              "      <td>Yes</td>\n",
              "      <td>NaN</td>\n",
              "    </tr>\n",
              "    <tr>\n",
              "      <th>4</th>\n",
              "      <td>1115890</td>\n",
              "      <td>Credit reporting</td>\n",
              "      <td>NaN</td>\n",
              "      <td>Incorrect information on credit report</td>\n",
              "      <td>Information is not mine</td>\n",
              "      <td>FL</td>\n",
              "      <td>33461.0</td>\n",
              "      <td>Web</td>\n",
              "      <td>11/12/2014</td>\n",
              "      <td>11/13/2014</td>\n",
              "      <td>TransUnion</td>\n",
              "      <td>In progress</td>\n",
              "      <td>Yes</td>\n",
              "      <td>NaN</td>\n",
              "    </tr>\n",
              "  </tbody>\n",
              "</table>\n",
              "</div>"
            ],
            "text/plain": [
              "   Complaint ID                  Product  ... Timely response? Consumer disputed?\n",
              "0       1114245          Debt collection  ...              Yes                NaN\n",
              "1       1114488          Debt collection  ...              Yes                NaN\n",
              "2       1114255  Bank account or service  ...              Yes                NaN\n",
              "3       1115106          Debt collection  ...              Yes                NaN\n",
              "4       1115890         Credit reporting  ...              Yes                NaN\n",
              "\n",
              "[5 rows x 14 columns]"
            ]
          },
          "metadata": {
            "tags": []
          },
          "execution_count": 22
        }
      ]
    },
    {
      "cell_type": "markdown",
      "metadata": {
        "id": "qCouyKuIf289",
        "colab_type": "text"
      },
      "source": [
        "5. Print out the data types for each column using the .dtypes attribute"
      ]
    },
    {
      "cell_type": "code",
      "metadata": {
        "id": "hM9cgvPzRVPG",
        "colab_type": "code",
        "outputId": "f829948e-5935-474d-80a8-685e65842c00",
        "colab": {
          "base_uri": "https://localhost:8080/",
          "height": 272
        }
      },
      "source": [
        "df.dtypes"
      ],
      "execution_count": 23,
      "outputs": [
        {
          "output_type": "execute_result",
          "data": {
            "text/plain": [
              "Complaint ID              int64\n",
              "Product                  object\n",
              "Sub-product              object\n",
              "Issue                    object\n",
              "Sub-issue                object\n",
              "State                    object\n",
              "ZIP code                float64\n",
              "Submitted via            object\n",
              "Date received            object\n",
              "Date sent to company     object\n",
              "Company                  object\n",
              "Company response         object\n",
              "Timely response?         object\n",
              "Consumer disputed?       object\n",
              "dtype: object"
            ]
          },
          "metadata": {
            "tags": []
          },
          "execution_count": 23
        }
      ]
    },
    {
      "cell_type": "markdown",
      "metadata": {
        "id": "o1EGoDCdf_Dd",
        "colab_type": "text"
      },
      "source": [
        "The columns 'Date received' and 'Date sent to company' haven't been recognised as datetime so we need to manually convert them."
      ]
    },
    {
      "cell_type": "markdown",
      "metadata": {
        "id": "LGdMMK8Ef8_j",
        "colab_type": "text"
      },
      "source": [
        "6. Convert the columns 'Date received' and 'Date sent to company' to datetime using the method pd.to_datetime()"
      ]
    },
    {
      "cell_type": "code",
      "metadata": {
        "id": "eVzF48N25VHN",
        "colab_type": "code",
        "colab": {}
      },
      "source": [
        "df['Date received'] = pd.to_datetime(df['Date received'])\n",
        "df['Date sent to company'] = pd.to_datetime(df['Date sent to company'])"
      ],
      "execution_count": 0,
      "outputs": []
    },
    {
      "cell_type": "markdown",
      "metadata": {
        "id": "Z3A-V2b4gZo6",
        "colab_type": "text"
      },
      "source": [
        "7. Print out the data types for each column using the .dtypes attribute"
      ]
    },
    {
      "cell_type": "code",
      "metadata": {
        "id": "cuCg7Fl35qY5",
        "colab_type": "code",
        "outputId": "43f9ed8b-a2a2-4b7a-9c36-3e3f073eaab4",
        "colab": {
          "base_uri": "https://localhost:8080/",
          "height": 272
        }
      },
      "source": [
        "df.dtypes"
      ],
      "execution_count": 25,
      "outputs": [
        {
          "output_type": "execute_result",
          "data": {
            "text/plain": [
              "Complaint ID                     int64\n",
              "Product                         object\n",
              "Sub-product                     object\n",
              "Issue                           object\n",
              "Sub-issue                       object\n",
              "State                           object\n",
              "ZIP code                       float64\n",
              "Submitted via                   object\n",
              "Date received           datetime64[ns]\n",
              "Date sent to company    datetime64[ns]\n",
              "Company                         object\n",
              "Company response                object\n",
              "Timely response?                object\n",
              "Consumer disputed?              object\n",
              "dtype: object"
            ]
          },
          "metadata": {
            "tags": []
          },
          "execution_count": 25
        }
      ]
    },
    {
      "cell_type": "markdown",
      "metadata": {
        "id": "ssYyk8rpgb9I",
        "colab_type": "text"
      },
      "source": [
        "Now these 2 columns have the right data types. Now let's create some new features from these 2 dates."
      ]
    },
    {
      "cell_type": "markdown",
      "metadata": {
        "id": "VqkCDLFrgorv",
        "colab_type": "text"
      },
      "source": [
        "8. Create a new column called 'YearReceived' that will contain the year of each date using the .dt.year attribute"
      ]
    },
    {
      "cell_type": "code",
      "metadata": {
        "id": "ncFHpgqP5r53",
        "colab_type": "code",
        "colab": {}
      },
      "source": [
        "df['YearReceived'] = df['Date received'].dt.year"
      ],
      "execution_count": 0,
      "outputs": []
    },
    {
      "cell_type": "markdown",
      "metadata": {
        "id": "9L2qBVxrg1hZ",
        "colab_type": "text"
      },
      "source": [
        "9. Create a new column called 'MonthReceived' that will contain the month of each date using the .dt.month attribute"
      ]
    },
    {
      "cell_type": "code",
      "metadata": {
        "id": "TLlkJRSh5r_4",
        "colab_type": "code",
        "colab": {}
      },
      "source": [
        "df['MonthReceived'] = df['Date received'].dt.month"
      ],
      "execution_count": 0,
      "outputs": []
    },
    {
      "cell_type": "markdown",
      "metadata": {
        "id": "KlEl5Rpog2ky",
        "colab_type": "text"
      },
      "source": [
        "10. Create a new column called 'DayReceived' that will contain the day of the month for each date using the .dt.day attribute"
      ]
    },
    {
      "cell_type": "code",
      "metadata": {
        "id": "qJT6m__I5VNZ",
        "colab_type": "code",
        "colab": {}
      },
      "source": [
        "df['DomReceived'] = df['Date received'].dt.day"
      ],
      "execution_count": 0,
      "outputs": []
    },
    {
      "cell_type": "markdown",
      "metadata": {
        "id": "bKigHU7Mg34v",
        "colab_type": "text"
      },
      "source": [
        "11. Create a new column called 'DowReceived' that will contain the day of the week for each date using the .dt.dayofweek attribute"
      ]
    },
    {
      "cell_type": "code",
      "metadata": {
        "id": "ZSUq-9-cRVZ1",
        "colab_type": "code",
        "colab": {}
      },
      "source": [
        "df['DowReceived'] = df['Date received'].dt.dayofweek"
      ],
      "execution_count": 0,
      "outputs": []
    },
    {
      "cell_type": "markdown",
      "metadata": {
        "id": "rH5k0ALohOQu",
        "colab_type": "text"
      },
      "source": [
        "12. Display the first 5 rows using the .head() method"
      ]
    },
    {
      "cell_type": "code",
      "metadata": {
        "id": "cW9rsR3K7tFG",
        "colab_type": "code",
        "outputId": "63b0e552-87e2-43a3-e2bf-f81c87118f6e",
        "colab": {
          "base_uri": "https://localhost:8080/",
          "height": 547
        }
      },
      "source": [
        "df.head()"
      ],
      "execution_count": 30,
      "outputs": [
        {
          "output_type": "execute_result",
          "data": {
            "text/html": [
              "<div>\n",
              "<style scoped>\n",
              "    .dataframe tbody tr th:only-of-type {\n",
              "        vertical-align: middle;\n",
              "    }\n",
              "\n",
              "    .dataframe tbody tr th {\n",
              "        vertical-align: top;\n",
              "    }\n",
              "\n",
              "    .dataframe thead th {\n",
              "        text-align: right;\n",
              "    }\n",
              "</style>\n",
              "<table border=\"1\" class=\"dataframe\">\n",
              "  <thead>\n",
              "    <tr style=\"text-align: right;\">\n",
              "      <th></th>\n",
              "      <th>Complaint ID</th>\n",
              "      <th>Product</th>\n",
              "      <th>Sub-product</th>\n",
              "      <th>Issue</th>\n",
              "      <th>Sub-issue</th>\n",
              "      <th>State</th>\n",
              "      <th>ZIP code</th>\n",
              "      <th>Submitted via</th>\n",
              "      <th>Date received</th>\n",
              "      <th>Date sent to company</th>\n",
              "      <th>Company</th>\n",
              "      <th>Company response</th>\n",
              "      <th>Timely response?</th>\n",
              "      <th>Consumer disputed?</th>\n",
              "      <th>YearReceived</th>\n",
              "      <th>MonthReceived</th>\n",
              "      <th>DomReceived</th>\n",
              "      <th>DowReceived</th>\n",
              "    </tr>\n",
              "  </thead>\n",
              "  <tbody>\n",
              "    <tr>\n",
              "      <th>0</th>\n",
              "      <td>1114245</td>\n",
              "      <td>Debt collection</td>\n",
              "      <td>Medical</td>\n",
              "      <td>Disclosure verification of debt</td>\n",
              "      <td>Not given enough info to verify debt</td>\n",
              "      <td>FL</td>\n",
              "      <td>32219.0</td>\n",
              "      <td>Web</td>\n",
              "      <td>2014-11-13</td>\n",
              "      <td>2014-11-13</td>\n",
              "      <td>Choice Recovery, Inc.</td>\n",
              "      <td>Closed with explanation</td>\n",
              "      <td>Yes</td>\n",
              "      <td>NaN</td>\n",
              "      <td>2014</td>\n",
              "      <td>11</td>\n",
              "      <td>13</td>\n",
              "      <td>3</td>\n",
              "    </tr>\n",
              "    <tr>\n",
              "      <th>1</th>\n",
              "      <td>1114488</td>\n",
              "      <td>Debt collection</td>\n",
              "      <td>Medical</td>\n",
              "      <td>Disclosure verification of debt</td>\n",
              "      <td>Right to dispute notice not received</td>\n",
              "      <td>TX</td>\n",
              "      <td>75006.0</td>\n",
              "      <td>Web</td>\n",
              "      <td>2014-11-13</td>\n",
              "      <td>2014-11-13</td>\n",
              "      <td>Expert Global Solutions, Inc.</td>\n",
              "      <td>In progress</td>\n",
              "      <td>Yes</td>\n",
              "      <td>NaN</td>\n",
              "      <td>2014</td>\n",
              "      <td>11</td>\n",
              "      <td>13</td>\n",
              "      <td>3</td>\n",
              "    </tr>\n",
              "    <tr>\n",
              "      <th>2</th>\n",
              "      <td>1114255</td>\n",
              "      <td>Bank account or service</td>\n",
              "      <td>Checking account</td>\n",
              "      <td>Deposits and withdrawals</td>\n",
              "      <td>NaN</td>\n",
              "      <td>NY</td>\n",
              "      <td>11102.0</td>\n",
              "      <td>Web</td>\n",
              "      <td>2014-11-13</td>\n",
              "      <td>2014-11-13</td>\n",
              "      <td>FNIS (Fidelity National Information Services, ...</td>\n",
              "      <td>In progress</td>\n",
              "      <td>Yes</td>\n",
              "      <td>NaN</td>\n",
              "      <td>2014</td>\n",
              "      <td>11</td>\n",
              "      <td>13</td>\n",
              "      <td>3</td>\n",
              "    </tr>\n",
              "    <tr>\n",
              "      <th>3</th>\n",
              "      <td>1115106</td>\n",
              "      <td>Debt collection</td>\n",
              "      <td>Other (phone, health club, etc.)</td>\n",
              "      <td>Communication tactics</td>\n",
              "      <td>Frequent or repeated calls</td>\n",
              "      <td>GA</td>\n",
              "      <td>31721.0</td>\n",
              "      <td>Web</td>\n",
              "      <td>2014-11-13</td>\n",
              "      <td>2014-11-13</td>\n",
              "      <td>Expert Global Solutions, Inc.</td>\n",
              "      <td>In progress</td>\n",
              "      <td>Yes</td>\n",
              "      <td>NaN</td>\n",
              "      <td>2014</td>\n",
              "      <td>11</td>\n",
              "      <td>13</td>\n",
              "      <td>3</td>\n",
              "    </tr>\n",
              "    <tr>\n",
              "      <th>4</th>\n",
              "      <td>1115890</td>\n",
              "      <td>Credit reporting</td>\n",
              "      <td>NaN</td>\n",
              "      <td>Incorrect information on credit report</td>\n",
              "      <td>Information is not mine</td>\n",
              "      <td>FL</td>\n",
              "      <td>33461.0</td>\n",
              "      <td>Web</td>\n",
              "      <td>2014-11-12</td>\n",
              "      <td>2014-11-13</td>\n",
              "      <td>TransUnion</td>\n",
              "      <td>In progress</td>\n",
              "      <td>Yes</td>\n",
              "      <td>NaN</td>\n",
              "      <td>2014</td>\n",
              "      <td>11</td>\n",
              "      <td>12</td>\n",
              "      <td>2</td>\n",
              "    </tr>\n",
              "  </tbody>\n",
              "</table>\n",
              "</div>"
            ],
            "text/plain": [
              "   Complaint ID                  Product  ... DomReceived DowReceived\n",
              "0       1114245          Debt collection  ...          13           3\n",
              "1       1114488          Debt collection  ...          13           3\n",
              "2       1114255  Bank account or service  ...          13           3\n",
              "3       1115106          Debt collection  ...          13           3\n",
              "4       1115890         Credit reporting  ...          12           2\n",
              "\n",
              "[5 rows x 18 columns]"
            ]
          },
          "metadata": {
            "tags": []
          },
          "execution_count": 30
        }
      ]
    },
    {
      "cell_type": "markdown",
      "metadata": {
        "id": "3r_O-RLzhP6v",
        "colab_type": "text"
      },
      "source": [
        "We can see we have successfully created the 4 new features: YearReceived,\tMonthReceived, DayReceived and DowReceived. Now let's create another that will indicate if the date was during weekend or not."
      ]
    },
    {
      "cell_type": "markdown",
      "metadata": {
        "id": "hgFEabYghlq_",
        "colab_type": "text"
      },
      "source": [
        "13. Create a new column called 'IsWeekendReceived' that will contain binary values indicating if the column 'DowReceived' is over or equal to 5 (0 corresponds to Monday, 5 and 6 corresponds respectively to Saturday and Sunday)"
      ]
    },
    {
      "cell_type": "code",
      "metadata": {
        "id": "Vw31m8n77cGi",
        "colab_type": "code",
        "colab": {}
      },
      "source": [
        "df['IsWeekendReceived'] = df['DowReceived'] >= 5"
      ],
      "execution_count": 0,
      "outputs": []
    },
    {
      "cell_type": "markdown",
      "metadata": {
        "id": "4LQBc3v1h_KX",
        "colab_type": "text"
      },
      "source": [
        "14. Display the first 5 rows using the .head() method"
      ]
    },
    {
      "cell_type": "code",
      "metadata": {
        "id": "bwnjNCRK7WLW",
        "colab_type": "code",
        "outputId": "dc3ffb95-904e-4dfd-a711-8e2aa64c1e2b",
        "colab": {
          "base_uri": "https://localhost:8080/",
          "height": 547
        }
      },
      "source": [
        "df.head()"
      ],
      "execution_count": 32,
      "outputs": [
        {
          "output_type": "execute_result",
          "data": {
            "text/html": [
              "<div>\n",
              "<style scoped>\n",
              "    .dataframe tbody tr th:only-of-type {\n",
              "        vertical-align: middle;\n",
              "    }\n",
              "\n",
              "    .dataframe tbody tr th {\n",
              "        vertical-align: top;\n",
              "    }\n",
              "\n",
              "    .dataframe thead th {\n",
              "        text-align: right;\n",
              "    }\n",
              "</style>\n",
              "<table border=\"1\" class=\"dataframe\">\n",
              "  <thead>\n",
              "    <tr style=\"text-align: right;\">\n",
              "      <th></th>\n",
              "      <th>Complaint ID</th>\n",
              "      <th>Product</th>\n",
              "      <th>Sub-product</th>\n",
              "      <th>Issue</th>\n",
              "      <th>Sub-issue</th>\n",
              "      <th>State</th>\n",
              "      <th>ZIP code</th>\n",
              "      <th>Submitted via</th>\n",
              "      <th>Date received</th>\n",
              "      <th>Date sent to company</th>\n",
              "      <th>Company</th>\n",
              "      <th>Company response</th>\n",
              "      <th>Timely response?</th>\n",
              "      <th>Consumer disputed?</th>\n",
              "      <th>YearReceived</th>\n",
              "      <th>MonthReceived</th>\n",
              "      <th>DomReceived</th>\n",
              "      <th>DowReceived</th>\n",
              "      <th>IsWeekendReceived</th>\n",
              "    </tr>\n",
              "  </thead>\n",
              "  <tbody>\n",
              "    <tr>\n",
              "      <th>0</th>\n",
              "      <td>1114245</td>\n",
              "      <td>Debt collection</td>\n",
              "      <td>Medical</td>\n",
              "      <td>Disclosure verification of debt</td>\n",
              "      <td>Not given enough info to verify debt</td>\n",
              "      <td>FL</td>\n",
              "      <td>32219.0</td>\n",
              "      <td>Web</td>\n",
              "      <td>2014-11-13</td>\n",
              "      <td>2014-11-13</td>\n",
              "      <td>Choice Recovery, Inc.</td>\n",
              "      <td>Closed with explanation</td>\n",
              "      <td>Yes</td>\n",
              "      <td>NaN</td>\n",
              "      <td>2014</td>\n",
              "      <td>11</td>\n",
              "      <td>13</td>\n",
              "      <td>3</td>\n",
              "      <td>False</td>\n",
              "    </tr>\n",
              "    <tr>\n",
              "      <th>1</th>\n",
              "      <td>1114488</td>\n",
              "      <td>Debt collection</td>\n",
              "      <td>Medical</td>\n",
              "      <td>Disclosure verification of debt</td>\n",
              "      <td>Right to dispute notice not received</td>\n",
              "      <td>TX</td>\n",
              "      <td>75006.0</td>\n",
              "      <td>Web</td>\n",
              "      <td>2014-11-13</td>\n",
              "      <td>2014-11-13</td>\n",
              "      <td>Expert Global Solutions, Inc.</td>\n",
              "      <td>In progress</td>\n",
              "      <td>Yes</td>\n",
              "      <td>NaN</td>\n",
              "      <td>2014</td>\n",
              "      <td>11</td>\n",
              "      <td>13</td>\n",
              "      <td>3</td>\n",
              "      <td>False</td>\n",
              "    </tr>\n",
              "    <tr>\n",
              "      <th>2</th>\n",
              "      <td>1114255</td>\n",
              "      <td>Bank account or service</td>\n",
              "      <td>Checking account</td>\n",
              "      <td>Deposits and withdrawals</td>\n",
              "      <td>NaN</td>\n",
              "      <td>NY</td>\n",
              "      <td>11102.0</td>\n",
              "      <td>Web</td>\n",
              "      <td>2014-11-13</td>\n",
              "      <td>2014-11-13</td>\n",
              "      <td>FNIS (Fidelity National Information Services, ...</td>\n",
              "      <td>In progress</td>\n",
              "      <td>Yes</td>\n",
              "      <td>NaN</td>\n",
              "      <td>2014</td>\n",
              "      <td>11</td>\n",
              "      <td>13</td>\n",
              "      <td>3</td>\n",
              "      <td>False</td>\n",
              "    </tr>\n",
              "    <tr>\n",
              "      <th>3</th>\n",
              "      <td>1115106</td>\n",
              "      <td>Debt collection</td>\n",
              "      <td>Other (phone, health club, etc.)</td>\n",
              "      <td>Communication tactics</td>\n",
              "      <td>Frequent or repeated calls</td>\n",
              "      <td>GA</td>\n",
              "      <td>31721.0</td>\n",
              "      <td>Web</td>\n",
              "      <td>2014-11-13</td>\n",
              "      <td>2014-11-13</td>\n",
              "      <td>Expert Global Solutions, Inc.</td>\n",
              "      <td>In progress</td>\n",
              "      <td>Yes</td>\n",
              "      <td>NaN</td>\n",
              "      <td>2014</td>\n",
              "      <td>11</td>\n",
              "      <td>13</td>\n",
              "      <td>3</td>\n",
              "      <td>False</td>\n",
              "    </tr>\n",
              "    <tr>\n",
              "      <th>4</th>\n",
              "      <td>1115890</td>\n",
              "      <td>Credit reporting</td>\n",
              "      <td>NaN</td>\n",
              "      <td>Incorrect information on credit report</td>\n",
              "      <td>Information is not mine</td>\n",
              "      <td>FL</td>\n",
              "      <td>33461.0</td>\n",
              "      <td>Web</td>\n",
              "      <td>2014-11-12</td>\n",
              "      <td>2014-11-13</td>\n",
              "      <td>TransUnion</td>\n",
              "      <td>In progress</td>\n",
              "      <td>Yes</td>\n",
              "      <td>NaN</td>\n",
              "      <td>2014</td>\n",
              "      <td>11</td>\n",
              "      <td>12</td>\n",
              "      <td>2</td>\n",
              "      <td>False</td>\n",
              "    </tr>\n",
              "  </tbody>\n",
              "</table>\n",
              "</div>"
            ],
            "text/plain": [
              "   Complaint ID                  Product  ... DowReceived IsWeekendReceived\n",
              "0       1114245          Debt collection  ...           3             False\n",
              "1       1114488          Debt collection  ...           3             False\n",
              "2       1114255  Bank account or service  ...           3             False\n",
              "3       1115106          Debt collection  ...           3             False\n",
              "4       1115890         Credit reporting  ...           2             False\n",
              "\n",
              "[5 rows x 19 columns]"
            ]
          },
          "metadata": {
            "tags": []
          },
          "execution_count": 32
        }
      ]
    },
    {
      "cell_type": "markdown",
      "metadata": {
        "id": "mbwULgpwiCyW",
        "colab_type": "text"
      },
      "source": [
        "We have created a new feature stating if each complaint was received during weekend or not. Now we are to feature engineer a new column with the numbers of days between 'Date sent to company' and 'Date received\t'"
      ]
    },
    {
      "cell_type": "markdown",
      "metadata": {
        "id": "yc0OCX8Xic1f",
        "colab_type": "text"
      },
      "source": [
        "15. Create a new column called 'RoutingDays' that will contain the difference between 'Date sent to company' and 'Date received '"
      ]
    },
    {
      "cell_type": "code",
      "metadata": {
        "id": "L4rg5BlH7yuF",
        "colab_type": "code",
        "colab": {}
      },
      "source": [
        "df['RoutingDays'] = df['Date sent to company'] - df['Date received']"
      ],
      "execution_count": 0,
      "outputs": []
    },
    {
      "cell_type": "markdown",
      "metadata": {
        "id": "feOA0NCFimgY",
        "colab_type": "text"
      },
      "source": [
        "16. Print out the data type of the new column 'RoutingDays' using the attribute .dtype"
      ]
    },
    {
      "cell_type": "code",
      "metadata": {
        "id": "6A_aUaHG9M7h",
        "colab_type": "code",
        "outputId": "16e57f0a-e428-4eb5-9ed9-86a804ffa517",
        "colab": {
          "base_uri": "https://localhost:8080/",
          "height": 34
        }
      },
      "source": [
        "df['RoutingDays'].dtype"
      ],
      "execution_count": 34,
      "outputs": [
        {
          "output_type": "execute_result",
          "data": {
            "text/plain": [
              "dtype('<m8[ns]')"
            ]
          },
          "metadata": {
            "tags": []
          },
          "execution_count": 34
        }
      ]
    },
    {
      "cell_type": "markdown",
      "metadata": {
        "id": "ic5hpGzKityT",
        "colab_type": "text"
      },
      "source": [
        "The results of substracting 2 datetime columns is a new column of type timedelta (duration). We need to convert into an int to get the number of days between these 2 days."
      ]
    },
    {
      "cell_type": "markdown",
      "metadata": {
        "id": "h5ufu43Tit5j",
        "colab_type": "text"
      },
      "source": [
        "17. Transform the column 'RoutingDays' using the .dt.days attribute"
      ]
    },
    {
      "cell_type": "code",
      "metadata": {
        "id": "zIkuLI1o8YNx",
        "colab_type": "code",
        "colab": {}
      },
      "source": [
        "df['RoutingDays'] = df['RoutingDays'].dt.days"
      ],
      "execution_count": 0,
      "outputs": []
    },
    {
      "cell_type": "markdown",
      "metadata": {
        "id": "fMGnbYPfkK3Y",
        "colab_type": "text"
      },
      "source": [
        "18. Display the first 5 rows using the .head() method"
      ]
    },
    {
      "cell_type": "code",
      "metadata": {
        "id": "M_cyl9349U6j",
        "colab_type": "code",
        "outputId": "b3ef6e48-4006-45c1-ead4-a4ec386be002",
        "colab": {
          "base_uri": "https://localhost:8080/",
          "height": 547
        }
      },
      "source": [
        "df.head()\n"
      ],
      "execution_count": 36,
      "outputs": [
        {
          "output_type": "execute_result",
          "data": {
            "text/html": [
              "<div>\n",
              "<style scoped>\n",
              "    .dataframe tbody tr th:only-of-type {\n",
              "        vertical-align: middle;\n",
              "    }\n",
              "\n",
              "    .dataframe tbody tr th {\n",
              "        vertical-align: top;\n",
              "    }\n",
              "\n",
              "    .dataframe thead th {\n",
              "        text-align: right;\n",
              "    }\n",
              "</style>\n",
              "<table border=\"1\" class=\"dataframe\">\n",
              "  <thead>\n",
              "    <tr style=\"text-align: right;\">\n",
              "      <th></th>\n",
              "      <th>Complaint ID</th>\n",
              "      <th>Product</th>\n",
              "      <th>Sub-product</th>\n",
              "      <th>Issue</th>\n",
              "      <th>Sub-issue</th>\n",
              "      <th>State</th>\n",
              "      <th>ZIP code</th>\n",
              "      <th>Submitted via</th>\n",
              "      <th>Date received</th>\n",
              "      <th>Date sent to company</th>\n",
              "      <th>Company</th>\n",
              "      <th>Company response</th>\n",
              "      <th>Timely response?</th>\n",
              "      <th>Consumer disputed?</th>\n",
              "      <th>YearReceived</th>\n",
              "      <th>MonthReceived</th>\n",
              "      <th>DomReceived</th>\n",
              "      <th>DowReceived</th>\n",
              "      <th>IsWeekendReceived</th>\n",
              "      <th>RoutingDays</th>\n",
              "    </tr>\n",
              "  </thead>\n",
              "  <tbody>\n",
              "    <tr>\n",
              "      <th>0</th>\n",
              "      <td>1114245</td>\n",
              "      <td>Debt collection</td>\n",
              "      <td>Medical</td>\n",
              "      <td>Disclosure verification of debt</td>\n",
              "      <td>Not given enough info to verify debt</td>\n",
              "      <td>FL</td>\n",
              "      <td>32219.0</td>\n",
              "      <td>Web</td>\n",
              "      <td>2014-11-13</td>\n",
              "      <td>2014-11-13</td>\n",
              "      <td>Choice Recovery, Inc.</td>\n",
              "      <td>Closed with explanation</td>\n",
              "      <td>Yes</td>\n",
              "      <td>NaN</td>\n",
              "      <td>2014</td>\n",
              "      <td>11</td>\n",
              "      <td>13</td>\n",
              "      <td>3</td>\n",
              "      <td>False</td>\n",
              "      <td>0</td>\n",
              "    </tr>\n",
              "    <tr>\n",
              "      <th>1</th>\n",
              "      <td>1114488</td>\n",
              "      <td>Debt collection</td>\n",
              "      <td>Medical</td>\n",
              "      <td>Disclosure verification of debt</td>\n",
              "      <td>Right to dispute notice not received</td>\n",
              "      <td>TX</td>\n",
              "      <td>75006.0</td>\n",
              "      <td>Web</td>\n",
              "      <td>2014-11-13</td>\n",
              "      <td>2014-11-13</td>\n",
              "      <td>Expert Global Solutions, Inc.</td>\n",
              "      <td>In progress</td>\n",
              "      <td>Yes</td>\n",
              "      <td>NaN</td>\n",
              "      <td>2014</td>\n",
              "      <td>11</td>\n",
              "      <td>13</td>\n",
              "      <td>3</td>\n",
              "      <td>False</td>\n",
              "      <td>0</td>\n",
              "    </tr>\n",
              "    <tr>\n",
              "      <th>2</th>\n",
              "      <td>1114255</td>\n",
              "      <td>Bank account or service</td>\n",
              "      <td>Checking account</td>\n",
              "      <td>Deposits and withdrawals</td>\n",
              "      <td>NaN</td>\n",
              "      <td>NY</td>\n",
              "      <td>11102.0</td>\n",
              "      <td>Web</td>\n",
              "      <td>2014-11-13</td>\n",
              "      <td>2014-11-13</td>\n",
              "      <td>FNIS (Fidelity National Information Services, ...</td>\n",
              "      <td>In progress</td>\n",
              "      <td>Yes</td>\n",
              "      <td>NaN</td>\n",
              "      <td>2014</td>\n",
              "      <td>11</td>\n",
              "      <td>13</td>\n",
              "      <td>3</td>\n",
              "      <td>False</td>\n",
              "      <td>0</td>\n",
              "    </tr>\n",
              "    <tr>\n",
              "      <th>3</th>\n",
              "      <td>1115106</td>\n",
              "      <td>Debt collection</td>\n",
              "      <td>Other (phone, health club, etc.)</td>\n",
              "      <td>Communication tactics</td>\n",
              "      <td>Frequent or repeated calls</td>\n",
              "      <td>GA</td>\n",
              "      <td>31721.0</td>\n",
              "      <td>Web</td>\n",
              "      <td>2014-11-13</td>\n",
              "      <td>2014-11-13</td>\n",
              "      <td>Expert Global Solutions, Inc.</td>\n",
              "      <td>In progress</td>\n",
              "      <td>Yes</td>\n",
              "      <td>NaN</td>\n",
              "      <td>2014</td>\n",
              "      <td>11</td>\n",
              "      <td>13</td>\n",
              "      <td>3</td>\n",
              "      <td>False</td>\n",
              "      <td>0</td>\n",
              "    </tr>\n",
              "    <tr>\n",
              "      <th>4</th>\n",
              "      <td>1115890</td>\n",
              "      <td>Credit reporting</td>\n",
              "      <td>NaN</td>\n",
              "      <td>Incorrect information on credit report</td>\n",
              "      <td>Information is not mine</td>\n",
              "      <td>FL</td>\n",
              "      <td>33461.0</td>\n",
              "      <td>Web</td>\n",
              "      <td>2014-11-12</td>\n",
              "      <td>2014-11-13</td>\n",
              "      <td>TransUnion</td>\n",
              "      <td>In progress</td>\n",
              "      <td>Yes</td>\n",
              "      <td>NaN</td>\n",
              "      <td>2014</td>\n",
              "      <td>11</td>\n",
              "      <td>12</td>\n",
              "      <td>2</td>\n",
              "      <td>False</td>\n",
              "      <td>1</td>\n",
              "    </tr>\n",
              "  </tbody>\n",
              "</table>\n",
              "</div>"
            ],
            "text/plain": [
              "   Complaint ID                  Product  ... IsWeekendReceived RoutingDays\n",
              "0       1114245          Debt collection  ...             False           0\n",
              "1       1114488          Debt collection  ...             False           0\n",
              "2       1114255  Bank account or service  ...             False           0\n",
              "3       1115106          Debt collection  ...             False           0\n",
              "4       1115890         Credit reporting  ...             False           1\n",
              "\n",
              "[5 rows x 20 columns]"
            ]
          },
          "metadata": {
            "tags": []
          },
          "execution_count": 36
        }
      ]
    },
    {
      "cell_type": "markdown",
      "metadata": {
        "id": "_-yGDjckRbwV",
        "colab_type": "text"
      },
      "source": [
        "Congratulations! In this exercise, you put in practise the different techniques to feature engineer new variables from datatime columns from a real-world dataset. From the 2 columns  'Date sent to company' and 'Date received', you successfully created 6 new features."
      ]
    }
  ]
}