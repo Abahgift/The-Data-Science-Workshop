{
  "nbformat": 4,
  "nbformat_minor": 0,
  "metadata": {
    "colab": {
      "name": "Activity12.01.ipynb",
      "provenance": [],
      "collapsed_sections": []
    },
    "kernelspec": {
      "name": "python3",
      "display_name": "Python 3"
    }
  },
  "cells": [
    {
      "cell_type": "markdown",
      "metadata": {
        "id": "37vrnAFPW6_C",
        "colab_type": "text"
      },
      "source": [
        "#Activity 12.01: Feature Engineering on Financial Dataset\n",
        "\n",
        "You are working for a major bank in Czech Republic and you have tasked to analyse the transactions of existing customers. The data team have extracted all the tables from their database they think will be useful for you. You will need to consolidate the data from these tables into a single DataFrame and create new features before analysing customer's behaviors. \n",
        "\n",
        "You will be using only the following 4 tables: trans, disp, account and client.\n",
        "\n",
        "The following steps will help you complete this activity:\n",
        "- Download and load the different tables from this dataset into Python\n",
        "- Merge the tables together\n",
        "- Check results after merging\n",
        "- Transform data type for date columns\n",
        "- Fix data quality issue\n",
        "- Create new feature using date operations\n",
        "\n",
        "The dataset was originally shared by Berka, Petr for the Discovery Challenge PKDD'99:\n",
        "https://relational.fit.cvut.cz/dataset/Financial\n",
        "\n",
        "The CSV version can be found here:\n",
        "https://data.world/lpetrocelli/czech-financial-dataset-real-anonymized-transactions\n"
      ]
    },
    {
      "cell_type": "markdown",
      "metadata": {
        "id": "2Ox-pHUPX78-",
        "colab_type": "text"
      },
      "source": [
        "1. Open on a new Colab notebook and import the pandas package"
      ]
    },
    {
      "cell_type": "code",
      "metadata": {
        "id": "HEiOAwQPW0qb",
        "colab_type": "code",
        "colab": {}
      },
      "source": [
        "import pandas as pd"
      ],
      "execution_count": 0,
      "outputs": []
    },
    {
      "cell_type": "markdown",
      "metadata": {
        "id": "C6NbwMIwX_84",
        "colab_type": "text"
      },
      "source": [
        "2. Assign the links to the disp, trans, account and client tables from the Financial dataset to 4 new variables respectively called 'disp_url', 'trans_url', 'account_url' and 'client_url'"
      ]
    },
    {
      "cell_type": "code",
      "metadata": {
        "id": "j7whidfaYjns",
        "colab_type": "code",
        "colab": {}
      },
      "source": [
        "disp_url = 'https://raw.githubusercontent.com/PacktWorkshops/The-Data-Science-Workshop/master/Chapter12/Dataset/disp.csv'\n",
        "trans_url = 'https://raw.githubusercontent.com/PacktWorkshops/The-Data-Science-Workshop/master/Chapter12/Dataset/trans.csv'\n",
        "account_url = 'https://raw.githubusercontent.com/PacktWorkshops/The-Data-Science-Workshop/master/Chapter12/Dataset/account.csv'\n",
        "client_url = 'https://raw.githubusercontent.com/PacktWorkshops/The-Data-Science-Workshop/master/Chapter12/Dataset/client.csv'"
      ],
      "execution_count": 0,
      "outputs": []
    },
    {
      "cell_type": "markdown",
      "metadata": {
        "id": "VzoH_wvLuD0p",
        "colab_type": "text"
      },
      "source": [
        "3. Using the read_csv method from the package pandas, load the 4 tables into 4 new variable called 'df_disp', 'df_trans', 'df_account' and 'df_client'. Specify the parameter sep=';' as this file is not separated by comma but semi-columns"
      ]
    },
    {
      "cell_type": "code",
      "metadata": {
        "id": "nFMz2jNVt-xy",
        "colab_type": "code",
        "outputId": "3ecf4937-53f6-4696-afca-92abaeca5494",
        "colab": {
          "base_uri": "https://localhost:8080/",
          "height": 71
        }
      },
      "source": [
        "df_disp = pd.read_csv(disp_url, sep=';')\n",
        "df_trans = pd.read_csv(trans_url, sep=';')\n",
        "df_account = pd.read_csv(account_url, sep=';')\n",
        "df_client = pd.read_csv(client_url, sep=';')"
      ],
      "execution_count": 3,
      "outputs": [
        {
          "output_type": "stream",
          "text": [
            "/usr/local/lib/python3.6/dist-packages/IPython/core/interactiveshell.py:2718: DtypeWarning: Columns (8) have mixed types. Specify dtype option on import or set low_memory=False.\n",
            "  interactivity=interactivity, compiler=compiler, result=result)\n"
          ],
          "name": "stderr"
        }
      ]
    },
    {
      "cell_type": "markdown",
      "metadata": {
        "id": "HncDmV-G2M2G",
        "colab_type": "text"
      },
      "source": [
        "4. Print the first 5 rows of df_trans using the method .head():"
      ]
    },
    {
      "cell_type": "code",
      "metadata": {
        "id": "xAqQ7rpV0nkT",
        "colab_type": "code",
        "outputId": "79206cd0-bfc4-4538-8054-438269de7a8f",
        "colab": {
          "base_uri": "https://localhost:8080/",
          "height": 204
        }
      },
      "source": [
        "df_trans.head()"
      ],
      "execution_count": 4,
      "outputs": [
        {
          "output_type": "execute_result",
          "data": {
            "text/html": [
              "<div>\n",
              "<style scoped>\n",
              "    .dataframe tbody tr th:only-of-type {\n",
              "        vertical-align: middle;\n",
              "    }\n",
              "\n",
              "    .dataframe tbody tr th {\n",
              "        vertical-align: top;\n",
              "    }\n",
              "\n",
              "    .dataframe thead th {\n",
              "        text-align: right;\n",
              "    }\n",
              "</style>\n",
              "<table border=\"1\" class=\"dataframe\">\n",
              "  <thead>\n",
              "    <tr style=\"text-align: right;\">\n",
              "      <th></th>\n",
              "      <th>trans_id</th>\n",
              "      <th>account_id</th>\n",
              "      <th>date</th>\n",
              "      <th>type</th>\n",
              "      <th>operation</th>\n",
              "      <th>amount</th>\n",
              "      <th>balance</th>\n",
              "      <th>k_symbol</th>\n",
              "      <th>bank</th>\n",
              "      <th>account</th>\n",
              "    </tr>\n",
              "  </thead>\n",
              "  <tbody>\n",
              "    <tr>\n",
              "      <th>0</th>\n",
              "      <td>695247</td>\n",
              "      <td>2378</td>\n",
              "      <td>930101</td>\n",
              "      <td>PRIJEM</td>\n",
              "      <td>VKLAD</td>\n",
              "      <td>700.0</td>\n",
              "      <td>700.0</td>\n",
              "      <td>NaN</td>\n",
              "      <td>NaN</td>\n",
              "      <td>NaN</td>\n",
              "    </tr>\n",
              "    <tr>\n",
              "      <th>1</th>\n",
              "      <td>171812</td>\n",
              "      <td>576</td>\n",
              "      <td>930101</td>\n",
              "      <td>PRIJEM</td>\n",
              "      <td>VKLAD</td>\n",
              "      <td>900.0</td>\n",
              "      <td>900.0</td>\n",
              "      <td>NaN</td>\n",
              "      <td>NaN</td>\n",
              "      <td>NaN</td>\n",
              "    </tr>\n",
              "    <tr>\n",
              "      <th>2</th>\n",
              "      <td>207264</td>\n",
              "      <td>704</td>\n",
              "      <td>930101</td>\n",
              "      <td>PRIJEM</td>\n",
              "      <td>VKLAD</td>\n",
              "      <td>1000.0</td>\n",
              "      <td>1000.0</td>\n",
              "      <td>NaN</td>\n",
              "      <td>NaN</td>\n",
              "      <td>NaN</td>\n",
              "    </tr>\n",
              "    <tr>\n",
              "      <th>3</th>\n",
              "      <td>1117247</td>\n",
              "      <td>3818</td>\n",
              "      <td>930101</td>\n",
              "      <td>PRIJEM</td>\n",
              "      <td>VKLAD</td>\n",
              "      <td>600.0</td>\n",
              "      <td>600.0</td>\n",
              "      <td>NaN</td>\n",
              "      <td>NaN</td>\n",
              "      <td>NaN</td>\n",
              "    </tr>\n",
              "    <tr>\n",
              "      <th>4</th>\n",
              "      <td>579373</td>\n",
              "      <td>1972</td>\n",
              "      <td>930102</td>\n",
              "      <td>PRIJEM</td>\n",
              "      <td>VKLAD</td>\n",
              "      <td>400.0</td>\n",
              "      <td>400.0</td>\n",
              "      <td>NaN</td>\n",
              "      <td>NaN</td>\n",
              "      <td>NaN</td>\n",
              "    </tr>\n",
              "  </tbody>\n",
              "</table>\n",
              "</div>"
            ],
            "text/plain": [
              "   trans_id  account_id    date    type  ... balance  k_symbol  bank account\n",
              "0    695247        2378  930101  PRIJEM  ...   700.0       NaN   NaN     NaN\n",
              "1    171812         576  930101  PRIJEM  ...   900.0       NaN   NaN     NaN\n",
              "2    207264         704  930101  PRIJEM  ...  1000.0       NaN   NaN     NaN\n",
              "3   1117247        3818  930101  PRIJEM  ...   600.0       NaN   NaN     NaN\n",
              "4    579373        1972  930102  PRIJEM  ...   400.0       NaN   NaN     NaN\n",
              "\n",
              "[5 rows x 10 columns]"
            ]
          },
          "metadata": {
            "tags": []
          },
          "execution_count": 4
        }
      ]
    },
    {
      "cell_type": "markdown",
      "metadata": {
        "id": "DOrI6DC22TYt",
        "colab_type": "text"
      },
      "source": [
        "5. Print the shape of df_trans using the attribute .shape:"
      ]
    },
    {
      "cell_type": "code",
      "metadata": {
        "id": "zybRLGrd2bPf",
        "colab_type": "code",
        "outputId": "52a4f8d3-947d-496a-e6ed-678131d196bf",
        "colab": {
          "base_uri": "https://localhost:8080/",
          "height": 34
        }
      },
      "source": [
        "df_trans.shape"
      ],
      "execution_count": 5,
      "outputs": [
        {
          "output_type": "execute_result",
          "data": {
            "text/plain": [
              "(1056320, 10)"
            ]
          },
          "metadata": {
            "tags": []
          },
          "execution_count": 5
        }
      ]
    },
    {
      "cell_type": "markdown",
      "metadata": {
        "id": "aB7C7yTp2KSP",
        "colab_type": "text"
      },
      "source": [
        "6. Print the first 5 rows of df_account using the method .head():"
      ]
    },
    {
      "cell_type": "code",
      "metadata": {
        "id": "IvvSvYl42Koi",
        "colab_type": "code",
        "outputId": "22e83476-40a8-4300-f712-29a4eab7f356",
        "colab": {
          "base_uri": "https://localhost:8080/",
          "height": 204
        }
      },
      "source": [
        "df_account.head()"
      ],
      "execution_count": 6,
      "outputs": [
        {
          "output_type": "execute_result",
          "data": {
            "text/html": [
              "<div>\n",
              "<style scoped>\n",
              "    .dataframe tbody tr th:only-of-type {\n",
              "        vertical-align: middle;\n",
              "    }\n",
              "\n",
              "    .dataframe tbody tr th {\n",
              "        vertical-align: top;\n",
              "    }\n",
              "\n",
              "    .dataframe thead th {\n",
              "        text-align: right;\n",
              "    }\n",
              "</style>\n",
              "<table border=\"1\" class=\"dataframe\">\n",
              "  <thead>\n",
              "    <tr style=\"text-align: right;\">\n",
              "      <th></th>\n",
              "      <th>account_id</th>\n",
              "      <th>district_id</th>\n",
              "      <th>frequency</th>\n",
              "      <th>date</th>\n",
              "    </tr>\n",
              "  </thead>\n",
              "  <tbody>\n",
              "    <tr>\n",
              "      <th>0</th>\n",
              "      <td>576</td>\n",
              "      <td>55</td>\n",
              "      <td>POPLATEK MESICNE</td>\n",
              "      <td>930101</td>\n",
              "    </tr>\n",
              "    <tr>\n",
              "      <th>1</th>\n",
              "      <td>3818</td>\n",
              "      <td>74</td>\n",
              "      <td>POPLATEK MESICNE</td>\n",
              "      <td>930101</td>\n",
              "    </tr>\n",
              "    <tr>\n",
              "      <th>2</th>\n",
              "      <td>704</td>\n",
              "      <td>55</td>\n",
              "      <td>POPLATEK MESICNE</td>\n",
              "      <td>930101</td>\n",
              "    </tr>\n",
              "    <tr>\n",
              "      <th>3</th>\n",
              "      <td>2378</td>\n",
              "      <td>16</td>\n",
              "      <td>POPLATEK MESICNE</td>\n",
              "      <td>930101</td>\n",
              "    </tr>\n",
              "    <tr>\n",
              "      <th>4</th>\n",
              "      <td>2632</td>\n",
              "      <td>24</td>\n",
              "      <td>POPLATEK MESICNE</td>\n",
              "      <td>930102</td>\n",
              "    </tr>\n",
              "  </tbody>\n",
              "</table>\n",
              "</div>"
            ],
            "text/plain": [
              "   account_id  district_id         frequency    date\n",
              "0         576           55  POPLATEK MESICNE  930101\n",
              "1        3818           74  POPLATEK MESICNE  930101\n",
              "2         704           55  POPLATEK MESICNE  930101\n",
              "3        2378           16  POPLATEK MESICNE  930101\n",
              "4        2632           24  POPLATEK MESICNE  930102"
            ]
          },
          "metadata": {
            "tags": []
          },
          "execution_count": 6
        }
      ]
    },
    {
      "cell_type": "markdown",
      "metadata": {
        "id": "ZjphVDTmdvf4",
        "colab_type": "text"
      },
      "source": [
        "7. Merge df_trans and df_account together using left join on the column 'account_id' and save the new DataFrame called 'df_trans_acc'"
      ]
    },
    {
      "cell_type": "code",
      "metadata": {
        "id": "Fk2bTvEp17Bp",
        "colab_type": "code",
        "colab": {}
      },
      "source": [
        "df_trans_acc = pd.merge(df_trans, df_account, how='left', on='account_id')"
      ],
      "execution_count": 0,
      "outputs": []
    },
    {
      "cell_type": "markdown",
      "metadata": {
        "id": "DllbS1YOd8dT",
        "colab_type": "text"
      },
      "source": [
        "8. Print the shape of 'df_trans_acc'"
      ]
    },
    {
      "cell_type": "code",
      "metadata": {
        "id": "9BN6zHeL2lOx",
        "colab_type": "code",
        "outputId": "19f75369-c937-4900-9dbe-d49df3daeab2",
        "colab": {
          "base_uri": "https://localhost:8080/",
          "height": 34
        }
      },
      "source": [
        "df_trans_acc.shape"
      ],
      "execution_count": 8,
      "outputs": [
        {
          "output_type": "execute_result",
          "data": {
            "text/plain": [
              "(1056320, 13)"
            ]
          },
          "metadata": {
            "tags": []
          },
          "execution_count": 8
        }
      ]
    },
    {
      "cell_type": "markdown",
      "metadata": {
        "id": "SKm1030reAUJ",
        "colab_type": "text"
      },
      "source": [
        "9. Print the first 5 rows of df_disp using the method .head():"
      ]
    },
    {
      "cell_type": "code",
      "metadata": {
        "id": "98f8YCkO2q41",
        "colab_type": "code",
        "outputId": "6075942b-6bdb-42d8-a36f-3fcdd6e4d418",
        "colab": {
          "base_uri": "https://localhost:8080/",
          "height": 204
        }
      },
      "source": [
        "df_disp.head()"
      ],
      "execution_count": 9,
      "outputs": [
        {
          "output_type": "execute_result",
          "data": {
            "text/html": [
              "<div>\n",
              "<style scoped>\n",
              "    .dataframe tbody tr th:only-of-type {\n",
              "        vertical-align: middle;\n",
              "    }\n",
              "\n",
              "    .dataframe tbody tr th {\n",
              "        vertical-align: top;\n",
              "    }\n",
              "\n",
              "    .dataframe thead th {\n",
              "        text-align: right;\n",
              "    }\n",
              "</style>\n",
              "<table border=\"1\" class=\"dataframe\">\n",
              "  <thead>\n",
              "    <tr style=\"text-align: right;\">\n",
              "      <th></th>\n",
              "      <th>disp_id</th>\n",
              "      <th>client_id</th>\n",
              "      <th>account_id</th>\n",
              "      <th>type</th>\n",
              "    </tr>\n",
              "  </thead>\n",
              "  <tbody>\n",
              "    <tr>\n",
              "      <th>0</th>\n",
              "      <td>1</td>\n",
              "      <td>1</td>\n",
              "      <td>1</td>\n",
              "      <td>OWNER</td>\n",
              "    </tr>\n",
              "    <tr>\n",
              "      <th>1</th>\n",
              "      <td>2</td>\n",
              "      <td>2</td>\n",
              "      <td>2</td>\n",
              "      <td>OWNER</td>\n",
              "    </tr>\n",
              "    <tr>\n",
              "      <th>2</th>\n",
              "      <td>3</td>\n",
              "      <td>3</td>\n",
              "      <td>2</td>\n",
              "      <td>DISPONENT</td>\n",
              "    </tr>\n",
              "    <tr>\n",
              "      <th>3</th>\n",
              "      <td>4</td>\n",
              "      <td>4</td>\n",
              "      <td>3</td>\n",
              "      <td>OWNER</td>\n",
              "    </tr>\n",
              "    <tr>\n",
              "      <th>4</th>\n",
              "      <td>5</td>\n",
              "      <td>5</td>\n",
              "      <td>3</td>\n",
              "      <td>DISPONENT</td>\n",
              "    </tr>\n",
              "  </tbody>\n",
              "</table>\n",
              "</div>"
            ],
            "text/plain": [
              "   disp_id  client_id  account_id       type\n",
              "0        1          1           1      OWNER\n",
              "1        2          2           2      OWNER\n",
              "2        3          3           2  DISPONENT\n",
              "3        4          4           3      OWNER\n",
              "4        5          5           3  DISPONENT"
            ]
          },
          "metadata": {
            "tags": []
          },
          "execution_count": 9
        }
      ]
    },
    {
      "cell_type": "markdown",
      "metadata": {
        "id": "G7s1unPZeKBf",
        "colab_type": "text"
      },
      "source": [
        "We can see that the 'account_id' column doesn't contain unique identifier and this will add additional rows after the merge. Let's subset this DataFrame to only 'OWNER' type "
      ]
    },
    {
      "cell_type": "markdown",
      "metadata": {
        "id": "z5AISVx-fEqg",
        "colab_type": "text"
      },
      "source": [
        "10. Subset 'df_disp' to only keep the rows with 'OWNER' as type and save the results in a new DataFrame called 'df_disp_owner'"
      ]
    },
    {
      "cell_type": "code",
      "metadata": {
        "id": "ap--Zddi3KYG",
        "colab_type": "code",
        "colab": {}
      },
      "source": [
        "df_disp_owner = df_disp[df_disp['type'] == 'OWNER']"
      ],
      "execution_count": 0,
      "outputs": []
    },
    {
      "cell_type": "markdown",
      "metadata": {
        "id": "OJhUxtwrfONT",
        "colab_type": "text"
      },
      "source": [
        "11. Check the number of duplicates on the column 'account_id' of 'df_disp_owner' using the .duplicated() and .sum() methods"
      ]
    },
    {
      "cell_type": "code",
      "metadata": {
        "id": "8rvJpD6V3VWU",
        "colab_type": "code",
        "outputId": "e1a401cb-0623-4786-b0cb-822fb1c75467",
        "colab": {
          "base_uri": "https://localhost:8080/",
          "height": 34
        }
      },
      "source": [
        "df_disp_owner.duplicated(subset='account_id').sum()"
      ],
      "execution_count": 11,
      "outputs": [
        {
          "output_type": "execute_result",
          "data": {
            "text/plain": [
              "0"
            ]
          },
          "metadata": {
            "tags": []
          },
          "execution_count": 11
        }
      ]
    },
    {
      "cell_type": "markdown",
      "metadata": {
        "id": "0SadKKd_gklw",
        "colab_type": "text"
      },
      "source": [
        "Great! All account ids are unique now. Let's merge the DataFrames now."
      ]
    },
    {
      "cell_type": "markdown",
      "metadata": {
        "id": "eI8jIxXvgu7E",
        "colab_type": "text"
      },
      "source": [
        "12. Merge 'df_trans_acc' and 'df_disp_owner' together using left join on the column 'account_id'. Save the new DataFrame called 'df_trans_acc_disp' and print its shape."
      ]
    },
    {
      "cell_type": "code",
      "metadata": {
        "id": "aeshCYj63Ezw",
        "colab_type": "code",
        "outputId": "6cedd701-86b0-4b8b-aca1-4e8272d7f103",
        "colab": {
          "base_uri": "https://localhost:8080/",
          "height": 34
        }
      },
      "source": [
        "df_trans_acc_disp = pd.merge(df_trans_acc, df_disp_owner, how='left', on='account_id')\n",
        "df_trans_acc_disp.shape"
      ],
      "execution_count": 12,
      "outputs": [
        {
          "output_type": "execute_result",
          "data": {
            "text/plain": [
              "(1056320, 16)"
            ]
          },
          "metadata": {
            "tags": []
          },
          "execution_count": 12
        }
      ]
    },
    {
      "cell_type": "markdown",
      "metadata": {
        "id": "JCvQPv4OhC1K",
        "colab_type": "text"
      },
      "source": [
        "13. Print the first 5 rows of df_client using the method .head()"
      ]
    },
    {
      "cell_type": "code",
      "metadata": {
        "id": "J-_jUOwP3GGJ",
        "colab_type": "code",
        "outputId": "d65dc97d-4b67-467a-8a8b-2e4bcee01356",
        "colab": {
          "base_uri": "https://localhost:8080/",
          "height": 204
        }
      },
      "source": [
        "df_client.head()"
      ],
      "execution_count": 13,
      "outputs": [
        {
          "output_type": "execute_result",
          "data": {
            "text/html": [
              "<div>\n",
              "<style scoped>\n",
              "    .dataframe tbody tr th:only-of-type {\n",
              "        vertical-align: middle;\n",
              "    }\n",
              "\n",
              "    .dataframe tbody tr th {\n",
              "        vertical-align: top;\n",
              "    }\n",
              "\n",
              "    .dataframe thead th {\n",
              "        text-align: right;\n",
              "    }\n",
              "</style>\n",
              "<table border=\"1\" class=\"dataframe\">\n",
              "  <thead>\n",
              "    <tr style=\"text-align: right;\">\n",
              "      <th></th>\n",
              "      <th>client_id</th>\n",
              "      <th>birth_number</th>\n",
              "      <th>district_id</th>\n",
              "    </tr>\n",
              "  </thead>\n",
              "  <tbody>\n",
              "    <tr>\n",
              "      <th>0</th>\n",
              "      <td>1</td>\n",
              "      <td>706213</td>\n",
              "      <td>18</td>\n",
              "    </tr>\n",
              "    <tr>\n",
              "      <th>1</th>\n",
              "      <td>2</td>\n",
              "      <td>450204</td>\n",
              "      <td>1</td>\n",
              "    </tr>\n",
              "    <tr>\n",
              "      <th>2</th>\n",
              "      <td>3</td>\n",
              "      <td>406009</td>\n",
              "      <td>1</td>\n",
              "    </tr>\n",
              "    <tr>\n",
              "      <th>3</th>\n",
              "      <td>4</td>\n",
              "      <td>561201</td>\n",
              "      <td>5</td>\n",
              "    </tr>\n",
              "    <tr>\n",
              "      <th>4</th>\n",
              "      <td>5</td>\n",
              "      <td>605703</td>\n",
              "      <td>5</td>\n",
              "    </tr>\n",
              "  </tbody>\n",
              "</table>\n",
              "</div>"
            ],
            "text/plain": [
              "   client_id  birth_number  district_id\n",
              "0          1        706213           18\n",
              "1          2        450204            1\n",
              "2          3        406009            1\n",
              "3          4        561201            5\n",
              "4          5        605703            5"
            ]
          },
          "metadata": {
            "tags": []
          },
          "execution_count": 13
        }
      ]
    },
    {
      "cell_type": "markdown",
      "metadata": {
        "id": "aySlPX8WhCBw",
        "colab_type": "text"
      },
      "source": [
        "14. Merge 'df_trans_acc_disp' and 'df_client' together using left join on the columns 'client_id' and 'district_id'. Save the new DataFrame called 'df_merged' and print its shape."
      ]
    },
    {
      "cell_type": "code",
      "metadata": {
        "id": "35JidayO4C5X",
        "colab_type": "code",
        "outputId": "7a517eac-a8c8-4bf9-f807-a27b2959deea",
        "colab": {
          "base_uri": "https://localhost:8080/",
          "height": 34
        }
      },
      "source": [
        "df_merged = pd.merge(df_trans_acc_disp, df_client, how='left', on=['client_id', 'district_id'])\n",
        "df_merged.shape"
      ],
      "execution_count": 14,
      "outputs": [
        {
          "output_type": "execute_result",
          "data": {
            "text/plain": [
              "(1056320, 17)"
            ]
          },
          "metadata": {
            "tags": []
          },
          "execution_count": 14
        }
      ]
    },
    {
      "cell_type": "markdown",
      "metadata": {
        "id": "zqXOVjy8hbMl",
        "colab_type": "text"
      },
      "source": [
        "15. Print the columns names of df_merged using the attributes .columns"
      ]
    },
    {
      "cell_type": "code",
      "metadata": {
        "id": "8wGMCNV547RR",
        "colab_type": "code",
        "outputId": "d81a6e80-62b6-437f-d200-77d65eb3444f",
        "colab": {
          "base_uri": "https://localhost:8080/",
          "height": 85
        }
      },
      "source": [
        "df_merged.columns"
      ],
      "execution_count": 15,
      "outputs": [
        {
          "output_type": "execute_result",
          "data": {
            "text/plain": [
              "Index(['trans_id', 'account_id', 'date_x', 'type_x', 'operation', 'amount',\n",
              "       'balance', 'k_symbol', 'bank', 'account', 'district_id', 'frequency',\n",
              "       'date_y', 'disp_id', 'client_id', 'type_y', 'birth_number'],\n",
              "      dtype='object')"
            ]
          },
          "metadata": {
            "tags": []
          },
          "execution_count": 15
        }
      ]
    },
    {
      "cell_type": "markdown",
      "metadata": {
        "id": "QlNErVCthlJK",
        "colab_type": "text"
      },
      "source": [
        "16. Rename the columns 'date_x', 'type_x', 'date_y' and 'type_y' to respectively 'trans_date', 'trans_type', 'account_creation' and'client_type'"
      ]
    },
    {
      "cell_type": "code",
      "metadata": {
        "id": "2oyeYQnB5ODm",
        "colab_type": "code",
        "colab": {}
      },
      "source": [
        "df_merged.rename(columns={'date_x': 'trans_date', 'type_x': 'trans_type', 'date_y':'account_creation', 'type_y':'client_type'}, inplace=True)"
      ],
      "execution_count": 0,
      "outputs": []
    },
    {
      "cell_type": "markdown",
      "metadata": {
        "id": "mu30x7MHiMBQ",
        "colab_type": "text"
      },
      "source": [
        "17. Print the first 5 rows of df_merged using the method .head()"
      ]
    },
    {
      "cell_type": "code",
      "metadata": {
        "id": "tiPA68we6G-v",
        "colab_type": "code",
        "outputId": "d0132471-54d7-42fa-c0f9-a223201c4ea1",
        "colab": {
          "base_uri": "https://localhost:8080/",
          "height": 309
        }
      },
      "source": [
        "df_merged.head()"
      ],
      "execution_count": 17,
      "outputs": [
        {
          "output_type": "execute_result",
          "data": {
            "text/html": [
              "<div>\n",
              "<style scoped>\n",
              "    .dataframe tbody tr th:only-of-type {\n",
              "        vertical-align: middle;\n",
              "    }\n",
              "\n",
              "    .dataframe tbody tr th {\n",
              "        vertical-align: top;\n",
              "    }\n",
              "\n",
              "    .dataframe thead th {\n",
              "        text-align: right;\n",
              "    }\n",
              "</style>\n",
              "<table border=\"1\" class=\"dataframe\">\n",
              "  <thead>\n",
              "    <tr style=\"text-align: right;\">\n",
              "      <th></th>\n",
              "      <th>trans_id</th>\n",
              "      <th>account_id</th>\n",
              "      <th>trans_date</th>\n",
              "      <th>trans_type</th>\n",
              "      <th>operation</th>\n",
              "      <th>amount</th>\n",
              "      <th>balance</th>\n",
              "      <th>k_symbol</th>\n",
              "      <th>bank</th>\n",
              "      <th>account</th>\n",
              "      <th>district_id</th>\n",
              "      <th>frequency</th>\n",
              "      <th>account_creation</th>\n",
              "      <th>disp_id</th>\n",
              "      <th>client_id</th>\n",
              "      <th>client_type</th>\n",
              "      <th>birth_number</th>\n",
              "    </tr>\n",
              "  </thead>\n",
              "  <tbody>\n",
              "    <tr>\n",
              "      <th>0</th>\n",
              "      <td>695247</td>\n",
              "      <td>2378</td>\n",
              "      <td>930101</td>\n",
              "      <td>PRIJEM</td>\n",
              "      <td>VKLAD</td>\n",
              "      <td>700.0</td>\n",
              "      <td>700.0</td>\n",
              "      <td>NaN</td>\n",
              "      <td>NaN</td>\n",
              "      <td>NaN</td>\n",
              "      <td>16</td>\n",
              "      <td>POPLATEK MESICNE</td>\n",
              "      <td>930101</td>\n",
              "      <td>2873</td>\n",
              "      <td>2873</td>\n",
              "      <td>OWNER</td>\n",
              "      <td>755324.0</td>\n",
              "    </tr>\n",
              "    <tr>\n",
              "      <th>1</th>\n",
              "      <td>171812</td>\n",
              "      <td>576</td>\n",
              "      <td>930101</td>\n",
              "      <td>PRIJEM</td>\n",
              "      <td>VKLAD</td>\n",
              "      <td>900.0</td>\n",
              "      <td>900.0</td>\n",
              "      <td>NaN</td>\n",
              "      <td>NaN</td>\n",
              "      <td>NaN</td>\n",
              "      <td>55</td>\n",
              "      <td>POPLATEK MESICNE</td>\n",
              "      <td>930101</td>\n",
              "      <td>692</td>\n",
              "      <td>692</td>\n",
              "      <td>OWNER</td>\n",
              "      <td>NaN</td>\n",
              "    </tr>\n",
              "    <tr>\n",
              "      <th>2</th>\n",
              "      <td>207264</td>\n",
              "      <td>704</td>\n",
              "      <td>930101</td>\n",
              "      <td>PRIJEM</td>\n",
              "      <td>VKLAD</td>\n",
              "      <td>1000.0</td>\n",
              "      <td>1000.0</td>\n",
              "      <td>NaN</td>\n",
              "      <td>NaN</td>\n",
              "      <td>NaN</td>\n",
              "      <td>55</td>\n",
              "      <td>POPLATEK MESICNE</td>\n",
              "      <td>930101</td>\n",
              "      <td>844</td>\n",
              "      <td>844</td>\n",
              "      <td>OWNER</td>\n",
              "      <td>NaN</td>\n",
              "    </tr>\n",
              "    <tr>\n",
              "      <th>3</th>\n",
              "      <td>1117247</td>\n",
              "      <td>3818</td>\n",
              "      <td>930101</td>\n",
              "      <td>PRIJEM</td>\n",
              "      <td>VKLAD</td>\n",
              "      <td>600.0</td>\n",
              "      <td>600.0</td>\n",
              "      <td>NaN</td>\n",
              "      <td>NaN</td>\n",
              "      <td>NaN</td>\n",
              "      <td>74</td>\n",
              "      <td>POPLATEK MESICNE</td>\n",
              "      <td>930101</td>\n",
              "      <td>4601</td>\n",
              "      <td>4601</td>\n",
              "      <td>OWNER</td>\n",
              "      <td>NaN</td>\n",
              "    </tr>\n",
              "    <tr>\n",
              "      <th>4</th>\n",
              "      <td>579373</td>\n",
              "      <td>1972</td>\n",
              "      <td>930102</td>\n",
              "      <td>PRIJEM</td>\n",
              "      <td>VKLAD</td>\n",
              "      <td>400.0</td>\n",
              "      <td>400.0</td>\n",
              "      <td>NaN</td>\n",
              "      <td>NaN</td>\n",
              "      <td>NaN</td>\n",
              "      <td>77</td>\n",
              "      <td>POPLATEK MESICNE</td>\n",
              "      <td>930102</td>\n",
              "      <td>2397</td>\n",
              "      <td>2397</td>\n",
              "      <td>OWNER</td>\n",
              "      <td>NaN</td>\n",
              "    </tr>\n",
              "  </tbody>\n",
              "</table>\n",
              "</div>"
            ],
            "text/plain": [
              "   trans_id  account_id  trans_date  ... client_id client_type  birth_number\n",
              "0    695247        2378      930101  ...      2873       OWNER      755324.0\n",
              "1    171812         576      930101  ...       692       OWNER           NaN\n",
              "2    207264         704      930101  ...       844       OWNER           NaN\n",
              "3   1117247        3818      930101  ...      4601       OWNER           NaN\n",
              "4    579373        1972      930102  ...      2397       OWNER           NaN\n",
              "\n",
              "[5 rows x 17 columns]"
            ]
          },
          "metadata": {
            "tags": []
          },
          "execution_count": 17
        }
      ]
    },
    {
      "cell_type": "markdown",
      "metadata": {
        "id": "u2dvY6TRiU6g",
        "colab_type": "text"
      },
      "source": [
        "18. Print the data types of each column using the attribute .dtypes"
      ]
    },
    {
      "cell_type": "code",
      "metadata": {
        "id": "GV_1Jh4H6Qy4",
        "colab_type": "code",
        "outputId": "e29b101d-c5e3-4699-90a3-d8dba5a2c2fa",
        "colab": {
          "base_uri": "https://localhost:8080/",
          "height": 323
        }
      },
      "source": [
        "df_merged.dtypes"
      ],
      "execution_count": 18,
      "outputs": [
        {
          "output_type": "execute_result",
          "data": {
            "text/plain": [
              "trans_id              int64\n",
              "account_id            int64\n",
              "trans_date            int64\n",
              "trans_type           object\n",
              "operation            object\n",
              "amount              float64\n",
              "balance             float64\n",
              "k_symbol             object\n",
              "bank                 object\n",
              "account             float64\n",
              "district_id           int64\n",
              "frequency            object\n",
              "account_creation      int64\n",
              "disp_id               int64\n",
              "client_id             int64\n",
              "client_type          object\n",
              "birth_number        float64\n",
              "dtype: object"
            ]
          },
          "metadata": {
            "tags": []
          },
          "execution_count": 18
        }
      ]
    },
    {
      "cell_type": "markdown",
      "metadata": {
        "id": "bbWSI0ZKiiGL",
        "colab_type": "text"
      },
      "source": [
        "The columns 'trans_date' and 'account_creation' are integer. We need to convert into datetime."
      ]
    },
    {
      "cell_type": "markdown",
      "metadata": {
        "id": "Cxm1ieljifwe",
        "colab_type": "text"
      },
      "source": [
        "19. Convert the columns 'trans_date' and 'account_creation' using the .to_datetime() with the parameter format=\"%y%m%d\""
      ]
    },
    {
      "cell_type": "code",
      "metadata": {
        "id": "tLCnpFRU5lna",
        "colab_type": "code",
        "colab": {}
      },
      "source": [
        "df_merged['trans_date'] = pd.to_datetime(df_merged['trans_date'], format=\"%y%m%d\")\n",
        "df_merged['account_creation'] = pd.to_datetime(df_merged['account_creation'], format=\"%y%m%d\")"
      ],
      "execution_count": 0,
      "outputs": []
    },
    {
      "cell_type": "markdown",
      "metadata": {
        "id": "XyWRjFMYjJod",
        "colab_type": "text"
      },
      "source": [
        "20. Print the data types of each column using the attribute .dtypes"
      ]
    },
    {
      "cell_type": "code",
      "metadata": {
        "id": "6f791uGS6P25",
        "colab_type": "code",
        "outputId": "015dec7a-20dd-4dde-cdd7-a58c22b1e435",
        "colab": {
          "base_uri": "https://localhost:8080/",
          "height": 323
        }
      },
      "source": [
        "df_merged.dtypes"
      ],
      "execution_count": 20,
      "outputs": [
        {
          "output_type": "execute_result",
          "data": {
            "text/plain": [
              "trans_id                     int64\n",
              "account_id                   int64\n",
              "trans_date          datetime64[ns]\n",
              "trans_type                  object\n",
              "operation                   object\n",
              "amount                     float64\n",
              "balance                    float64\n",
              "k_symbol                    object\n",
              "bank                        object\n",
              "account                    float64\n",
              "district_id                  int64\n",
              "frequency                   object\n",
              "account_creation    datetime64[ns]\n",
              "disp_id                      int64\n",
              "client_id                    int64\n",
              "client_type                 object\n",
              "birth_number               float64\n",
              "dtype: object"
            ]
          },
          "metadata": {
            "tags": []
          },
          "execution_count": 20
        }
      ]
    },
    {
      "cell_type": "markdown",
      "metadata": {
        "id": "zWKwjPmajOjX",
        "colab_type": "text"
      },
      "source": [
        "We need to perform some transformations on the column 'birth_number' as it has a specific coding that includes date of birth of a person but also the sex.\n",
        "\n",
        "More details on this coding can be found here:\n",
        "https://data.world/lpetrocelli/czech-financial-dataset-real-anonymized-transactions/workspace/data-dictionary"
      ]
    },
    {
      "cell_type": "markdown",
      "metadata": {
        "id": "NcBKCY_6jLP3",
        "colab_type": "text"
      },
      "source": [
        "21. Create a new column called 'is_female' by performing the following calculation to extract the sex information: (df_merged['birth_number'] % 10000) / 5000 > 1"
      ]
    },
    {
      "cell_type": "code",
      "metadata": {
        "id": "p3Z3dB8h7lXd",
        "colab_type": "code",
        "colab": {}
      },
      "source": [
        "df_merged['is_female'] = (df_merged['birth_number'] % 10000) / 5000 > 1"
      ],
      "execution_count": 0,
      "outputs": []
    },
    {
      "cell_type": "markdown",
      "metadata": {
        "id": "s2OLiRBfl2v7",
        "colab_type": "text"
      },
      "source": [
        "22. Print out the first 5 rows of the column 'birth_number'"
      ]
    },
    {
      "cell_type": "code",
      "metadata": {
        "id": "4_Ml3J8f7PI_",
        "colab_type": "code",
        "outputId": "07471213-0c4e-4e2d-ff1e-1182452e2423",
        "colab": {
          "base_uri": "https://localhost:8080/",
          "height": 119
        }
      },
      "source": [
        "df_merged['birth_number'].head()"
      ],
      "execution_count": 22,
      "outputs": [
        {
          "output_type": "execute_result",
          "data": {
            "text/plain": [
              "0    755324.0\n",
              "1         NaN\n",
              "2         NaN\n",
              "3         NaN\n",
              "4         NaN\n",
              "Name: birth_number, dtype: float64"
            ]
          },
          "metadata": {
            "tags": []
          },
          "execution_count": 22
        }
      ]
    },
    {
      "cell_type": "markdown",
      "metadata": {
        "id": "LUuo6jtimFIL",
        "colab_type": "text"
      },
      "source": [
        "23. Transform all the rows with 'is_female' is True by removing the value in 'birth_number' by 5000"
      ]
    },
    {
      "cell_type": "code",
      "metadata": {
        "id": "X4yKolNl8ys8",
        "colab_type": "code",
        "colab": {}
      },
      "source": [
        "df_merged.loc[df_merged['is_female'] == True, 'birth_number'] -= 5000"
      ],
      "execution_count": 0,
      "outputs": []
    },
    {
      "cell_type": "markdown",
      "metadata": {
        "id": "9c7ZGDxImhDC",
        "colab_type": "text"
      },
      "source": [
        "24. Print out the first 5 rows of the column 'birth_number'"
      ]
    },
    {
      "cell_type": "code",
      "metadata": {
        "id": "HxWTe7zS91aB",
        "colab_type": "code",
        "outputId": "75c493cd-dad3-43d9-81aa-4ddf02eeee59",
        "colab": {
          "base_uri": "https://localhost:8080/",
          "height": 119
        }
      },
      "source": [
        "df_merged['birth_number'].head()"
      ],
      "execution_count": 24,
      "outputs": [
        {
          "output_type": "execute_result",
          "data": {
            "text/plain": [
              "0    750324.0\n",
              "1         NaN\n",
              "2         NaN\n",
              "3         NaN\n",
              "4         NaN\n",
              "Name: birth_number, dtype: float64"
            ]
          },
          "metadata": {
            "tags": []
          },
          "execution_count": 24
        }
      ]
    },
    {
      "cell_type": "markdown",
      "metadata": {
        "id": "PBI0F_dbmnQ1",
        "colab_type": "text"
      },
      "source": [
        "25. Convert the 'birth_number' column with the .to_datetime() method with the following parameters: format=\"%y%m%d\", errors='coerce'"
      ]
    },
    {
      "cell_type": "code",
      "metadata": {
        "id": "A8cKsZf86v9u",
        "colab_type": "code",
        "outputId": "df59d54b-c4bc-4ce6-9160-df30f5ebbc04",
        "colab": {
          "base_uri": "https://localhost:8080/",
          "height": 221
        }
      },
      "source": [
        "pd.to_datetime(df_merged['birth_number'], format=\"%y%m%d\", errors='coerce')"
      ],
      "execution_count": 25,
      "outputs": [
        {
          "output_type": "execute_result",
          "data": {
            "text/plain": [
              "0         1975-03-24\n",
              "1                NaT\n",
              "2                NaT\n",
              "3                NaT\n",
              "4                NaT\n",
              "             ...    \n",
              "1056315   2046-05-25\n",
              "1056316   2066-11-01\n",
              "1056317   2033-12-31\n",
              "1056318   2022-07-20\n",
              "1056319   2046-12-02\n",
              "Name: birth_number, Length: 1056320, dtype: datetime64[ns]"
            ]
          },
          "metadata": {
            "tags": []
          },
          "execution_count": 25
        }
      ]
    },
    {
      "cell_type": "markdown",
      "metadata": {
        "id": "Zogt8_r3nR5y",
        "colab_type": "text"
      },
      "source": [
        "Because the year was recorded with only 2 digits in this dataset, the date are sometime converted to either 1900 or 2000 years. We need to fix this issue."
      ]
    },
    {
      "cell_type": "markdown",
      "metadata": {
        "id": "hwIaFuakm4KI",
        "colab_type": "text"
      },
      "source": [
        "26. Convert the 'birth_number' column to string using .astype() method and print out the first 5 rows of the column 'birth_number'"
      ]
    },
    {
      "cell_type": "code",
      "metadata": {
        "id": "F6YkBC4eClRA",
        "colab_type": "code",
        "outputId": "1efef3a6-9533-4c79-cde2-311fcb97ac41",
        "colab": {
          "base_uri": "https://localhost:8080/",
          "height": 119
        }
      },
      "source": [
        "df_merged['birth_number'] = df_merged['birth_number'].astype(str)\n",
        "df_merged['birth_number'].head()"
      ],
      "execution_count": 26,
      "outputs": [
        {
          "output_type": "execute_result",
          "data": {
            "text/plain": [
              "0    750324.0\n",
              "1         nan\n",
              "2         nan\n",
              "3         nan\n",
              "4         nan\n",
              "Name: birth_number, dtype: object"
            ]
          },
          "metadata": {
            "tags": []
          },
          "execution_count": 26
        }
      ]
    },
    {
      "cell_type": "markdown",
      "metadata": {
        "id": "8naqCz8onIjG",
        "colab_type": "text"
      },
      "source": [
        "After the conversion to string, all missing values have been converted to a string with value 'nan'. Let's convert them back to proper missing values"
      ]
    },
    {
      "cell_type": "markdown",
      "metadata": {
        "id": "qH8DaOlVnq2l",
        "colab_type": "text"
      },
      "source": [
        "27. Import the numpy package and change the value of 'birth_number' for all rows with value 'nan' to np.nan. Print out the first 5 rows of the column 'birth_number'"
      ]
    },
    {
      "cell_type": "code",
      "metadata": {
        "id": "RkEYHyd4Dtz7",
        "colab_type": "code",
        "outputId": "4fee53d1-592f-425f-a743-eeb9ebfa25b1",
        "colab": {
          "base_uri": "https://localhost:8080/",
          "height": 119
        }
      },
      "source": [
        "import numpy as np\n",
        "df_merged.loc[df_merged['birth_number'] == 'nan', 'birth_number'] = np.nan\n",
        "df_merged['birth_number'].head()"
      ],
      "execution_count": 27,
      "outputs": [
        {
          "output_type": "execute_result",
          "data": {
            "text/plain": [
              "0    750324.0\n",
              "1         NaN\n",
              "2         NaN\n",
              "3         NaN\n",
              "4         NaN\n",
              "Name: birth_number, dtype: object"
            ]
          },
          "metadata": {
            "tags": []
          },
          "execution_count": 27
        }
      ]
    },
    {
      "cell_type": "markdown",
      "metadata": {
        "id": "1Q9C2hJdzBYq",
        "colab_type": "text"
      },
      "source": [
        "28. Add the prefix '19' to 'birth_number' for all rows that don't have missing values for this column"
      ]
    },
    {
      "cell_type": "code",
      "metadata": {
        "id": "y2LZf7Q3CIU7",
        "colab_type": "code",
        "outputId": "c450d103-9a30-428e-b0e5-58a35dd70d74",
        "colab": {
          "base_uri": "https://localhost:8080/",
          "height": 119
        }
      },
      "source": [
        "df_merged.loc[~df_merged['birth_number'].isna(), 'birth_number'] = '19' + df_merged.loc[~df_merged['birth_number'].isna(), 'birth_number']\n",
        "df_merged['birth_number'].head()"
      ],
      "execution_count": 28,
      "outputs": [
        {
          "output_type": "execute_result",
          "data": {
            "text/plain": [
              "0    19750324.0\n",
              "1           NaN\n",
              "2           NaN\n",
              "3           NaN\n",
              "4           NaN\n",
              "Name: birth_number, dtype: object"
            ]
          },
          "metadata": {
            "tags": []
          },
          "execution_count": 28
        }
      ]
    },
    {
      "cell_type": "markdown",
      "metadata": {
        "id": "UTJUf-HRzRvU",
        "colab_type": "text"
      },
      "source": [
        "29. Convert the 'birth_number' column with the .to_datetime() method with the following parameters: format=\"%y%m%d\", errors='coerce' and save the results back to 'birth_number'. Print out the first 20 rows of the column 'birth_number'"
      ]
    },
    {
      "cell_type": "code",
      "metadata": {
        "id": "14FMFck_D5pE",
        "colab_type": "code",
        "outputId": "c55ef12b-f24c-4a47-8ed4-8dc34d6b48f9",
        "colab": {
          "base_uri": "https://localhost:8080/",
          "height": 374
        }
      },
      "source": [
        "df_merged['birth_number'] = pd.to_datetime(df_merged['birth_number'], format=\"%Y%m%d\", errors='coerce')\n",
        "df_merged['birth_number'].head(20)"
      ],
      "execution_count": 29,
      "outputs": [
        {
          "output_type": "execute_result",
          "data": {
            "text/plain": [
              "0    1975-03-24\n",
              "1           NaT\n",
              "2           NaT\n",
              "3           NaT\n",
              "4           NaT\n",
              "5    1938-08-12\n",
              "6           NaT\n",
              "7    1979-03-24\n",
              "8    1971-03-02\n",
              "9           NaT\n",
              "10   1970-06-24\n",
              "11          NaT\n",
              "12          NaT\n",
              "13   1928-04-02\n",
              "14   1940-12-02\n",
              "15          NaT\n",
              "16   1925-08-30\n",
              "17          NaT\n",
              "18          NaT\n",
              "19   1978-06-27\n",
              "Name: birth_number, dtype: datetime64[ns]"
            ]
          },
          "metadata": {
            "tags": []
          },
          "execution_count": 29
        }
      ]
    },
    {
      "cell_type": "markdown",
      "metadata": {
        "id": "JEtGLX4nzipT",
        "colab_type": "text"
      },
      "source": [
        "Excellent we have fixed the year issue. We can now create a new feature that will calculate the age of the customer when his/her account was created"
      ]
    },
    {
      "cell_type": "markdown",
      "metadata": {
        "id": "GJyFzwTtz3vT",
        "colab_type": "text"
      },
      "source": [
        "30. Create a new column called 'age_at_creation' by substracting 'account_creation' to 'birth_number'"
      ]
    },
    {
      "cell_type": "code",
      "metadata": {
        "id": "UnOMNI5w5-jD",
        "colab_type": "code",
        "colab": {}
      },
      "source": [
        "df_merged['age_at_creation'] = df_merged['account_creation'] - df_merged['birth_number']"
      ],
      "execution_count": 0,
      "outputs": []
    },
    {
      "cell_type": "markdown",
      "metadata": {
        "id": "l3O_0ERq0D2A",
        "colab_type": "text"
      },
      "source": [
        "31. Convert the timedelta results in 'age_at_creation' by dividing it by np.timedelta64(1,'Y')"
      ]
    },
    {
      "cell_type": "code",
      "metadata": {
        "id": "DFt1MP-6E7cI",
        "colab_type": "code",
        "colab": {}
      },
      "source": [
        "df_merged['age_at_creation'] = df_merged['age_at_creation'] / np.timedelta64(1,'Y')"
      ],
      "execution_count": 0,
      "outputs": []
    },
    {
      "cell_type": "markdown",
      "metadata": {
        "id": "ZwrM3DAG0Sdy",
        "colab_type": "text"
      },
      "source": [
        "32. Convert 'age_at_creation' to integer using the .round() method. Print the first 5 rows of df_merged"
      ]
    },
    {
      "cell_type": "code",
      "metadata": {
        "id": "a_c3aRiiFzga",
        "colab_type": "code",
        "outputId": "b63356df-4e61-4c38-b002-a057de7a3f2a",
        "colab": {
          "base_uri": "https://localhost:8080/",
          "height": 309
        }
      },
      "source": [
        "df_merged['age_at_creation'] = df_merged['age_at_creation'].round()\n",
        "df_merged.head()"
      ],
      "execution_count": 32,
      "outputs": [
        {
          "output_type": "execute_result",
          "data": {
            "text/html": [
              "<div>\n",
              "<style scoped>\n",
              "    .dataframe tbody tr th:only-of-type {\n",
              "        vertical-align: middle;\n",
              "    }\n",
              "\n",
              "    .dataframe tbody tr th {\n",
              "        vertical-align: top;\n",
              "    }\n",
              "\n",
              "    .dataframe thead th {\n",
              "        text-align: right;\n",
              "    }\n",
              "</style>\n",
              "<table border=\"1\" class=\"dataframe\">\n",
              "  <thead>\n",
              "    <tr style=\"text-align: right;\">\n",
              "      <th></th>\n",
              "      <th>trans_id</th>\n",
              "      <th>account_id</th>\n",
              "      <th>trans_date</th>\n",
              "      <th>trans_type</th>\n",
              "      <th>operation</th>\n",
              "      <th>amount</th>\n",
              "      <th>balance</th>\n",
              "      <th>k_symbol</th>\n",
              "      <th>bank</th>\n",
              "      <th>account</th>\n",
              "      <th>district_id</th>\n",
              "      <th>frequency</th>\n",
              "      <th>account_creation</th>\n",
              "      <th>disp_id</th>\n",
              "      <th>client_id</th>\n",
              "      <th>client_type</th>\n",
              "      <th>birth_number</th>\n",
              "      <th>is_female</th>\n",
              "      <th>age_at_creation</th>\n",
              "    </tr>\n",
              "  </thead>\n",
              "  <tbody>\n",
              "    <tr>\n",
              "      <th>0</th>\n",
              "      <td>695247</td>\n",
              "      <td>2378</td>\n",
              "      <td>1993-01-01</td>\n",
              "      <td>PRIJEM</td>\n",
              "      <td>VKLAD</td>\n",
              "      <td>700.0</td>\n",
              "      <td>700.0</td>\n",
              "      <td>NaN</td>\n",
              "      <td>NaN</td>\n",
              "      <td>NaN</td>\n",
              "      <td>16</td>\n",
              "      <td>POPLATEK MESICNE</td>\n",
              "      <td>1993-01-01</td>\n",
              "      <td>2873</td>\n",
              "      <td>2873</td>\n",
              "      <td>OWNER</td>\n",
              "      <td>1975-03-24</td>\n",
              "      <td>True</td>\n",
              "      <td>18.0</td>\n",
              "    </tr>\n",
              "    <tr>\n",
              "      <th>1</th>\n",
              "      <td>171812</td>\n",
              "      <td>576</td>\n",
              "      <td>1993-01-01</td>\n",
              "      <td>PRIJEM</td>\n",
              "      <td>VKLAD</td>\n",
              "      <td>900.0</td>\n",
              "      <td>900.0</td>\n",
              "      <td>NaN</td>\n",
              "      <td>NaN</td>\n",
              "      <td>NaN</td>\n",
              "      <td>55</td>\n",
              "      <td>POPLATEK MESICNE</td>\n",
              "      <td>1993-01-01</td>\n",
              "      <td>692</td>\n",
              "      <td>692</td>\n",
              "      <td>OWNER</td>\n",
              "      <td>NaT</td>\n",
              "      <td>False</td>\n",
              "      <td>NaN</td>\n",
              "    </tr>\n",
              "    <tr>\n",
              "      <th>2</th>\n",
              "      <td>207264</td>\n",
              "      <td>704</td>\n",
              "      <td>1993-01-01</td>\n",
              "      <td>PRIJEM</td>\n",
              "      <td>VKLAD</td>\n",
              "      <td>1000.0</td>\n",
              "      <td>1000.0</td>\n",
              "      <td>NaN</td>\n",
              "      <td>NaN</td>\n",
              "      <td>NaN</td>\n",
              "      <td>55</td>\n",
              "      <td>POPLATEK MESICNE</td>\n",
              "      <td>1993-01-01</td>\n",
              "      <td>844</td>\n",
              "      <td>844</td>\n",
              "      <td>OWNER</td>\n",
              "      <td>NaT</td>\n",
              "      <td>False</td>\n",
              "      <td>NaN</td>\n",
              "    </tr>\n",
              "    <tr>\n",
              "      <th>3</th>\n",
              "      <td>1117247</td>\n",
              "      <td>3818</td>\n",
              "      <td>1993-01-01</td>\n",
              "      <td>PRIJEM</td>\n",
              "      <td>VKLAD</td>\n",
              "      <td>600.0</td>\n",
              "      <td>600.0</td>\n",
              "      <td>NaN</td>\n",
              "      <td>NaN</td>\n",
              "      <td>NaN</td>\n",
              "      <td>74</td>\n",
              "      <td>POPLATEK MESICNE</td>\n",
              "      <td>1993-01-01</td>\n",
              "      <td>4601</td>\n",
              "      <td>4601</td>\n",
              "      <td>OWNER</td>\n",
              "      <td>NaT</td>\n",
              "      <td>False</td>\n",
              "      <td>NaN</td>\n",
              "    </tr>\n",
              "    <tr>\n",
              "      <th>4</th>\n",
              "      <td>579373</td>\n",
              "      <td>1972</td>\n",
              "      <td>1993-01-02</td>\n",
              "      <td>PRIJEM</td>\n",
              "      <td>VKLAD</td>\n",
              "      <td>400.0</td>\n",
              "      <td>400.0</td>\n",
              "      <td>NaN</td>\n",
              "      <td>NaN</td>\n",
              "      <td>NaN</td>\n",
              "      <td>77</td>\n",
              "      <td>POPLATEK MESICNE</td>\n",
              "      <td>1993-01-02</td>\n",
              "      <td>2397</td>\n",
              "      <td>2397</td>\n",
              "      <td>OWNER</td>\n",
              "      <td>NaT</td>\n",
              "      <td>False</td>\n",
              "      <td>NaN</td>\n",
              "    </tr>\n",
              "  </tbody>\n",
              "</table>\n",
              "</div>"
            ],
            "text/plain": [
              "   trans_id  account_id trans_date  ... birth_number is_female  age_at_creation\n",
              "0    695247        2378 1993-01-01  ...   1975-03-24      True             18.0\n",
              "1    171812         576 1993-01-01  ...          NaT     False              NaN\n",
              "2    207264         704 1993-01-01  ...          NaT     False              NaN\n",
              "3   1117247        3818 1993-01-01  ...          NaT     False              NaN\n",
              "4    579373        1972 1993-01-02  ...          NaT     False              NaN\n",
              "\n",
              "[5 rows x 19 columns]"
            ]
          },
          "metadata": {
            "tags": []
          },
          "execution_count": 32
        }
      ]
    },
    {
      "cell_type": "markdown",
      "metadata": {
        "id": "8YlExsvyZp4P",
        "colab_type": "text"
      },
      "source": [
        "Well done! In this activity, we created new features by merging different tables together and manipulating date columns. We have now a much richer dataset with extra valuable information that can be fed to a Machine Learning model."
      ]
    }
  ]
}