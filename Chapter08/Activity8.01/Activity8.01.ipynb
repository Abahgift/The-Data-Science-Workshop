{
  "nbformat": 4,
  "nbformat_minor": 0,
  "metadata": {
    "colab": {
      "name": "Activity8.01.ipynb",
      "provenance": []
    },
    "kernelspec": {
      "name": "python3",
      "display_name": "Python 3"
    }
  },
  "cells": [
    {
      "cell_type": "code",
      "metadata": {
        "id": "D7JgAqboXaYz",
        "colab_type": "code",
        "colab": {}
      },
      "source": [
        "import pandas as pd\n"
      ],
      "execution_count": 0,
      "outputs": []
    },
    {
      "cell_type": "code",
      "metadata": {
        "id": "OkiK-cR1XkQY",
        "colab_type": "code",
        "colab": {}
      },
      "source": [
        "file_url = 'https://raw.githubusercontent.com/PacktWorkshops/The-Data-Science-Workshop/master/Chapter08/agaricus-lepiota.data'"
      ],
      "execution_count": 0,
      "outputs": []
    },
    {
      "cell_type": "code",
      "metadata": {
        "id": "rV4rlbk_X_Cx",
        "colab_type": "code",
        "colab": {}
      },
      "source": [
        "mushrooms = pd.read_csv(file_url, header=None)"
      ],
      "execution_count": 0,
      "outputs": []
    },
    {
      "cell_type": "code",
      "metadata": {
        "id": "-nC04CscYImK",
        "colab_type": "code",
        "colab": {}
      },
      "source": [
        "y_raw = mushrooms.iloc[:,0]\n",
        "X_raw = mushrooms.iloc[:,1:]\n",
        "y = (y_raw == 'p') * 1\n"
      ],
      "execution_count": 0,
      "outputs": []
    },
    {
      "cell_type": "code",
      "metadata": {
        "id": "_b7quE4PYLIZ",
        "colab_type": "code",
        "colab": {}
      },
      "source": [
        "from sklearn import preprocessing\n",
        "encoder = preprocessing.OneHotEncoder()\n",
        "\n",
        "encoder.fit(X_raw)\n",
        "\n",
        "X = encoder.transform(X_raw).toarray()\n"
      ],
      "execution_count": 0,
      "outputs": []
    },
    {
      "cell_type": "code",
      "metadata": {
        "id": "gIdVSmXOYPuC",
        "colab_type": "code",
        "colab": {
          "base_uri": "https://localhost:8080/",
          "height": 889
        },
        "outputId": "f27f27ea-6128-417d-db22-e72a2f529c5e"
      },
      "source": [
        "#Initialize the classifier.\n",
        "from sklearn import ensemble\n",
        "rfc = ensemble.RandomForestClassifier(n_estimators=100, random_state=100)\n",
        "\n",
        "#Conduct a grid search.\n",
        "from sklearn import model_selection\n",
        "grid = {\n",
        "    'criterion': ['gini', 'entropy'],\n",
        "    'max_features': [2, 4, 6, 8, 10, 12, 14]\n",
        "}\n",
        "gscv = model_selection.GridSearchCV(estimator=rfc, param_grid=grid, cv=5, scoring='accuracy')\n",
        "gscv.fit(X,y)\n",
        "results = pd.DataFrame(gscv.cv_results_)\n",
        "results.sort_values('rank_test_score', ascending=True).head(10)\n",
        "\n",
        "#Conduct a random search.\n",
        "from scipy import stats\n",
        "max_features = X.shape[1]\n",
        "param_dist = {\n",
        "    'criterion': ['gini', 'entropy'],\n",
        "    'max_features': stats.randint(low=1, high=max_features)\n",
        "}\n",
        "rscv = model_selection.RandomizedSearchCV(estimator=rfc, param_distributions=param_dist, n_iter=50, cv=5, scoring='accuracy', random_state=100)\n",
        "rscv.fit(X,y)\n",
        "results = pd.DataFrame(rscv.cv_results_)\n",
        "results.sort_values('rank_test_score', ascending=True).head(10)\n"
      ],
      "execution_count": 15,
      "outputs": [
        {
          "output_type": "execute_result",
          "data": {
            "text/html": [
              "<div>\n",
              "<style scoped>\n",
              "    .dataframe tbody tr th:only-of-type {\n",
              "        vertical-align: middle;\n",
              "    }\n",
              "\n",
              "    .dataframe tbody tr th {\n",
              "        vertical-align: top;\n",
              "    }\n",
              "\n",
              "    .dataframe thead th {\n",
              "        text-align: right;\n",
              "    }\n",
              "</style>\n",
              "<table border=\"1\" class=\"dataframe\">\n",
              "  <thead>\n",
              "    <tr style=\"text-align: right;\">\n",
              "      <th></th>\n",
              "      <th>mean_fit_time</th>\n",
              "      <th>std_fit_time</th>\n",
              "      <th>mean_score_time</th>\n",
              "      <th>std_score_time</th>\n",
              "      <th>param_criterion</th>\n",
              "      <th>param_max_features</th>\n",
              "      <th>params</th>\n",
              "      <th>split0_test_score</th>\n",
              "      <th>split1_test_score</th>\n",
              "      <th>split2_test_score</th>\n",
              "      <th>split3_test_score</th>\n",
              "      <th>split4_test_score</th>\n",
              "      <th>mean_test_score</th>\n",
              "      <th>std_test_score</th>\n",
              "      <th>rank_test_score</th>\n",
              "    </tr>\n",
              "  </thead>\n",
              "  <tbody>\n",
              "    <tr>\n",
              "      <th>6</th>\n",
              "      <td>1.301006</td>\n",
              "      <td>0.145874</td>\n",
              "      <td>0.018649</td>\n",
              "      <td>0.000799</td>\n",
              "      <td>gini</td>\n",
              "      <td>99</td>\n",
              "      <td>{'criterion': 'gini', 'max_features': 99}</td>\n",
              "      <td>1.000000</td>\n",
              "      <td>1.0</td>\n",
              "      <td>0.996308</td>\n",
              "      <td>1.0</td>\n",
              "      <td>0.745074</td>\n",
              "      <td>0.948276</td>\n",
              "      <td>0.101611</td>\n",
              "      <td>1</td>\n",
              "    </tr>\n",
              "    <tr>\n",
              "      <th>25</th>\n",
              "      <td>1.379076</td>\n",
              "      <td>0.130510</td>\n",
              "      <td>0.019421</td>\n",
              "      <td>0.001139</td>\n",
              "      <td>gini</td>\n",
              "      <td>106</td>\n",
              "      <td>{'criterion': 'gini', 'max_features': 106}</td>\n",
              "      <td>1.000000</td>\n",
              "      <td>1.0</td>\n",
              "      <td>0.996308</td>\n",
              "      <td>1.0</td>\n",
              "      <td>0.745074</td>\n",
              "      <td>0.948276</td>\n",
              "      <td>0.101611</td>\n",
              "      <td>1</td>\n",
              "    </tr>\n",
              "    <tr>\n",
              "      <th>29</th>\n",
              "      <td>1.450202</td>\n",
              "      <td>0.181256</td>\n",
              "      <td>0.018925</td>\n",
              "      <td>0.000592</td>\n",
              "      <td>gini</td>\n",
              "      <td>111</td>\n",
              "      <td>{'criterion': 'gini', 'max_features': 111}</td>\n",
              "      <td>1.000000</td>\n",
              "      <td>1.0</td>\n",
              "      <td>0.995692</td>\n",
              "      <td>1.0</td>\n",
              "      <td>0.739532</td>\n",
              "      <td>0.947045</td>\n",
              "      <td>0.103770</td>\n",
              "      <td>3</td>\n",
              "    </tr>\n",
              "    <tr>\n",
              "      <th>41</th>\n",
              "      <td>1.413311</td>\n",
              "      <td>0.165802</td>\n",
              "      <td>0.019399</td>\n",
              "      <td>0.000656</td>\n",
              "      <td>gini</td>\n",
              "      <td>105</td>\n",
              "      <td>{'criterion': 'gini', 'max_features': 105}</td>\n",
              "      <td>1.000000</td>\n",
              "      <td>1.0</td>\n",
              "      <td>0.996308</td>\n",
              "      <td>1.0</td>\n",
              "      <td>0.737685</td>\n",
              "      <td>0.946798</td>\n",
              "      <td>0.104567</td>\n",
              "      <td>4</td>\n",
              "    </tr>\n",
              "    <tr>\n",
              "      <th>10</th>\n",
              "      <td>1.407619</td>\n",
              "      <td>0.162515</td>\n",
              "      <td>0.019561</td>\n",
              "      <td>0.000364</td>\n",
              "      <td>gini</td>\n",
              "      <td>108</td>\n",
              "      <td>{'criterion': 'gini', 'max_features': 108}</td>\n",
              "      <td>1.000000</td>\n",
              "      <td>1.0</td>\n",
              "      <td>0.996308</td>\n",
              "      <td>1.0</td>\n",
              "      <td>0.737685</td>\n",
              "      <td>0.946798</td>\n",
              "      <td>0.104567</td>\n",
              "      <td>4</td>\n",
              "    </tr>\n",
              "    <tr>\n",
              "      <th>18</th>\n",
              "      <td>0.333631</td>\n",
              "      <td>0.013399</td>\n",
              "      <td>0.023233</td>\n",
              "      <td>0.000796</td>\n",
              "      <td>gini</td>\n",
              "      <td>5</td>\n",
              "      <td>{'criterion': 'gini', 'max_features': 5}</td>\n",
              "      <td>0.842462</td>\n",
              "      <td>1.0</td>\n",
              "      <td>1.000000</td>\n",
              "      <td>1.0</td>\n",
              "      <td>0.862685</td>\n",
              "      <td>0.941029</td>\n",
              "      <td>0.072507</td>\n",
              "      <td>6</td>\n",
              "    </tr>\n",
              "    <tr>\n",
              "      <th>15</th>\n",
              "      <td>0.351805</td>\n",
              "      <td>0.008639</td>\n",
              "      <td>0.024512</td>\n",
              "      <td>0.001421</td>\n",
              "      <td>gini</td>\n",
              "      <td>5</td>\n",
              "      <td>{'criterion': 'gini', 'max_features': 5}</td>\n",
              "      <td>0.842462</td>\n",
              "      <td>1.0</td>\n",
              "      <td>1.000000</td>\n",
              "      <td>1.0</td>\n",
              "      <td>0.862685</td>\n",
              "      <td>0.941029</td>\n",
              "      <td>0.072507</td>\n",
              "      <td>6</td>\n",
              "    </tr>\n",
              "    <tr>\n",
              "      <th>46</th>\n",
              "      <td>1.415277</td>\n",
              "      <td>0.156048</td>\n",
              "      <td>0.019376</td>\n",
              "      <td>0.000566</td>\n",
              "      <td>gini</td>\n",
              "      <td>107</td>\n",
              "      <td>{'criterion': 'gini', 'max_features': 107}</td>\n",
              "      <td>1.000000</td>\n",
              "      <td>1.0</td>\n",
              "      <td>0.996308</td>\n",
              "      <td>1.0</td>\n",
              "      <td>0.708128</td>\n",
              "      <td>0.940887</td>\n",
              "      <td>0.116388</td>\n",
              "      <td>8</td>\n",
              "    </tr>\n",
              "    <tr>\n",
              "      <th>49</th>\n",
              "      <td>0.388543</td>\n",
              "      <td>0.017453</td>\n",
              "      <td>0.020680</td>\n",
              "      <td>0.000988</td>\n",
              "      <td>entropy</td>\n",
              "      <td>11</td>\n",
              "      <td>{'criterion': 'entropy', 'max_features': 11}</td>\n",
              "      <td>0.842462</td>\n",
              "      <td>1.0</td>\n",
              "      <td>1.000000</td>\n",
              "      <td>1.0</td>\n",
              "      <td>0.860837</td>\n",
              "      <td>0.940660</td>\n",
              "      <td>0.072909</td>\n",
              "      <td>9</td>\n",
              "    </tr>\n",
              "    <tr>\n",
              "      <th>39</th>\n",
              "      <td>0.476013</td>\n",
              "      <td>0.015536</td>\n",
              "      <td>0.020850</td>\n",
              "      <td>0.001163</td>\n",
              "      <td>gini</td>\n",
              "      <td>18</td>\n",
              "      <td>{'criterion': 'gini', 'max_features': 18}</td>\n",
              "      <td>0.842462</td>\n",
              "      <td>1.0</td>\n",
              "      <td>1.000000</td>\n",
              "      <td>1.0</td>\n",
              "      <td>0.841749</td>\n",
              "      <td>0.936842</td>\n",
              "      <td>0.077353</td>\n",
              "      <td>10</td>\n",
              "    </tr>\n",
              "  </tbody>\n",
              "</table>\n",
              "</div>"
            ],
            "text/plain": [
              "    mean_fit_time  std_fit_time  ...  std_test_score  rank_test_score\n",
              "6        1.301006      0.145874  ...        0.101611                1\n",
              "25       1.379076      0.130510  ...        0.101611                1\n",
              "29       1.450202      0.181256  ...        0.103770                3\n",
              "41       1.413311      0.165802  ...        0.104567                4\n",
              "10       1.407619      0.162515  ...        0.104567                4\n",
              "18       0.333631      0.013399  ...        0.072507                6\n",
              "15       0.351805      0.008639  ...        0.072507                6\n",
              "46       1.415277      0.156048  ...        0.116388                8\n",
              "49       0.388543      0.017453  ...        0.072909                9\n",
              "39       0.476013      0.015536  ...        0.077353               10\n",
              "\n",
              "[10 rows x 15 columns]"
            ]
          },
          "metadata": {
            "tags": []
          },
          "execution_count": 15
        }
      ]
    },
    {
      "cell_type": "code",
      "metadata": {
        "id": "QVVAb9cjYfhh",
        "colab_type": "code",
        "colab": {
          "base_uri": "https://localhost:8080/",
          "height": 282
        },
        "outputId": "94a4bd34-512a-4813-e356-aaa03674b58b"
      },
      "source": [
        "results.loc[:,'params'] = results.loc[:,'params'].astype(str)\n",
        "\n",
        "(\n",
        "    results.sort_values('rank_test_score', ascending=False)\n",
        "    .loc[:,['params','mean_test_score']]\n",
        "    .drop_duplicates()\n",
        "    .head(10)\n",
        "    .plot.barh(x='params', xlim=(0.8))\n",
        ")"
      ],
      "execution_count": 16,
      "outputs": [
        {
          "output_type": "execute_result",
          "data": {
            "text/plain": [
              "<matplotlib.axes._subplots.AxesSubplot at 0x7f89d91fb358>"
            ]
          },
          "metadata": {
            "tags": []
          },
          "execution_count": 16
        },
        {
          "output_type": "display_data",
          "data": {
            "image/png": "[encoded data removed]",
            "text/plain": [
              "<Figure size 432x288 with 1 Axes>"
            ]
          },
          "metadata": {
            "tags": []
          }
        }
      ]
    }
  ]
}